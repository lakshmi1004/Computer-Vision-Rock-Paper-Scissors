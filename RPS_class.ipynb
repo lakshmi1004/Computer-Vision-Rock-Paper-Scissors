{
 "cells": [
  {
   "cell_type": "code",
   "execution_count": 2,
   "metadata": {},
   "outputs": [
    {
     "name": "stdout",
     "output_type": "stream",
     "text": [
      "(1) Rock\n",
      "(2) Paper\n",
      "(3) Scissors\n",
      "You chose scissors\n",
      "The computer chose paper\n",
      "Yes, scissors beat paper!\n"
     ]
    }
   ],
   "source": [
    "import random\n",
    "\n",
    "# Print the options:\n",
    "options = ['rock', 'paper', 'scissors']\n",
    "print('(1) Rock\\n(2) Paper\\n(3) Scissors')\n",
    "# Let the user choose\n",
    "human_choice = options[int(input('Enter the number of your choice: ')) - 1]\n",
    "# Print the user's choice\n",
    "print(f'You chose {human_choice}')\n",
    "# Make the computer choose one option amongst the options list\n",
    "computer_choice = random.choice(options)\n",
    "# print the computer's choice\n",
    "print(f'The computer chose {computer_choice}')\n",
    "# Print the results\n",
    "if human_choice == 'rock':\n",
    "    if computer_choice == 'paper':\n",
    "        print('Sorry, paper beat rock')\n",
    "    elif computer_choice == 'scissors':\n",
    "        print('Yes, rock beat scissors!')\n",
    "    else:\n",
    "        print('Draw!')\n",
    "elif human_choice == 'paper':\n",
    "    if computer_choice == 'scissors':\n",
    "        print('Sorry, scissors beat paper')\n",
    "    elif computer_choice == 'rock':\n",
    "        print('Yes, paper beat rock!')\n",
    "    else:\n",
    "        print('Draw!')\n",
    "elif human_choice == 'scissors':\n",
    "    if computer_choice == 'rock':\n",
    "        print('Sorry, rock beat scissors')\n",
    "    elif computer_choice == 'paper':\n",
    "        print('Yes, scissors beat paper!')\n",
    "    else:\n",
    "        print('Draw!')"
   ]
  },
  {
   "cell_type": "code",
   "execution_count": 4,
   "metadata": {},
   "outputs": [],
   "source": [
    "import random\n",
    "options = ['rock', 'paper', 'scissors']\n",
    "class RPS:\n",
    "\n",
    "    def __init__(self):\n",
    "        self.computer_choice = None\n",
    "        self.human_choice = None\n",
    "\n",
    "    def print_options(self):\n",
    "        print('(1) Rock\\n(2) Paper\\n(3) Scissors')\n",
    "\n",
    "    def get_human_choice(self):\n",
    "        choice = input('Enter the number of your choice: ')\n",
    "        return options[int(choice)-1]\n",
    "        \n",
    "    def get_computer_choice(self):\n",
    "        self.computer_choice = random.choice(options)\n",
    "        # print the computer's choice\n",
    "    \n",
    "    def print_choices(self):\n",
    "        self.human_choice = self.get_human_choice()\n",
    "        self.computer_choice = self.get_computer_choice()\n",
    "        #print_choices(human_choice, computer_choice)\n",
    "        #print_result(human_choice, computer_choice)\n",
    "        print(f'You chose {self.human_choice}')\n",
    "        print(f'The computer chose {self.computer_choice}')\n",
    "\n",
    "    def hc_rock(self):\n",
    "        if self.human_choice == 'rock':\n",
    "            if self.computer_choice == 'paper':\n",
    "                print('Sorry, paper beat rock')\n",
    "            elif self.computer_choice == 'scissors':\n",
    "                print('Yes, rock beat scissors!')\n",
    "            else:\n",
    "                print('Draw!')\n",
    "    \n",
    "    def hc_paper(self):\n",
    "        if self.human_choice == 'paper':\n",
    "            if self.computer_choice == 'scissors':\n",
    "                print('Sorry, scissors beat paper')\n",
    "            elif self.computer_choice == 'rock':\n",
    "                print('Yes, paper beat rock!')\n",
    "            else:\n",
    "                print('Draw!')\n",
    "    def hc_scissors(self):\n",
    "        if self.human_choice == 'scissors':\n",
    "            if self.computer_choice == 'rock':\n",
    "                print('Sorry, rock beat scissors')\n",
    "            elif self.computer_choice == 'paper':\n",
    "                print('Yes, scissors beat paper!')\n",
    "            else:\n",
    "                print('Draw!')\n",
    "    def simulate(self):\n",
    "        self.print_options()\n",
    "        self.get_human_choice()\n",
    "        self.get_computer_choice()\n",
    "        self.print_choices()\n",
    "        self.hc_paper()\n",
    "        self.hc_rock()\n",
    "        self.hc_scissors()\n",
    "\n",
    "\n",
    "\n"
   ]
  },
  {
   "cell_type": "code",
   "execution_count": 13,
   "metadata": {},
   "outputs": [
    {
     "name": "stdout",
     "output_type": "stream",
     "text": [
      "(1) Rock\n",
      "(2) Paper\n",
      "(3) Scissors\n"
     ]
    },
    {
     "ename": "TypeError",
     "evalue": "get_human_choice() missing 1 required positional argument: 'options'",
     "output_type": "error",
     "traceback": [
      "\u001b[0;31m---------------------------------------------------------------------------\u001b[0m",
      "\u001b[0;31mTypeError\u001b[0m                                 Traceback (most recent call last)",
      "\u001b[0;32m/tmp/ipykernel_70013/3430416265.py\u001b[0m in \u001b[0;36m<module>\u001b[0;34m\u001b[0m\n\u001b[1;32m      1\u001b[0m \u001b[0mgame\u001b[0m \u001b[0;34m=\u001b[0m \u001b[0mRPS\u001b[0m\u001b[0;34m(\u001b[0m\u001b[0;34m)\u001b[0m\u001b[0;34m\u001b[0m\u001b[0;34m\u001b[0m\u001b[0m\n\u001b[1;32m      2\u001b[0m \u001b[0mgame\u001b[0m\u001b[0;34m.\u001b[0m\u001b[0mprint_options\u001b[0m\u001b[0;34m(\u001b[0m\u001b[0;34m)\u001b[0m\u001b[0;34m\u001b[0m\u001b[0;34m\u001b[0m\u001b[0m\n\u001b[0;32m----> 3\u001b[0;31m \u001b[0mgame\u001b[0m\u001b[0;34m.\u001b[0m\u001b[0mget_human_choice\u001b[0m\u001b[0;34m(\u001b[0m\u001b[0;34m)\u001b[0m\u001b[0;34m\u001b[0m\u001b[0;34m\u001b[0m\u001b[0m\n\u001b[0m\u001b[1;32m      4\u001b[0m \u001b[0;31m#game.simulate()\u001b[0m\u001b[0;34m\u001b[0m\u001b[0;34m\u001b[0m\u001b[0m\n",
      "\u001b[0;31mTypeError\u001b[0m: get_human_choice() missing 1 required positional argument: 'options'"
     ]
    }
   ],
   "source": [
    "game = RPS()\n",
    "game.print_options()\n",
    "game.get_human_choice()\n",
    "#game.simulate()"
   ]
  },
  {
   "cell_type": "code",
   "execution_count": 1,
   "metadata": {},
   "outputs": [
    {
     "ename": "KeyboardInterrupt",
     "evalue": "",
     "output_type": "error",
     "traceback": [
      "\u001b[0;31m---------------------------------------------------------------------------\u001b[0m",
      "\u001b[0;31mKeyboardInterrupt\u001b[0m                         Traceback (most recent call last)",
      "\u001b[0;32m/tmp/ipykernel_45453/3178901867.py\u001b[0m in \u001b[0;36m<module>\u001b[0;34m\u001b[0m\n\u001b[1;32m      7\u001b[0m \u001b[0mfinal_time\u001b[0m \u001b[0;34m=\u001b[0m \u001b[0;36m5\u001b[0m\u001b[0;34m\u001b[0m\u001b[0;34m\u001b[0m\u001b[0m\n\u001b[1;32m      8\u001b[0m \u001b[0;32mwhile\u001b[0m \u001b[0;32mTrue\u001b[0m\u001b[0;34m:\u001b[0m\u001b[0;34m\u001b[0m\u001b[0;34m\u001b[0m\u001b[0m\n\u001b[0;32m----> 9\u001b[0;31m     \u001b[0mret\u001b[0m\u001b[0;34m,\u001b[0m \u001b[0mframe\u001b[0m \u001b[0;34m=\u001b[0m \u001b[0mcap\u001b[0m\u001b[0;34m.\u001b[0m\u001b[0mread\u001b[0m\u001b[0;34m(\u001b[0m\u001b[0;34m)\u001b[0m\u001b[0;34m\u001b[0m\u001b[0;34m\u001b[0m\u001b[0m\n\u001b[0m\u001b[1;32m     10\u001b[0m     \u001b[0;32mif\u001b[0m \u001b[0mcv2\u001b[0m\u001b[0;34m.\u001b[0m\u001b[0mwaitKey\u001b[0m\u001b[0;34m(\u001b[0m\u001b[0;36m33\u001b[0m\u001b[0;34m)\u001b[0m \u001b[0;34m==\u001b[0m \u001b[0mord\u001b[0m\u001b[0;34m(\u001b[0m\u001b[0;34m'a'\u001b[0m\u001b[0;34m)\u001b[0m\u001b[0;34m:\u001b[0m\u001b[0;34m\u001b[0m\u001b[0;34m\u001b[0m\u001b[0m\n\u001b[1;32m     11\u001b[0m         \u001b[0mcountdown\u001b[0m \u001b[0;34m=\u001b[0m \u001b[0;32mTrue\u001b[0m\u001b[0;34m\u001b[0m\u001b[0;34m\u001b[0m\u001b[0m\n",
      "\u001b[0;31mKeyboardInterrupt\u001b[0m: "
     ]
    }
   ],
   "source": [
    "import time\n",
    "import cv2\n",
    "countdown = False\n",
    "t_0 = time.time()\n",
    "timer = 0\n",
    "cap = cv2.VideoCapture(0)\n",
    "final_time = 5\n",
    "while True:\n",
    "    ret, frame = cap.read()\n",
    "    if cv2.waitKey(33) == ord('a'):\n",
    "        countdown = True\n",
    "        if countdown:\n",
    "            timer = time.time() - t_0\n",
    "        else:\n",
    "            t_0 = time.time()\n",
    "        if timer > 5:\n",
    "            countdown = False\n",
    "            timer = 0\n",
    "            cv2.putText(frame, str(final_time - timer), (100, 100), cv2.FONT_HERSHEY_SIMPLEX, 1, (0, 0, 255), 2)\n",
    "            cv2.imshow('frame', frame)\n",
    "    if cv2.waitKey(1) & 0xFF == ord('q'):\n",
    "        break\n",
    "    cap.release()\n",
    "    cv2.destroyAllWindows()\n",
    "    "
   ]
  }
 ],
 "metadata": {
  "interpreter": {
   "hash": "309d55093c20dde78e2d73e41541ecb833faa4b88249672f334c68656f50009c"
  },
  "kernelspec": {
   "display_name": "Python 3.9.7 ('selenium')",
   "language": "python",
   "name": "python3"
  },
  "language_info": {
   "codemirror_mode": {
    "name": "ipython",
    "version": 3
   },
   "file_extension": ".py",
   "mimetype": "text/x-python",
   "name": "python",
   "nbconvert_exporter": "python",
   "pygments_lexer": "ipython3",
   "version": "3.9.7"
  },
  "orig_nbformat": 4
 },
 "nbformat": 4,
 "nbformat_minor": 2
}
