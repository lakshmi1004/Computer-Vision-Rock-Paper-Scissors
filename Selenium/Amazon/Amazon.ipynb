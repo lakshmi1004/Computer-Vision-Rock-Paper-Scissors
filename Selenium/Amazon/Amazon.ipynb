{
 "cells": [
  {
   "cell_type": "code",
   "execution_count": 1,
   "metadata": {},
   "outputs": [
    {
     "name": "stderr",
     "output_type": "stream",
     "text": [
      "\n",
      "\n",
      "====== WebDriver manager ======\n",
      "Current google-chrome version is 98.0.4758\n",
      "Get LATEST chromedriver version for 98.0.4758 google-chrome\n",
      "Driver [/home/lakshmi/.wdm/drivers/chromedriver/linux64/98.0.4758.102/chromedriver] found in cache\n"
     ]
    }
   ],
   "source": [
    "from Amazon_scraper import Scraper\n",
    "from logging import exception\n",
    "from selenium import webdriver\n",
    "from webdriver_manager.chrome import ChromeDriverManager\n",
    "from selenium.webdriver import Chrome\n",
    "from selenium.webdriver.common.keys import Keys\n",
    "from selenium.webdriver.common.by import By\n",
    "from selenium.webdriver.support.ui import WebDriverWait\n",
    "from selenium.webdriver.support import expected_conditions as EC\n",
    "from selenium.common.exceptions import TimeoutException\n",
    "bot = Scraper()\n",
    "bot.cookies_accept()\n",
    "bot.search()\n",
    "bot.legobrand_checkbox()\n",
    "bot.age_checkbox()\n",
    "bot.customer_rating()\n",
    "\n",
    "\n",
    "\n"
   ]
  },
  {
   "cell_type": "code",
   "execution_count": 2,
   "metadata": {},
   "outputs": [
    {
     "ename": "InvalidSelectorException",
     "evalue": "Message: invalid selector: Unable to locate an element with the xpath expression //div[contains(@class=\"sg-col-4-of-12\")] because of the following error:\nSyntaxError: Failed to execute 'evaluate' on 'Document': The string '//div[contains(@class=\"sg-col-4-of-12\")]' is not a valid XPath expression.\n  (Session info: chrome=98.0.4758.102)\nStacktrace:\n#0 0x55ca23529b33 <unknown>\n#1 0x55ca22ff26d8 <unknown>\n#2 0x55ca22ff555c <unknown>\n#3 0x55ca22ff5356 <unknown>\n#4 0x55ca22ff560c <unknown>\n#5 0x55ca2302840f <unknown>\n#6 0x55ca230288b1 <unknown>\n#7 0x55ca2305b5b1 <unknown>\n#8 0x55ca2304608d <unknown>\n#9 0x55ca230592fb <unknown>\n#10 0x55ca23045f53 <unknown>\n#11 0x55ca2301ba0a <unknown>\n#12 0x55ca2301cad5 <unknown>\n#13 0x55ca2355b2fd <unknown>\n#14 0x55ca235744bb <unknown>\n#15 0x55ca2355d0d5 <unknown>\n#16 0x55ca23575145 <unknown>\n#17 0x55ca23550aaf <unknown>\n#18 0x55ca23591ba8 <unknown>\n#19 0x55ca23591d28 <unknown>\n#20 0x55ca235ac48d <unknown>\n#21 0x7f884dac2609 <unknown>\n",
     "output_type": "error",
     "traceback": [
      "\u001b[0;31m---------------------------------------------------------------------------\u001b[0m",
      "\u001b[0;31mInvalidSelectorException\u001b[0m                  Traceback (most recent call last)",
      "\u001b[1;32m/home/lakshmi/Documents/DS/Selenium/Amazon/Amazon.ipynb Cell 2'\u001b[0m in \u001b[0;36m<module>\u001b[0;34m\u001b[0m\n\u001b[0;32m----> <a href='vscode-notebook-cell:/home/lakshmi/Documents/DS/Selenium/Amazon/Amazon.ipynb#ch0000004?line=0'>1</a>\u001b[0m container \u001b[39m=\u001b[39m bot\u001b[39m.\u001b[39;49mfind_container()\n\u001b[1;32m      <a href='vscode-notebook-cell:/home/lakshmi/Documents/DS/Selenium/Amazon/Amazon.ipynb#ch0000004?line=1'>2</a>\u001b[0m \u001b[39mprint\u001b[39m(container)\n",
      "File \u001b[0;32m~/Documents/DS/Selenium/Amazon/Amazon_scraper.py:65\u001b[0m, in \u001b[0;36mScraper.find_container\u001b[0;34m(self)\u001b[0m\n\u001b[1;32m     <a href='file:///home/lakshmi/Documents/DS/Selenium/Amazon/Amazon_scraper.py?line=60'>61</a>\u001b[0m \u001b[39m'\u001b[39m\u001b[39m//*[@class=\u001b[39m\u001b[39m\"\u001b[39m\u001b[39msg-col-4-of-12\u001b[39m\u001b[39m\"\u001b[39m\u001b[39m]\u001b[39m\u001b[39m'\u001b[39m\n\u001b[1;32m     <a href='file:///home/lakshmi/Documents/DS/Selenium/Amazon/Amazon_scraper.py?line=61'>62</a>\u001b[0m \u001b[39m#sg-col-4-of-12 s-result-item s-asin sg-col-4-of-16 AdHolder sg-col s-widget-spacing-small sg-col-4-of-20\u001b[39;00m\n\u001b[1;32m     <a href='file:///home/lakshmi/Documents/DS/Selenium/Amazon/Amazon_scraper.py?line=62'>63</a>\u001b[0m \u001b[39m#'//*[@id=\"search\"]/div[1]/div[1]/div/span[3]/div[2]/div[2]'\u001b[39;00m\n\u001b[1;32m     <a href='file:///home/lakshmi/Documents/DS/Selenium/Amazon/Amazon_scraper.py?line=63'>64</a>\u001b[0m \u001b[39m#//*[@id=\"search\"]/div[1]/div[1]/div/span[3]/div[1]'\u001b[39;00m\n\u001b[0;32m---> <a href='file:///home/lakshmi/Documents/DS/Selenium/Amazon/Amazon_scraper.py?line=64'>65</a>\u001b[0m \u001b[39mreturn\u001b[39;00m \u001b[39mself\u001b[39;49m\u001b[39m.\u001b[39;49mdriver\u001b[39m.\u001b[39;49mfind_elements(By\u001b[39m.\u001b[39;49mXPATH, \u001b[39m'\u001b[39;49m\u001b[39m//div[contains(@class=\u001b[39;49m\u001b[39m\"\u001b[39;49m\u001b[39msg-col-4-of-12\u001b[39;49m\u001b[39m\"\u001b[39;49m\u001b[39m)]\u001b[39;49m\u001b[39m'\u001b[39;49m)\n",
      "File \u001b[0;32m~/anaconda3/envs/selenium/lib/python3.9/site-packages/selenium/webdriver/remote/webdriver.py:1279\u001b[0m, in \u001b[0;36mWebDriver.find_elements\u001b[0;34m(self, by, value)\u001b[0m\n\u001b[1;32m   <a href='file:///home/lakshmi/anaconda3/envs/selenium/lib/python3.9/site-packages/selenium/webdriver/remote/webdriver.py?line=1274'>1275</a>\u001b[0m     value \u001b[39m=\u001b[39m \u001b[39m'\u001b[39m\u001b[39m[name=\u001b[39m\u001b[39m\"\u001b[39m\u001b[39m%s\u001b[39;00m\u001b[39m\"\u001b[39m\u001b[39m]\u001b[39m\u001b[39m'\u001b[39m \u001b[39m%\u001b[39m value\n\u001b[1;32m   <a href='file:///home/lakshmi/anaconda3/envs/selenium/lib/python3.9/site-packages/selenium/webdriver/remote/webdriver.py?line=1276'>1277</a>\u001b[0m \u001b[39m# Return empty list if driver returns null\u001b[39;00m\n\u001b[1;32m   <a href='file:///home/lakshmi/anaconda3/envs/selenium/lib/python3.9/site-packages/selenium/webdriver/remote/webdriver.py?line=1277'>1278</a>\u001b[0m \u001b[39m# See https://github.com/SeleniumHQ/selenium/issues/4555\u001b[39;00m\n\u001b[0;32m-> <a href='file:///home/lakshmi/anaconda3/envs/selenium/lib/python3.9/site-packages/selenium/webdriver/remote/webdriver.py?line=1278'>1279</a>\u001b[0m \u001b[39mreturn\u001b[39;00m \u001b[39mself\u001b[39;49m\u001b[39m.\u001b[39;49mexecute(Command\u001b[39m.\u001b[39;49mFIND_ELEMENTS, {\n\u001b[1;32m   <a href='file:///home/lakshmi/anaconda3/envs/selenium/lib/python3.9/site-packages/selenium/webdriver/remote/webdriver.py?line=1279'>1280</a>\u001b[0m     \u001b[39m'\u001b[39;49m\u001b[39musing\u001b[39;49m\u001b[39m'\u001b[39;49m: by,\n\u001b[1;32m   <a href='file:///home/lakshmi/anaconda3/envs/selenium/lib/python3.9/site-packages/selenium/webdriver/remote/webdriver.py?line=1280'>1281</a>\u001b[0m     \u001b[39m'\u001b[39;49m\u001b[39mvalue\u001b[39;49m\u001b[39m'\u001b[39;49m: value})[\u001b[39m'\u001b[39m\u001b[39mvalue\u001b[39m\u001b[39m'\u001b[39m] \u001b[39mor\u001b[39;00m []\n",
      "File \u001b[0;32m~/anaconda3/envs/selenium/lib/python3.9/site-packages/selenium/webdriver/remote/webdriver.py:424\u001b[0m, in \u001b[0;36mWebDriver.execute\u001b[0;34m(self, driver_command, params)\u001b[0m\n\u001b[1;32m    <a href='file:///home/lakshmi/anaconda3/envs/selenium/lib/python3.9/site-packages/selenium/webdriver/remote/webdriver.py?line=421'>422</a>\u001b[0m response \u001b[39m=\u001b[39m \u001b[39mself\u001b[39m\u001b[39m.\u001b[39mcommand_executor\u001b[39m.\u001b[39mexecute(driver_command, params)\n\u001b[1;32m    <a href='file:///home/lakshmi/anaconda3/envs/selenium/lib/python3.9/site-packages/selenium/webdriver/remote/webdriver.py?line=422'>423</a>\u001b[0m \u001b[39mif\u001b[39;00m response:\n\u001b[0;32m--> <a href='file:///home/lakshmi/anaconda3/envs/selenium/lib/python3.9/site-packages/selenium/webdriver/remote/webdriver.py?line=423'>424</a>\u001b[0m     \u001b[39mself\u001b[39;49m\u001b[39m.\u001b[39;49merror_handler\u001b[39m.\u001b[39;49mcheck_response(response)\n\u001b[1;32m    <a href='file:///home/lakshmi/anaconda3/envs/selenium/lib/python3.9/site-packages/selenium/webdriver/remote/webdriver.py?line=424'>425</a>\u001b[0m     response[\u001b[39m'\u001b[39m\u001b[39mvalue\u001b[39m\u001b[39m'\u001b[39m] \u001b[39m=\u001b[39m \u001b[39mself\u001b[39m\u001b[39m.\u001b[39m_unwrap_value(\n\u001b[1;32m    <a href='file:///home/lakshmi/anaconda3/envs/selenium/lib/python3.9/site-packages/selenium/webdriver/remote/webdriver.py?line=425'>426</a>\u001b[0m         response\u001b[39m.\u001b[39mget(\u001b[39m'\u001b[39m\u001b[39mvalue\u001b[39m\u001b[39m'\u001b[39m, \u001b[39mNone\u001b[39;00m))\n\u001b[1;32m    <a href='file:///home/lakshmi/anaconda3/envs/selenium/lib/python3.9/site-packages/selenium/webdriver/remote/webdriver.py?line=426'>427</a>\u001b[0m     \u001b[39mreturn\u001b[39;00m response\n",
      "File \u001b[0;32m~/anaconda3/envs/selenium/lib/python3.9/site-packages/selenium/webdriver/remote/errorhandler.py:247\u001b[0m, in \u001b[0;36mErrorHandler.check_response\u001b[0;34m(self, response)\u001b[0m\n\u001b[1;32m    <a href='file:///home/lakshmi/anaconda3/envs/selenium/lib/python3.9/site-packages/selenium/webdriver/remote/errorhandler.py?line=244'>245</a>\u001b[0m         alert_text \u001b[39m=\u001b[39m value[\u001b[39m'\u001b[39m\u001b[39malert\u001b[39m\u001b[39m'\u001b[39m]\u001b[39m.\u001b[39mget(\u001b[39m'\u001b[39m\u001b[39mtext\u001b[39m\u001b[39m'\u001b[39m)\n\u001b[1;32m    <a href='file:///home/lakshmi/anaconda3/envs/selenium/lib/python3.9/site-packages/selenium/webdriver/remote/errorhandler.py?line=245'>246</a>\u001b[0m     \u001b[39mraise\u001b[39;00m exception_class(message, screen, stacktrace, alert_text)  \u001b[39m# type: ignore[call-arg]  # mypy is not smart enough here\u001b[39;00m\n\u001b[0;32m--> <a href='file:///home/lakshmi/anaconda3/envs/selenium/lib/python3.9/site-packages/selenium/webdriver/remote/errorhandler.py?line=246'>247</a>\u001b[0m \u001b[39mraise\u001b[39;00m exception_class(message, screen, stacktrace)\n",
      "\u001b[0;31mInvalidSelectorException\u001b[0m: Message: invalid selector: Unable to locate an element with the xpath expression //div[contains(@class=\"sg-col-4-of-12\")] because of the following error:\nSyntaxError: Failed to execute 'evaluate' on 'Document': The string '//div[contains(@class=\"sg-col-4-of-12\")]' is not a valid XPath expression.\n  (Session info: chrome=98.0.4758.102)\nStacktrace:\n#0 0x55ca23529b33 <unknown>\n#1 0x55ca22ff26d8 <unknown>\n#2 0x55ca22ff555c <unknown>\n#3 0x55ca22ff5356 <unknown>\n#4 0x55ca22ff560c <unknown>\n#5 0x55ca2302840f <unknown>\n#6 0x55ca230288b1 <unknown>\n#7 0x55ca2305b5b1 <unknown>\n#8 0x55ca2304608d <unknown>\n#9 0x55ca230592fb <unknown>\n#10 0x55ca23045f53 <unknown>\n#11 0x55ca2301ba0a <unknown>\n#12 0x55ca2301cad5 <unknown>\n#13 0x55ca2355b2fd <unknown>\n#14 0x55ca235744bb <unknown>\n#15 0x55ca2355d0d5 <unknown>\n#16 0x55ca23575145 <unknown>\n#17 0x55ca23550aaf <unknown>\n#18 0x55ca23591ba8 <unknown>\n#19 0x55ca23591d28 <unknown>\n#20 0x55ca235ac48d <unknown>\n#21 0x7f884dac2609 <unknown>\n"
     ]
    }
   ],
   "source": [
    "container = bot.find_container()\n",
    "print(container)"
   ]
  },
  {
   "cell_type": "code",
   "execution_count": null,
   "metadata": {},
   "outputs": [],
   "source": [
    "container.find_elements(By.XPATH,'./div')\n",
    "#print(list)"
   ]
  }
 ],
 "metadata": {
  "interpreter": {
   "hash": "309d55093c20dde78e2d73e41541ecb833faa4b88249672f334c68656f50009c"
  },
  "kernelspec": {
   "display_name": "Python 3.9.7 ('selenium')",
   "language": "python",
   "name": "python3"
  },
  "language_info": {
   "codemirror_mode": {
    "name": "ipython",
    "version": 3
   },
   "file_extension": ".py",
   "mimetype": "text/x-python",
   "name": "python",
   "nbconvert_exporter": "python",
   "pygments_lexer": "ipython3",
   "version": "3.9.7"
  },
  "orig_nbformat": 4
 },
 "nbformat": 4,
 "nbformat_minor": 2
}
