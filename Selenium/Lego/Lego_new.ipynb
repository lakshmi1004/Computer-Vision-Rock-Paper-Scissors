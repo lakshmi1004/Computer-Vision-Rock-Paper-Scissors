{
 "cells": [
  {
   "cell_type": "code",
   "execution_count": null,
   "metadata": {},
   "outputs": [],
   "source": [
    "from Legoscraper import Scraper\n",
    "from logging import exception\n",
    "from selenium.webdriver import Chrome\n",
    "from selenium.webdriver.common.keys import Keys\n",
    "from selenium.webdriver.common.by import By\n",
    "from selenium.webdriver.support.ui import WebDriverWait\n",
    "from selenium.webdriver.support import expected_conditions as EC\n",
    "from selenium.common.exceptions import TimeoutException  #used to debug the program \n",
    "from selenium.common.exceptions import NoSuchElementException #used to debug the program\n",
    "from webdriver_manager.chrome import ChromeDriverManager\n",
    "import time\n",
    "import pandas as pd\n",
    "from pandas import DataFrame\n",
    "import os\n",
    "import requests\n",
    "from bs4 import BeautifulSoup\n",
    "import uuid\n",
    "\n",
    "if __name__ == '__main__' : \n",
    "    bot = Scraper()\n",
    "    \n",
    "\n",
    "bot.lego_continue()\n",
    "bot.necessary_cookies()\n",
    "bot.shop()\n",
    "bot.sets_by_theme()"
   ]
  },
  {
   "cell_type": "code",
   "execution_count": null,
   "metadata": {},
   "outputs": [],
   "source": [
    "bot._Theme_container()"
   ]
  },
  {
   "cell_type": "code",
   "execution_count": null,
   "metadata": {},
   "outputs": [],
   "source": [
    "bot._Theme_extract_href()"
   ]
  },
  {
   "cell_type": "code",
   "execution_count": null,
   "metadata": {},
   "outputs": [],
   "source": [
    "bot._Extract_themewise_product_link()"
   ]
  },
  {
   "cell_type": "code",
   "execution_count": null,
   "metadata": {},
   "outputs": [],
   "source": [
    "\n",
    "bot.select_theme()\n",
    "bot.Availability()\n",
    "bot.check_available_now()"
   ]
  },
  {
   "cell_type": "markdown",
   "metadata": {},
   "source": []
  },
  {
   "cell_type": "code",
   "execution_count": null,
   "metadata": {},
   "outputs": [],
   "source": [
    "container = bot.driver.find_elements(\n",
    "            By.XPATH,'//div[@class=\"SubMenustyles__ChildrenMenu-lbil4s-6 hsBVqy\"]//following-sibling::div')\n",
    "print(container)\n",
    "#container = bot.driver.find_elements(By.Xpath)\n"
   ]
  },
  {
   "cell_type": "code",
   "execution_count": null,
   "metadata": {},
   "outputs": [],
   "source": [
    "Theme_href = []\n",
    "\n",
    "Theme_dict ={'[Lego_theme_link]':[],'Theme_name': []}\n",
    "for theme_link in container[0::]:\n",
    "    Theme_name = theme_link.find_element(By.TAG_NAME,'a').get_attribute('data-analytics-title')\n",
    "    Theme_dict['Theme_name'].append(Theme_name)\n",
    "    Lego_theme_link = theme_link.find_element(By.TAG_NAME,'a').get_attribute('href')\n",
    "    Theme_dict['Lego_theme_link'].append(Lego_theme_link)\n",
    "    Theme_href.append(theme_link.find_element(By.TAG_NAME,'a').get_attribute('href'))\n",
    "print (Theme_dict)"
   ]
  },
  {
   "cell_type": "code",
   "execution_count": null,
   "metadata": {},
   "outputs": [],
   "source": [
    "for href in Theme_href[0:1]:\n",
    "    bot.driver.get(href)\n",
    "print(href)\n",
    "try:\n",
    "    time.sleep(2)\n",
    "    WebDriverWait(bot.driver,10).until(EC.presence_of_element_located((By.XPATH, '//a[@data-test=\"pagination-show-all\"]')))\n",
    "    bot.driver.find_element(By.XPATH,'//a[@data-test=\"pagination-show-all\"]').click()\n",
    "except TimeoutException:\n",
    "            print(\"only one page lego product is available. No Show all button' is displayed\")\n",
    "\n",
    "    "
   ]
  },
  {
   "cell_type": "code",
   "execution_count": null,
   "metadata": {},
   "outputs": [],
   "source": [
    "bot.lego_product_links()"
   ]
  },
  {
   "cell_type": "code",
   "execution_count": null,
   "metadata": {},
   "outputs": [],
   "source": [
    "bot.lego_product_info()"
   ]
  },
  {
   "cell_type": "code",
   "execution_count": null,
   "metadata": {},
   "outputs": [],
   "source": [
    "#time.sleep(2)\n",
    "WebDriverWait(bot.driver,10).until(EC.presence_of_element_located((By.XPATH, '//a[@data-test=\"pagination-show-all\"]')))\n",
    "bot.driver.find_element(By.XPATH,'//a[@data-test=\"pagination-show-all\"]').click()\n",
    "\n"
   ]
  },
  {
   "cell_type": "code",
   "execution_count": null,
   "metadata": {},
   "outputs": [],
   "source": [
    "#containers\n",
    "WebDriverWait(bot.driver,30).until(EC.presence_of_element_located(By.XPATH,'//*[@data-test = \"product-item\"]'))\n",
    "list_items = bot.driver.find_elements(By.XPATH,'//*[@data-test = \"product-item\"]')\n",
    "print(list_items)"
   ]
  },
  {
   "cell_type": "code",
   "execution_count": null,
   "metadata": {},
   "outputs": [],
   "source": [
    "\n",
    "lego_links = []\n",
    "for legoitems_link in list_items:\n",
    "    lego_links.append(legoitems_link.find_element(By.TAG_NAME,'a').get_attribute('href'))\n",
    "lego_links"
   ]
  },
  {
   "cell_type": "code",
   "execution_count": null,
   "metadata": {},
   "outputs": [],
   "source": [
    "lego_links[0]"
   ]
  },
  {
   "cell_type": "code",
   "execution_count": null,
   "metadata": {},
   "outputs": [],
   "source": [
    "import uuid    \n",
    "Lego_dict = {\n",
    "    'Product_name':[], 'Prices':[], 'Product_link':[],\n",
    "    'Specification':[],'Age':[],'Pieces':[], 'Discount':[],\n",
    "    'Availability':[],'VIP_Points':[],\n",
    "    'Item_num':[],'Discount_price':[],'Flag':[],'UUID':[]}\n",
    "#Image_dict = {'lego_photos':[]}\n",
    "\n",
    "for link in lego_links[0:]:\n",
    "        bot.driver.get(link)\n",
    "        time.sleep(2)\n",
    "        Lego_dict['Product_link'].append(link)\n",
    "        #Lego_dict['UUID'].append(uuid)\n",
    "        #print('UUID for link')\n",
    "        try:\n",
    "            time.sleep(2)\n",
    "            Prices = bot.driver.find_element(By.XPATH,'//div[@data-test=\"product-leaf-price\"]')\n",
    "            Lego_dict['Prices'].append(Prices.text)\n",
    "            #Lego_dict['UUID'].append(uuid)\n",
    "            #print('UUID for prices')\n",
    "        except NoSuchElementException:\n",
    "                Lego_dict['Prices'].append('N/A')\n",
    "        try:\n",
    "            time.sleep(2)\n",
    "            Product_name = bot.driver.find_element(By.XPATH,'//h1[@data-test=\"product-overview-name\"]')\n",
    "            Lego_dict['Product_name'].append(Product_name.text)\n",
    "            \n",
    "        except NoSuchElementException:\n",
    "            Lego_dict['Product_name'].append('N/A')\n",
    "            #bot.driver.find_element(By.XPATH,'//span[@data-test=\"product-price\"]')\n",
    "        try:\n",
    "            Discount =bot.driver.find_element(By.XPATH,'//div[@data-test=\"sale-percentage\"]')\n",
    "            #Image_dict['lego_photos'].append(Pictures)\n",
    "            Lego_dict['Discount'].append(Discount.text)\n",
    "            print(Discount.text)\n",
    "        except NoSuchElementException:\n",
    "            Lego_dict['Discount'].append('No Discount')   \n",
    "        try:\n",
    "            lego_Age =bot.driver.find_element(By.XPATH,'//div[@data-test=\"ages-value\"]')\n",
    "                #Age = Age_xpath.get_attribute('span')\n",
    "            Lego_dict['Age'].append(lego_Age.text)\n",
    "            print(lego_Age.text)\n",
    "        \n",
    "        except NoSuchElementException:\n",
    "            Lego_dict['Age'].append('N/A')\n",
    "\n",
    "        try:\n",
    "            lego_Pieces = bot.driver.find_element(By.XPATH,'//div[@data-test=\"pieces-value\"]')\n",
    "            Lego_dict['Pieces'].append(lego_Pieces.text)\n",
    "            print(lego_Pieces.text)\n",
    "        except NoSuchElementException:\n",
    "            Lego_dict['Pieces'].append('Num of Pieces not available for this product ')\n",
    "        try:\n",
    "            Discount_Price = bot.driver.find_element(By.XPATH,'//div[@data-test=\"product-price-sale\"]')\n",
    "            Lego_dict['Discount_Price'].append(Discount_Price.text)\n",
    "            print(Discount_Price.text)\n",
    "        except NoSuchElementException:\n",
    "            Lego_dict['Discount_Price'].append('N/A')\n",
    "        try:\n",
    "            rating_xpath =bot.driver.find_element(By.XPATH,'//div[@class=\"RatingBarstyles__RatingContainer-sc-11ujyfe-2 fgbdIf\"]')\n",
    "            Rating = rating_xpath.get_attribute('title')\n",
    "            bot.Lego_dict['Ratings'].append(str(Rating))\n",
    "            print(Rating)\n",
    "        except NoSuchElementException:\n",
    "            bot.Lego_dict['Ratings'].append('N/A')\n",
    "\n",
    "        try:\n",
    "            Availability = bot.driver.find_element(By.XPATH,'//p[@data-test=\"product-overview-availability\"]')\n",
    "            bot.Lego_dict['Availability'].append(Availability.text)\n",
    "            print(Availability.text)\n",
    "        except NoSuchElementException:\n",
    "                bot.Lego_dict['Availability'].append('N/A')\n",
    "        try:\n",
    "            Item_num = bot.driver.find_element(By.XPATH,'//div[@data-test=\"item-value\"]')\n",
    "            bot.Lego_dict['Item_num'].append(Item_num.text)\n",
    "            print(Item_num.text)\n",
    "        except NoSuchElementException:\n",
    "            bot.Lego_dict['Item_num'].append('N/A')\n",
    "        try:\n",
    "            VIP_Points = bot.driver.find_element(By.XPATH,'//div[@data-test=\"vip-points-value\"]')\n",
    "            bot.Lego_dict['VIP_Points'].append(VIP_Points.text)\n",
    "            print(VIP_Points.text)\n",
    "        except NoSuchElementException:\n",
    "            bot.Lego_dict['VIP_Points'].append('N/A')\n",
    "        try:\n",
    "            bot.driver.find_element(By.XPATH,'//*[@id=\"pdp-specifications-accordion-title\"]/div/div/div[2]').click()\n",
    "            Specification = bot.driver.find_element(By.XPATH,'//div[@data-test=\"pdp-specifications-accordion-content-child\"]')\n",
    "            bot.Lego_dict['Specification'].append(Specification.text)\n",
    "            print(Specification.text)\n",
    "        \n",
    "        except:\n",
    "            bot.Lego_dict['Specification'].append('N/A')\n",
    "        \"\"\" Customer Review icon click function\"\"\"\n",
    "        bot.driver.find_element(By.XPATH,'//*[@id=\"pdp-reviews-accordion-title\"]/div/div/div[2]').click()\n",
    "\n",
    "        try:\n",
    "            Customer_Recommedation = bot.driver.find_element(By.XPATH,'//span[@class=\"Text__BaseText-sc-178efqu-0 JTzEP\"]')\n",
    "            bot.Lego_dict['Customer_Recommedation'].append(Customer_Recommedation.text)\n",
    "            print(Specification.text)\n",
    "            \n",
    "        except:\n",
    "            bot.Lego_dict['Customer_Recommedation'].append('No reviews')\n",
    "\n",
    "        try:\n",
    "            Play_Experience = bot.driver.find_element(By.XPATH,'//div[@class=\"Spacing-iay53v-0 dzdSmj\"]').getattribute('title')\n",
    "            bot.Lego_dict['Play_Experience'].append(Play_Experience.text)\n",
    "            print(Play_Experience.text)\n",
    "        except:\n",
    "            bot.Lego_dict['Play_Experience'].append('No reviews')\n",
    "        try:\n",
    "            Lego_dict['UUID'].append(uuid.uuid4())\n",
    "            print('UUID is',uuid.uuid4())\n",
    "        \n",
    "        except:\n",
    "            pass\n"
   ]
  },
  {
   "cell_type": "code",
   "execution_count": null,
   "metadata": {},
   "outputs": [],
   "source": [
    "os.mkdir(os.path.join(os.getcwd(),bot.selected_theme))\n",
    "Main_folder = os.getcwd()\n",
    "print(Main_folder)\n",
    "os.chdir(f'{Main_folder}/{bot.selected_theme}')\n",
    "category_dir = f'{Main_folder}/{bot.selected_theme}'\n",
    "\n",
    "print(category_dir)\n",
    "\n",
    "Image_dict = {'Lego_images' :[],'Image_UUID':[]}\n",
    "\n",
    "for link in lego_links[0:]:\n",
    "        bot.driver.get(link)\n",
    "                        \n",
    "        try:\n",
    "                time.sleep(1)\n",
    "                Product_name = bot.driver.find_element(By.XPATH,'//h1[@data-test=\"product-overview-name\"]')\n",
    "                lego_product_name = (Product_name.text).replace(' ','_').replace(',','').replace('-','')\n",
    "                print(lego_product_name)\n",
    "                os.mkdir(f'{category_dir}/{lego_product_name}')\n",
    "                os.chdir(os.path.join(os.getcwd(),lego_product_name))\n",
    "                \n",
    "                ul_class = bot.driver.find_element(By.XPATH,'//*[@id=\"main-content\"]/div/div[1]/div/div[1]/div[1]/div/div/div/div[1]/div/div[1]/ul')\n",
    "                all_li = ul_class.find_elements(By.XPATH,'//li//img')\n",
    "                print(all_li)\n",
    "                for li in all_li:\n",
    "                        \n",
    "                        img_container = bot.driver.find_element(By.XPATH,'//picture[@class = \"Picturestyles__Container-j8hf1d-0 bVuOVw LazyImagestyles__Picture-sc-1gcjd00-1 ddKWmr\"]')\n",
    "                        find_image = img_container.find_element(By.TAG_NAME,'img').get_attribute('src')\n",
    "                        print(find_image)\n",
    "                        Image_dict['Lego_images'].append(find_image)\n",
    "                \n",
    "                        #name = re.sub('\\s+','_',(Product_name.text))\n",
    "                        #os.mkdir(f'{category_dir}/{lego_product_name}')\n",
    "                        #os.chdir(os.path.join(os.getcwd(),lego_product_name))\n",
    "                        with open(lego_product_name +'.jpg','wb') as f:\n",
    "                                pict = requests.get(find_image)\n",
    "                                f.write(pict.content)\n",
    "                           \n",
    "                        next_image = \n",
    "        except NoSuchElementException:\n",
    "                        print('No images found')\n",
    "\n",
    "        try:\n",
    "                Image_dict['Image_UUID'].append(uuid.uuid4())\n",
    "                print('UUID is',uuid.uuid4())\n",
    "        except:\n",
    "                pass\n",
    "        os.chdir(category_dir)\n",
    "        #os.path.normpath(os.getcwd() + os.sep + os.pardir)"
   ]
  },
  {
   "cell_type": "code",
   "execution_count": null,
   "metadata": {},
   "outputs": [],
   "source": [
    "import json\n",
    "from uuid import UUID\n",
    "\n",
    "class UUIDEncoder(json.JSONEncoder):\n",
    "    def default(self, obj):\n",
    "        if isinstance(obj, UUID):\n",
    "            # if the obj is uuid, we simply return the value of uuid\n",
    "            return obj.hex\n",
    "        return json.JSONEncoder.default(self, obj)"
   ]
  },
  {
   "cell_type": "code",
   "execution_count": null,
   "metadata": {},
   "outputs": [],
   "source": [
    "import json\n",
    "import os\n",
    "#os.mkdir(os.path.join(os.getcwd)\n",
    "#os.getcwd()\n",
    "path = '/home/lakshmi/Documents/DS/Selenium/Lego/raw_data'\n",
    "os.mkdir(path)\n",
    "os.chdir(path)\n",
    "#L = json.dump(Lego_dict)\n",
    "#I = json.dump(Image_dict)\n",
    "#Lego_dict = MyEncoder.encode(Lego_dict)\n",
    "with open('data.json', 'w') as f:\n",
    "    f.write(json.dumps(Lego_dict,cls = UUIDEncoder,indent=4, sort_keys=True))\n",
    "    #f.write('\\\\n')\n",
    "    #f.write(json.dumps(Image_dict,cls = UUIDEncoder))\n",
    "    #f.write(I)\n",
    "#import json\n"
   ]
  },
  {
   "cell_type": "code",
   "execution_count": null,
   "metadata": {},
   "outputs": [],
   "source": [
    "import pandas as pd\n",
    "from pandas import DataFrame\n",
    "pd.DataFrame(Lego_dict)\n",
    "#pd.DataFrame(Image_dict)"
   ]
  },
  {
   "cell_type": "code",
   "execution_count": null,
   "metadata": {},
   "outputs": [],
   "source": [
    "os.mkdir(os.path.join(os.getcwd(), bot.selected_theme))\n",
    "category_folder = os.path.join(os.getcwd(), bot.selected_theme)\n",
    "print(category_folder)\n",
    "Image_dict = {'Lego_images' :[],'Image_UUID':[]}\n",
    "print(lego_links)\n",
    "import time\n",
    "for link in lego_links[0:]:\n",
    "        bot.driver.get(link)\n",
    "        try:\n",
    "                time.sleep(1)\n",
    "                Product_name = bot.driver.find_element(By.XPATH,'//h1[@data-test=\"product-overview-name\"]')\n",
    "                lego_product_name = (Product_name.text).replace(' ','_').replace(',','').replace('-','')\n",
    "                print(lego_product_name)\n",
    "                os.mkdir(f'{category_folder}/{lego_product_name}')\n",
    "                ul_class = bot.driver.find_element(By.XPATH,'//*[@id=\"main-content\"]/div/div[1]/div/div[1]/div[1]/div/div/div/div[1]/div/div[1]/ul')\n",
    "                all_li = ul_class.find_elements(By.XPATH,'//li//img')\n",
    "                print(all_li)\n",
    "                i = 0\n",
    "                for li in all_li:\n",
    "                        img_container = bot.driver.find_element(By.XPATH,'//picture[@class = \"Picturestyles__Container-j8hf1d-0 bVuOVw LazyImagestyles__Picture-sc-1gcjd00-1 ddKWmr\"]')\n",
    "                        find_image = img_container.find_element(By.TAG_NAME,'img').get_attribute('src')\n",
    "                        print(find_image)\n",
    "                        Image_dict['Lego_images'].append(find_image)\n",
    "                        print(f\"{category_folder}/{lego_product_name}\")\n",
    "                        with open(f\"{category_folder}/{lego_product_name}/{lego_product_name}{i}.jpg\",'wb') as f:\n",
    "                                pict = requests.get(find_image)\n",
    "                                f.write(pict.content)\n",
    "                        i +=1\n",
    "        except NoSuchElementException:\n",
    "                        print('No images found')"
   ]
  },
  {
   "cell_type": "code",
   "execution_count": null,
   "metadata": {},
   "outputs": [],
   "source": [
    "import json\n",
    "from pprint import PrettyPrinter\n",
    "sample_dict = {\n",
    "    \"user_id\": [1210, 2112],\n",
    "    \"employee_name\": [\"Blair\", \"Jimmy\"]\n",
    "}\n",
    "with open(\"test.json\") as outfile:\n",
    "    test = json.load(outfile)\n",
    "pp = PrettyPrinter(indent=2, compact=True)\n",
    "pp.pprint(test)\n"
   ]
  },
  {
   "cell_type": "code",
   "execution_count": null,
   "metadata": {},
   "outputs": [],
   "source": []
  }
 ],
 "metadata": {
  "interpreter": {
   "hash": "309d55093c20dde78e2d73e41541ecb833faa4b88249672f334c68656f50009c"
  },
  "kernelspec": {
   "display_name": "Python 3.9.7 ('selenium')",
   "language": "python",
   "name": "python3"
  },
  "language_info": {
   "codemirror_mode": {
    "name": "ipython",
    "version": 3
   },
   "file_extension": ".py",
   "mimetype": "text/x-python",
   "name": "python",
   "nbconvert_exporter": "python",
   "pygments_lexer": "ipython3",
   "version": "3.9.7"
  },
  "orig_nbformat": 4
 },
 "nbformat": 4,
 "nbformat_minor": 2
}
