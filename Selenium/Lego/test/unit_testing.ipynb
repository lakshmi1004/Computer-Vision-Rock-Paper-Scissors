{
 "cells": [
  {
   "cell_type": "code",
   "execution_count": 2,
   "metadata": {},
   "outputs": [
    {
     "ename": "AttributeError",
     "evalue": "module 'unittest' has no attribute 'Testcase'",
     "output_type": "error",
     "traceback": [
      "\u001b[0;31m---------------------------------------------------------------------------\u001b[0m",
      "\u001b[0;31mAttributeError\u001b[0m                            Traceback (most recent call last)",
      "\u001b[1;32m/home/lakshmi/Documents/DS/Selenium/Lego/test/unit_testing.ipynb Cell 1'\u001b[0m in \u001b[0;36m<module>\u001b[0;34m\u001b[0m\n\u001b[1;32m      <a href='vscode-notebook-cell:/home/lakshmi/Documents/DS/Selenium/Lego/test/unit_testing.ipynb#ch0000000?line=2'>3</a>\u001b[0m \u001b[39mfrom\u001b[39;00m \u001b[39mLegoscraper\u001b[39;00m \u001b[39mimport\u001b[39;00m Scraper\n\u001b[1;32m      <a href='vscode-notebook-cell:/home/lakshmi/Documents/DS/Selenium/Lego/test/unit_testing.ipynb#ch0000000?line=3'>4</a>\u001b[0m \u001b[39mfrom\u001b[39;00m \u001b[39mselenium\u001b[39;00m\u001b[39m.\u001b[39;00m\u001b[39mwebdriver\u001b[39;00m\u001b[39m.\u001b[39;00m\u001b[39mcommon\u001b[39;00m\u001b[39m.\u001b[39;00m\u001b[39mby\u001b[39;00m \u001b[39mimport\u001b[39;00m By\n\u001b[0;32m----> <a href='vscode-notebook-cell:/home/lakshmi/Documents/DS/Selenium/Lego/test/unit_testing.ipynb#ch0000000?line=5'>6</a>\u001b[0m \u001b[39mclass\u001b[39;00m \u001b[39mTest_Lego_Scraper\u001b[39;00m(unittest\u001b[39m.\u001b[39;49mTestcase):\n\u001b[1;32m      <a href='vscode-notebook-cell:/home/lakshmi/Documents/DS/Selenium/Lego/test/unit_testing.ipynb#ch0000000?line=6'>7</a>\u001b[0m     \u001b[39mdef\u001b[39;00m \u001b[39msetup\u001b[39m(\u001b[39mself\u001b[39m):\n\u001b[1;32m      <a href='vscode-notebook-cell:/home/lakshmi/Documents/DS/Selenium/Lego/test/unit_testing.ipynb#ch0000000?line=7'>8</a>\u001b[0m         \u001b[39mself\u001b[39m\u001b[39m.\u001b[39mbot \u001b[39m=\u001b[39m Legoscraper\u001b[39m.\u001b[39mScraper(\u001b[39m'\u001b[39m\u001b[39mMinions\u001b[39m\u001b[39m'\u001b[39m)\n",
      "File \u001b[0;32m~/anaconda3/envs/selenium/lib/python3.9/unittest/__init__.py:95\u001b[0m, in \u001b[0;36m__getattr__\u001b[0;34m(name)\u001b[0m\n\u001b[1;32m     <a href='file:///home/lakshmi/anaconda3/envs/selenium/lib/python3.9/unittest/__init__.py?line=92'>93</a>\u001b[0m     \u001b[39mfrom\u001b[39;00m \u001b[39m.\u001b[39;00m\u001b[39masync_case\u001b[39;00m \u001b[39mimport\u001b[39;00m IsolatedAsyncioTestCase\n\u001b[1;32m     <a href='file:///home/lakshmi/anaconda3/envs/selenium/lib/python3.9/unittest/__init__.py?line=93'>94</a>\u001b[0m     \u001b[39mreturn\u001b[39;00m IsolatedAsyncioTestCase\n\u001b[0;32m---> <a href='file:///home/lakshmi/anaconda3/envs/selenium/lib/python3.9/unittest/__init__.py?line=94'>95</a>\u001b[0m \u001b[39mraise\u001b[39;00m \u001b[39mAttributeError\u001b[39;00m(\u001b[39mf\u001b[39m\u001b[39m\"\u001b[39m\u001b[39mmodule \u001b[39m\u001b[39m{\u001b[39;00m\u001b[39m__name__\u001b[39m\u001b[39m!r}\u001b[39;00m\u001b[39m has no attribute \u001b[39m\u001b[39m{\u001b[39;00mname\u001b[39m!r}\u001b[39;00m\u001b[39m\"\u001b[39m)\n",
      "\u001b[0;31mAttributeError\u001b[0m: module 'unittest' has no attribute 'Testcase'"
     ]
    }
   ],
   "source": [
    "import unittest\n",
    "import Legoscraper\n",
    "from Legoscraper import Scraper\n",
    "from selenium.webdriver.common.by import By\n",
    "\n",
    "class Test_Lego_Scraper(unittest.Testcase):\n",
    "    def setup(self):\n",
    "        self.bot = Legoscraper.Scraper('Minions')\n",
    "    def test_open_webpage(self):\n",
    "        self.bot = open\n",
    "    def test_continue(self):\n",
    "        self.driver.find_element(By.XPATH, xpath).click()\n",
    "            \n",
    "\n",
    "    def teardown(self):\n",
    "        pass\n",
    "unittest.main(argv = [''], verbosity = 2, exit = False)\n",
    "if __name__ == '__main__':\n",
    "    unittest.main()\n",
    "\n"
   ]
  }
 ],
 "metadata": {
  "interpreter": {
   "hash": "309d55093c20dde78e2d73e41541ecb833faa4b88249672f334c68656f50009c"
  },
  "kernelspec": {
   "display_name": "Python 3.9.7 ('selenium')",
   "language": "python",
   "name": "python3"
  },
  "language_info": {
   "codemirror_mode": {
    "name": "ipython",
    "version": 3
   },
   "file_extension": ".py",
   "mimetype": "text/x-python",
   "name": "python",
   "nbconvert_exporter": "python",
   "pygments_lexer": "ipython3",
   "version": "3.9.7"
  },
  "orig_nbformat": 4
 },
 "nbformat": 4,
 "nbformat_minor": 2
}
