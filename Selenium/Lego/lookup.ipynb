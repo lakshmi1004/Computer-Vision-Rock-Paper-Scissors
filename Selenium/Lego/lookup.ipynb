{
 "cells": [
  {
   "cell_type": "code",
   "execution_count": 1,
   "metadata": {},
   "outputs": [
    {
     "name": "stderr",
     "output_type": "stream",
     "text": [
      "\n",
      "\n",
      "====== WebDriver manager ======\n",
      "Current google-chrome version is 101.0.4951\n",
      "Get LATEST chromedriver version for 101.0.4951 google-chrome\n",
      "Driver [/home/lakshmi/.wdm/drivers/chromedriver/linux64/101.0.4951.41/chromedriver] found in cache\n",
      "/tmp/ipykernel_22806/1710013845.py:34: DeprecationWarning: executable_path has been deprecated, please pass in a Service object\n",
      "  self.driver = Chrome(ChromeDriverManager().install())\n"
     ]
    }
   ],
   "source": [
    "from logging import exception\n",
    "from typing_extensions import Self\n",
    "from selenium.webdriver import Chrome\n",
    "from selenium.webdriver.common.keys import Keys\n",
    "from selenium.webdriver.common.by import By\n",
    "from selenium.webdriver.support.ui import WebDriverWait\n",
    "from selenium.webdriver.support import expected_conditions as EC\n",
    "from selenium.common.exceptions import TimeoutException\n",
    "from selenium.common.exceptions import NoSuchElementException #used to debug the program\n",
    "from webdriver_manager.chrome import ChromeDriverManager\n",
    "import time\n",
    "import pandas as pd\n",
    "from pandas import DataFrame\n",
    "import os\n",
    "import requests\n",
    "from bs4 import BeautifulSoup\n",
    "import uuid\n",
    "from uuid import UUID\n",
    "import json\n",
    "import urllib\n",
    "\n",
    "class Scraper():\n",
    "    \"\"\"This class is used to represent a Scraping the lego products like 'Minions', 'DUPLO','Technic','Disney'.\n",
    "\n",
    "    Attributes:\n",
    "        selected_theme: lego products eg:'Minions', 'DUPLO','Technic','Disney'.\n",
    "        \"\"\"\n",
    "    \n",
    "    def __init__(self, selected_theme :str, url:str = 'https://www.lego.com/en-gb'):\n",
    "        \"\"\" Initailising the theme\"\"\"\n",
    "        #self.selected_theme = selected_theme\n",
    "        self.selected_theme = selected_theme\n",
    "        #input('Choose a Theme name(Minions,Technics,DUPLO): ')\n",
    "        self.driver = Chrome(ChromeDriverManager().install())\n",
    "        self.driver.get(url + '/' + self.selected_theme)\n",
    "        self.driver.maximize_window()\n",
    "\n",
    "    def lego_continue(self):\n",
    "        \"\"\"This function is created to click the cookie button in the Webpage\"\"\"\n",
    "        xpath = '//*[@id=\"root\"]/div[5]/div/div/div[1]/div[1]/div/button'\n",
    "        try:\n",
    "            time.sleep(2)\n",
    "            WebDriverWait(self.driver,10).until(EC.presence_of_element_located((By.XPATH, xpath)))\n",
    "            self.driver.find_element(By.XPATH, xpath).click()\n",
    "        except TimeoutException:\n",
    "            print('no elements found')\n",
    "\n",
    "    def necessary_cookies(self):\n",
    "        \"\"\"This method is meant to click the necessary cookies\"\"\"\n",
    "        xpath = '//button[contains(@class,\"Button__Base-sc-1jdmsyi-0 eCVPKR\")]'\n",
    "        try:\n",
    "            #time.sleep(2)\n",
    "            WebDriverWait(self.driver,10).until(EC.presence_of_element_located((By.XPATH, xpath)))\n",
    "            self.driver.find_element(By.XPATH,xpath).click()\n",
    "        except TimeoutException:\n",
    "            print('no elements found')\n",
    "    \n",
    "    def Availability(self):\n",
    "        \"\"\"Check for availablility button\"\"\"\n",
    "        xpath = '//*[@id=\"product-facet-availability-accordion-title\"]/div'\n",
    "        try:\n",
    "            #time.sleep(2)\n",
    "            WebDriverWait(self.driver,10).until(EC.presence_of_element_located((By.XPATH, xpath)))\n",
    "            self.driver.find_element(By.XPATH,xpath).click()\n",
    "        except TimeoutException:\n",
    "            print('no elements found')\n",
    "    \n",
    "    def check_available_now(self):\n",
    "        \"\"\"Click Avaialbale now option\"\"\"\n",
    "        xpath ='//*[@id=\"product-facet-availability-accordion-content\"]/div/div/ul/li[1]/label/span'\n",
    "        try:\n",
    "            time.sleep(2)\n",
    "            WebDriverWait(self.driver,10).until(EC.presence_of_element_located((By.XPATH, xpath)))\n",
    "            self.driver.find_element(By.XPATH,xpath).click()\n",
    "        except TimeoutException:\n",
    "            print('no elements found')\n",
    "\n",
    "    def show_all(self):\n",
    "        \"\"\"This method clicks the 'show all' button in the page in order to display all the search result of the multile page\"\"\"\n",
    "        xpath = '//*[@id=\"blt441564c4a0c70d99\"]/section/div/div/div[3]/a'\n",
    "        #'//*[@id=\"blt5881a9b7772d3176\"]/section/div/div/div[3]/a'\n",
    "        try:\n",
    "            time.sleep(2)\n",
    "            WebDriverWait(self.driver,10).until(EC.presence_of_element_located((By.XPATH, xpath)))\n",
    "            self.driver.find_element(By.XPATH,xpath).click()\n",
    "        except TimeoutException:\n",
    "            print(\"only one page lego product is available. No Show all button' is displayed\")\n",
    "\n",
    "    def _lego_product_links(self)-> str:\n",
    "        \"\"\"List_item = finds the list of products or container.\n",
    "           Each list in the container get the href of each products of items in the container  \"\"\"\n",
    "        self.list_items = self.driver.find_elements(By.XPATH,'//*[@data-test = \"product-item\"]')\n",
    "        print(self.list_items)\n",
    "        self.lego_links = []\n",
    "        for legoitems_link in self.list_items[0:]:\n",
    "            self.lego_links.append(legoitems_link.find_element(By.TAG_NAME,'a').get_attribute('href'))\n",
    "        return self.lego_links\n",
    "    \n",
    "    def lego_product_info(self):\n",
    "        \"\"\"Click each lego product link and get the Product name , link, prices.\n",
    "            Update these info in lego_dict . Create each record unique to avoid copies using UUID\"\"\"\n",
    "        self.Lego_dict = {\n",
    "            'Product_name':[], 'Prices':[], 'Product_link':[],\n",
    "            'Ratings':[], 'Age':[],'Pieces':[],'Item_num':[],\n",
    "            'Availability':[],'UUID':[]\n",
    "        \n",
    "            }\n",
    "        \n",
    "        for link in self.lego_links[0:]:\n",
    "            self.driver.get(link)\n",
    "            time.sleep(2)\n",
    "            self.Lego_dict['Product_link'].append(link)\n",
    "            try:\n",
    "                Prices = self.driver.find_element(By.XPATH,'//div[@data-test=\"product-leaf-price\"]')\n",
    "                self.Lego_dict['Prices'].append(Prices.text)\n",
    "            except NoSuchElementException:\n",
    "                self.Lego_dict['Prices'].append('N/A')\n",
    "            try:\n",
    "                Product_name = self.driver.find_element(By.XPATH,'//h1[@data-test=\"product-overview-name\"]')\n",
    "                self.Lego_dict['Product_name'].append(Product_name.text)\n",
    "            except NoSuchElementException:\n",
    "                self.Lego_dict['Product_name'].append('N/A')\n",
    "    #bot.driver.find_element(By.XPATH,'//span[@data-test=\"product-price\"]')\n",
    "            try:\n",
    "                rating_xpath =self.driver.find_element(By.XPATH,'//div[@class=\"RatingBarstyles__RatingContainer-sc-11ujyfe-2 fgbdIf\"]')\n",
    "                Rating = rating_xpath.get_attribute('title')\n",
    "                self.Lego_dict['Ratings'].append(str(Rating))\n",
    "                print(Rating)\n",
    "            except NoSuchElementException:\n",
    "                self.Lego_dict['Ratings'].append('N/A')\n",
    "            try:\n",
    "                Age = self.driver.find_element(By.XPATH,'//div[@data-test=\"ages-value\"]')\n",
    "                #Age = Age_xpath.get_attribute('span')\n",
    "                self.Lego_dict['Age'].append(Age.text)\n",
    "                print(Age.text)\n",
    "            except NoSuchElementException:\n",
    "                self.Lego_dict['Age'].append('N/A')\n",
    "\n",
    "            try:\n",
    "                Pieces = self.driver.find_element(By.XPATH,'//div[@data-test=\"pieces-value\"]')\n",
    "                self.Lego_dict['Pieces'].append(Pieces.text)\n",
    "                print(Pieces.text)\n",
    "            except NoSuchElementException:\n",
    "                self.Lego_dict['Pieces'].append('N/A')\n",
    "            try:\n",
    "                Availability = self.driver.find_element(By.XPATH,'//p[@data-test=\"product-overview-availability\"]')\n",
    "                self.Lego_dict['Availability'].append(Availability.text)\n",
    "                print(Availability.text)\n",
    "            except NoSuchElementException:\n",
    "                self.Lego_dict['Pieces'].append('N/A')\n",
    "            try:\n",
    "                Item_num = self.driver.find_element(By.XPATH,'//div[@data-test=\"item-value\"]')\n",
    "                self.Lego_dict['Item_num'].append(Item_num.text)\n",
    "                print(Item_num.text)\n",
    "            except NoSuchElementException:\n",
    "                self.Lego_dict['Pieces'].append('N/A')\n",
    "            try:\n",
    "                self.Lego_dict['UUID'].append(str(uuid.uuid4()))\n",
    "                #print('UUID is',uuid.uuid4())\n",
    "            except:\n",
    "                pass\n",
    "    def Data_list(self):\n",
    "            \"\"\"Create a data table using panda for product info\"\"\"\n",
    "            return(print(pd.DataFrame(self.Lego_dict)))\n",
    "    \n",
    "    def customer_review(self):\n",
    "\n",
    "\n",
    "\n",
    "            \n",
    "    \n",
    "\n",
    "    def data_JSON(self):\n",
    "        \"\"\"Created a JSON file in the root folder clled 'raw_data'-->data.json\"\"\"\n",
    "        path = '/home/lakshmi/Documents/DS/Selenium/Lego/raw_data'\n",
    "        os.mkdir(path)\n",
    "        os.chdir(path)\n",
    "        #L = json.dump(Lego_dict)\n",
    "        #I = json.dump(Image_dict)\n",
    "        #Lego_dict = MyEncoder.encode(Lego_dict)\n",
    "        with open('data.json', 'w') as f:\n",
    "            f.write(json.dumps(self.Lego_dict,indent=4, sort_keys=True))\n",
    "            #f.write('\\\\n')\n",
    "            #f.write(json.dumps(self.Image_dict,cls = UUIDEncoder))\n",
    "            #f.write(I)\n",
    "if __name__ == '__main__' : \n",
    "   bot = Scraper('BOOST') "
   ]
  },
  {
   "cell_type": "code",
   "execution_count": 2,
   "metadata": {},
   "outputs": [],
   "source": [
    "bot.lego_continue()\n",
    "bot.necessary_cookies()\n",
    "#bot.look_for_search_bar()   \n",
    "#bot.send_keys_to_search_bar()\n",
    "#bot.Availability()\n",
    "#bot.check_available_now()\n",
    "\n"
   ]
  },
  {
   "cell_type": "code",
   "execution_count": 3,
   "metadata": {},
   "outputs": [
    {
     "name": "stdout",
     "output_type": "stream",
     "text": [
      "only one page lego product is available. No Show all button' is displayed\n"
     ]
    }
   ],
   "source": [
    "bot.show_all()"
   ]
  },
  {
   "cell_type": "code",
   "execution_count": 4,
   "metadata": {},
   "outputs": [
    {
     "name": "stdout",
     "output_type": "stream",
     "text": [
      "[<selenium.webdriver.remote.webelement.WebElement (session=\"a362ec8aa761cd02bb31339cbebd3d44\", element=\"2638b02e-6c91-41cd-979b-c9f6ab8c5f44\")>, <selenium.webdriver.remote.webelement.WebElement (session=\"a362ec8aa761cd02bb31339cbebd3d44\", element=\"7d24c243-f260-472b-a284-c97967dcd258\")>]\n"
     ]
    },
    {
     "data": {
      "text/plain": [
       "['https://www.lego.com/en-gb/product/boost-creative-toolbox-17101',\n",
       " 'https://www.lego.com/en-gb/categories/stem/empower-the-future?icmp=LP-SHD-Standard-MT_Disruptor_STEM_Feature_Shop-PP-MT-278BUA46NS']"
      ]
     },
     "execution_count": 4,
     "metadata": {},
     "output_type": "execute_result"
    }
   ],
   "source": [
    "bot._lego_product_links() "
   ]
  },
  {
   "cell_type": "code",
   "execution_count": 5,
   "metadata": {},
   "outputs": [
    {
     "name": "stdout",
     "output_type": "stream",
     "text": [
      "3.7\n",
      "<selenium.webdriver.remote.webelement.WebElement (session=\"a362ec8aa761cd02bb31339cbebd3d44\", element=\"c2fa3973-4e87-4d59-bee7-1f78c294a5e8\")>\n",
      "4.7\n",
      "<selenium.webdriver.remote.webelement.WebElement (session=\"a362ec8aa761cd02bb31339cbebd3d44\", element=\"0b390005-724b-4c23-b027-d0fe5b496219\")>\n"
     ]
    }
   ],
   "source": [
    "bot.lego_product_info()"
   ]
  },
  {
   "cell_type": "code",
   "execution_count": 6,
   "metadata": {},
   "outputs": [
    {
     "name": "stdout",
     "output_type": "stream",
     "text": [
      "             Product_name          Prices  \\\n",
      "0  BOOST Creative Toolbox  Price\\n£114.99   \n",
      "1                     N/A  Price\\n£159.99   \n",
      "\n",
      "                                        Product_link Ratings Age  \\\n",
      "0  https://www.lego.com/en-gb/product/boost-creat...     3.7       \n",
      "1  https://www.lego.com/en-gb/categories/stem/emp...     4.7       \n",
      "\n",
      "                                              Pieces  \\\n",
      "0  <selenium.webdriver.remote.webelement.WebEleme...   \n",
      "1                                                N/A   \n",
      "\n",
      "                                   UUID  \n",
      "0  c18f73b4-d012-409c-86fb-91764ca292b0  \n",
      "1  771a26b5-0917-4dd1-b084-a28e16916e86  \n"
     ]
    }
   ],
   "source": [
    "bot.Data_list()"
   ]
  },
  {
   "cell_type": "code",
   "execution_count": null,
   "metadata": {},
   "outputs": [],
   "source": [
    "bot.data_JSON()"
   ]
  },
  {
   "cell_type": "code",
   "execution_count": null,
   "metadata": {},
   "outputs": [],
   "source": [
    "def lego_image_downloader(self):\n",
    "        \"\"\"Download Firsts image from the lego products and update it as list in image_dict with UUID\"\"\"\n",
    "\n",
    "        os.mkdir(os.path.join(os.getcwd(),self.selected_theme))\n",
    "        category_folder = os.path.join(os.getcwd(), bot.selected_theme)\n",
    "        os.chdir(os.path.join(os.getcwd(),self.selected_theme))\n",
    "\n",
    "        self.Image_dict = {'Lego_images' :[],'Image_UUID':[]}\n",
    "\n",
    "        for link in self.lego_links[0:]:\n",
    "                self.driver.get(link)\n",
    "                \n",
    "                try:\n",
    "                            \n",
    "                    time.sleep(1)\n",
    "                    Product_name = bot.driver.find_element(By.XPATH,'//h1[@data-test=\"product-overview-name\"]')\n",
    "                    lego_product_name = (Product_name.text).replace(' ','_').replace(',','').replace('-','')\n",
    "                    os.mkdir(f'{category_folder}/{lego_product_name}')\n",
    "                    ul_class = bot.driver.find_element(By.XPATH,'//*[@id=\"main-content\"]/div/div[1]/div/div[1]/div[1]/div/div/div/div[1]/div/div[1]/ul')\n",
    "                    all_li = ul_class.find_elements(By.XPATH,'//li//img')\n",
    "                    print(all_li)\n",
    "                    i = 0\n",
    "                    for li in all_li:\n",
    "                        #img_container = bot.driver.find_element(By.XPATH,'//picture[@class = \"Picturestyles__Container-j8hf1d-0 bVuOVw LazyImagestyles__Picture-sc-1gcjd00-1 ddKWmr\"]')\n",
    "                        find_image = all_li.find_element(By.TAG_NAME,'img').get_attribute('src')\n",
    "                        print(find_image)\n",
    "                        self.Image_dict['Lego_images'].append(find_image)\n",
    "                        print(f\"{category_folder}/{lego_product_name}\")\n",
    "                        with open(f\"{category_folder}/{lego_product_name}/{lego_product_name}{i}.jpg\",'wb') as f:\n",
    "                                pict = requests.get(find_image)\n",
    "                                f.write(pict.content)\n",
    "                    \n",
    "\n",
    "                except NoSuchElementException:\n",
    "                        print('No images found')\n",
    "\n",
    "                try:\n",
    "                    self.Image_dict['Image_UUID'].append(str(uuid.uuid4()))\n",
    "                    print('UUID is',uuid.uuid4())\n",
    "                except:\n",
    "                        pass"
   ]
  },
  {
   "cell_type": "code",
   "execution_count": null,
   "metadata": {},
   "outputs": [],
   "source": [
    "import pandas as pd\n",
    "\n",
    "print(pd.__doc__)"
   ]
  }
 ],
 "metadata": {
  "interpreter": {
   "hash": "309d55093c20dde78e2d73e41541ecb833faa4b88249672f334c68656f50009c"
  },
  "kernelspec": {
   "display_name": "Python 3.9.7 ('selenium')",
   "language": "python",
   "name": "python3"
  },
  "language_info": {
   "codemirror_mode": {
    "name": "ipython",
    "version": 3
   },
   "file_extension": ".py",
   "mimetype": "text/x-python",
   "name": "python",
   "nbconvert_exporter": "python",
   "pygments_lexer": "ipython3",
   "version": "3.9.7"
  },
  "orig_nbformat": 4
 },
 "nbformat": 4,
 "nbformat_minor": 2
}
