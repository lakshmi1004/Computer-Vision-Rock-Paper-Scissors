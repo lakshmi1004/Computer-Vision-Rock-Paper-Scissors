{
 "cells": [
  {
   "cell_type": "code",
   "execution_count": null,
   "metadata": {},
   "outputs": [],
   "source": [
    "import time\n",
    "#Image_dict = {'Lego_images' :[]}\n",
    "for link in lego_links[0:1]:\n",
    "        bot.driver.get(link)\n",
    "        Product_name = bot.driver.find_element(By.XPATH,'//h1[@data-test=\"product-overview-name\"]')\n",
    "        name = (Product_name.text).replace(' ','_').replace(',','').replace('-','')\n",
    "        ul_class = bot.driver.find_element(By.XPATH,'//*[@id=\"main-content\"]/div/div[1]/div/div[1]/div[1]/div/div/div/div[1]/div/div[1]/ul')\n",
    "        all_li = ul_class.find_elements(By.XPATH,'//li[@class=\"ThumbnailsTrackstyles__Thumbnail-sc-141n2vw-5 kRrafj\"]')\n",
    "        print(len(all_li))\n",
    "        i=1\n",
    "        for li in range(i,len(all_li) +1,1):\n",
    "                #bot.driver.get(li)\n",
    "                \n",
    "                \n",
    "                xpath = f'//*[@id=\"main-content\"]/div/div[1]/div/div[1]/div[1]/div/div/div/div[2]/div/div/div/ol/li[{i}]/button/img'   \n",
    "                                                                                                                              #time.sleep(2)\n",
    "                WebDriverWait(bot.driver,10).until(EC.presence_of_element_located((By.XPATH, xpath)))\n",
    "                click_li =  bot.driver.find_element(By.XPATH,xpath).click()\n",
    "                        \n",
    "                        #click_li = bot.driver.find_element(By.XPATH,xpath).click()\n",
    "                        #i +=1\n",
    "                       # //*[@id=\"main-content\"]/div/div[1]/div/div[1]/div[1]/div/div/div/div[2]/div/div/div/ol/li[1]/button\n",
    "                        #'//button[@data-test=\"mediaviewer-thumbnail\"]').click()\n",
    "                        #'//*[@class =\"Imagestyles__Img-m2o9tb-0 jyexzd Thumbnail__StyledImage-e7z052-1 vTyKJ\"]').click()\n",
    "                        #'//div[@data-test=\"mediaviewer-image-clicktarget\"]').click()\n",
    "                        #\n",
    "                img_container = bot.driver.find_element(By.XPATH,'//picture[@class = \"Picturestyles__Container-j8hf1d-0 bVuOVw LazyImagestyles__Picture-sc-1gcjd00-1 ddKWmr\"]')\n",
    "                find_image = bot.driver.find_element(By.TAG_NAME,'img').get_attribute('src')\n",
    "                print(find_image)\n",
    "                        #Image_dict['Lego_images'].append(find_image)\n",
    "                        #while os.path.exists(f\"name\"):\n",
    "                        #i=0\n",
    "                        #with open(\"{}_{}{}\".format(name,i,'.jpg'),'wb') as f:\n",
    "                                #pict = requests.get(find_image)\n",
    "                                #f.write(pict.content)\n",
    "                                #f.close   \n",
    "\n",
    "                        #i +=1\n",
    "        #print(Image_dict)"
   ]
  },
  {
   "cell_type": "code",
   "execution_count": null,
   "metadata": {},
   "outputs": [],
   "source": [
    "import requests\n",
    "from bs4 import BeautifulSoup\n",
    "#from flask import Flask, render_template\n",
    "import requests\n",
    "Image_dict = {'Lego_images' :[]}\n",
    "for link in lego_links[0:]:\n",
    "        bot.driver.get(link)\n",
    "        Product_name = bot.driver.find_element(By.XPATH,'//h1[@data-test=\"product-overview-name\"]')\n",
    "        name = (Product_name.text).replace(' ','_').replace(',','').replace('-','')\n",
    "        ul_class = bot.driver.find_element(By.XPATH,'//*[@id=\"main-content\"]/div/div[1]/div/div[1]/div[1]/div/div/div/div[1]/div/div[1]/ul')\n",
    "        all_li = ul_class.find_elements(By.XPATH,'li')\n",
    "        find_image = requests.css('#altImages li.item:not(.videoBlockIngress) img::attr(src)').getall() "
   ]
  },
  {
   "cell_type": "code",
   "execution_count": null,
   "metadata": {},
   "outputs": [],
   "source": [
    "import selenium"
   ]
  },
  {
   "cell_type": "code",
   "execution_count": null,
   "metadata": {},
   "outputs": [],
   "source": [
    "from selenium.webdriver import Chrome"
   ]
  },
  {
   "cell_type": "code",
   "execution_count": null,
   "metadata": {},
   "outputs": [],
   "source": [
    "#driver = Chrome('./chromedriver')\n",
    "driver = Chrome()\n",
    "driver.get('https://www.lego.com/en-gb')"
   ]
  },
  {
   "cell_type": "code",
   "execution_count": null,
   "metadata": {},
   "outputs": [],
   "source": [
    "from webdriver_manager.chrome import ChromeDriverManager"
   ]
  },
  {
   "cell_type": "code",
   "execution_count": null,
   "metadata": {},
   "outputs": [],
   "source": [
    "driver = Chrome(ChromeDriverManager().install())\n",
    "driver.get('https://www.lego.com/en-gb')"
   ]
  },
  {
   "cell_type": "code",
   "execution_count": null,
   "metadata": {},
   "outputs": [],
   "source": [
    "import requests\n",
    "\n",
    "response = requests.get('https://pokeapi.co/api/v2/pokemon/pikachu')\n",
    "response.json()"
   ]
  },
  {
   "cell_type": "code",
   "execution_count": null,
   "metadata": {},
   "outputs": [],
   "source": [
    "import requests\n",
    "\n",
    "r = requests.get('https://www.lego.com/en-gb')"
   ]
  },
  {
   "cell_type": "code",
   "execution_count": null,
   "metadata": {},
   "outputs": [],
   "source": [
    "! pip install BeautifulSoup4"
   ]
  },
  {
   "cell_type": "code",
   "execution_count": null,
   "metadata": {},
   "outputs": [],
   "source": [
    "import requests\n",
    "from bs4 import BeautifulSoup\n",
    "r = requests.get('https://en.wikipedia.org/wiki/Python_(programming_language)')\n",
    "r.text\n",
    "soup = BeautifulSoup(r.text,'html.parser')"
   ]
  },
  {
   "cell_type": "code",
   "execution_count": 65,
   "metadata": {},
   "outputs": [
    {
     "name": "stdout",
     "output_type": "stream",
     "text": [
      "Methods on objects are functions attached to the object's class; the syntax instance.method(argument) is, for normal methods and functions, syntactic sugar for Class.method(instance, argument). Python methods have an explicit self parameter to access instance data, in contrast to the implicit self (or this) in some other object-oriented programming languages (e.g., C++, Java, Objective-C, Ruby).[93] Python also provides methods, often called dunder methods (due to their names beginning and ending with double-underscores), to allow user-defined classes to modify how they are handled by native operations including length, comparison, in arithmetic operations and type conversion.[94]\n",
      "\n"
     ]
    }
   ],
   "source": [
    "\n",
    "import requests\n",
    "from bs4 import BeautifulSoup\n",
    "r = requests.get('https://en.wikipedia.org/wiki/Python_(programming_language)#Methods')\n",
    "html = r.text\n",
    "soup = BeautifulSoup(html,'html.parser')\n",
    "#print(soup.prettify())\n",
    "Method = soup.find('span',{\"id\":'Methods'})\n",
    "h3 = Method.find_parent()\n",
    "p = h3.find_next_sibling()\n",
    "print(p.text)\n",
    "#Method_text = Method.find_all('p')\n",
    "#print(Method_text)"
   ]
  },
  {
   "cell_type": "code",
   "execution_count": 70,
   "metadata": {},
   "outputs": [
    {
     "ename": "AttributeError",
     "evalue": "'str' object has no attribute 'find_all'",
     "output_type": "error",
     "traceback": [
      "\u001b[0;31m---------------------------------------------------------------------------\u001b[0m",
      "\u001b[0;31mAttributeError\u001b[0m                            Traceback (most recent call last)",
      "\u001b[1;32m/home/lakshmi/Documents/DS/Selenium/demo.ipynb Cell 11'\u001b[0m in \u001b[0;36m<module>\u001b[0;34m\u001b[0m\n\u001b[1;32m      <a href='vscode-notebook-cell:/home/lakshmi/Documents/DS/Selenium/demo.ipynb#ch0000011?line=3'>4</a>\u001b[0m c \u001b[39m=\u001b[39m z\u001b[39m.\u001b[39mtext\n\u001b[1;32m      <a href='vscode-notebook-cell:/home/lakshmi/Documents/DS/Selenium/demo.ipynb#ch0000011?line=4'>5</a>\u001b[0m \u001b[39m#zoopla = BeautifulSoup(z,'html.parser')\u001b[39;00m\n\u001b[1;32m      <a href='vscode-notebook-cell:/home/lakshmi/Documents/DS/Selenium/demo.ipynb#ch0000011?line=5'>6</a>\u001b[0m \u001b[39m#chk = zoopla.find_elements_by_xpath(\"//input[@type='button']\")\u001b[39;00m\n\u001b[1;32m      <a href='vscode-notebook-cell:/home/lakshmi/Documents/DS/Selenium/demo.ipynb#ch0000011?line=6'>7</a>\u001b[0m \u001b[39m#btn = z.find_element_by_xpath('//button')\u001b[39;00m\n\u001b[0;32m----> <a href='vscode-notebook-cell:/home/lakshmi/Documents/DS/Selenium/demo.ipynb#ch0000011?line=7'>8</a>\u001b[0m btn \u001b[39m=\u001b[39m c\u001b[39m.\u001b[39;49mfind_all(\u001b[39m\"\u001b[39m\u001b[39m//div/button\u001b[39m\u001b[39m\"\u001b[39m)\n\u001b[1;32m      <a href='vscode-notebook-cell:/home/lakshmi/Documents/DS/Selenium/demo.ipynb#ch0000011?line=8'>9</a>\u001b[0m \u001b[39m#value = zoopla.select_one(\"button\").contents[-1].strip(' \"\\n')\u001b[39;00m\n\u001b[1;32m     <a href='vscode-notebook-cell:/home/lakshmi/Documents/DS/Selenium/demo.ipynb#ch0000011?line=9'>10</a>\u001b[0m \u001b[39m#print(value)\u001b[39;00m\n\u001b[1;32m     <a href='vscode-notebook-cell:/home/lakshmi/Documents/DS/Selenium/demo.ipynb#ch0000011?line=10'>11</a>\u001b[0m \u001b[39mprint\u001b[39m(btn)\n",
      "\u001b[0;31mAttributeError\u001b[0m: 'str' object has no attribute 'find_all'"
     ]
    }
   ],
   "source": [
    "import requests\n",
    "from bs4 import BeautifulSoup\n",
    "z = requests.get('https://www.zoopla.co.uk/')\n",
    "c = z.text\n",
    "#zoopla = BeautifulSoup(z,'html.parser')\n",
    "#chk = zoopla.find_elements_by_xpath(\"//input[@type='button']\")\n",
    "#btn = z.find_element_by_xpath('//button')\n",
    "btn = c.find_all(\"//div/button\")\n",
    "#value = zoopla.select_one(\"button\").contents[-1].strip(' \"\\n')\n",
    "#print(value)\n",
    "print(btn)\n"
   ]
  }
 ],
 "metadata": {
  "interpreter": {
   "hash": "309d55093c20dde78e2d73e41541ecb833faa4b88249672f334c68656f50009c"
  },
  "kernelspec": {
   "display_name": "Python 3.9.7 ('selenium')",
   "language": "python",
   "name": "python3"
  },
  "language_info": {
   "codemirror_mode": {
    "name": "ipython",
    "version": 3
   },
   "file_extension": ".py",
   "mimetype": "text/x-python",
   "name": "python",
   "nbconvert_exporter": "python",
   "pygments_lexer": "ipython3",
   "version": "3.9.7"
  },
  "orig_nbformat": 4
 },
 "nbformat": 4,
 "nbformat_minor": 2
}
