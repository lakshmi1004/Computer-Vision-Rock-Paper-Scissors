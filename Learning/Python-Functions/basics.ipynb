{
 "cells": [
  {
   "cell_type": "markdown",
   "metadata": {},
   "source": [
    "Functions are used to avoid DRY! \n",
    "Don't Reapeat Yourself"
   ]
  },
  {
   "cell_type": "code",
   "execution_count": null,
   "metadata": {},
   "outputs": [],
   "source": [
    "def hello_func():\n",
    "    print('I am here') "
   ]
  },
  {
   "cell_type": "code",
   "execution_count": null,
   "metadata": {},
   "outputs": [],
   "source": [
    "print(len(hello_func()))"
   ]
  },
  {
   "cell_type": "markdown",
   "metadata": {},
   "source": [
    "def hello_funct():\n",
    "    return'I am here' \n",
    "\n",
    "hello_funct()\n",
    "print(hello_funct())\n",
    "\n",
    "print(len(hello_funct()))\n",
    "\n",
    "When the above code executed only print statement will execute once without quotes.\n",
    "\n",
    "hello_funct()\n",
    "When the baove code executed only return function returns the value in quotes or return as it is ."
   ]
  },
  {
   "cell_type": "code",
   "execution_count": null,
   "metadata": {},
   "outputs": [],
   "source": [
    "def hello_funct():\n",
    "    return'I am here' \n",
    "\n",
    "\n",
    "print(hello_funct())\n",
    "\n",
    "print(len(hello_funct()))\n",
    "\n"
   ]
  },
  {
   "cell_type": "code",
   "execution_count": null,
   "metadata": {},
   "outputs": [],
   "source": [
    "len(hello_funct())\n",
    "hello_funct()\n"
   ]
  },
  {
   "cell_type": "markdown",
   "metadata": {},
   "source": [
    "Functions with Parameters\n",
    "1. feeding live input when we run\n",
    "2. pasing input in function parameter itself\n"
   ]
  },
  {
   "cell_type": "code",
   "execution_count": null,
   "metadata": {},
   "outputs": [],
   "source": [
    "def hello(greet):\n",
    "    return'{}'.format(greet)\n",
    "def hi(greet):\n",
    "    return'Hi,{}'.format(greet)\n",
    "def hii(greet,com ='I like you'):\n",
    "    return'Hi,{}.\\n{}'.format(greet, com)\n",
    "\n",
    "print(hello('Ramya'))\n",
    "print(hi('Ramya'))\n",
    "print(hii('Ramya'))"
   ]
  },
  {
   "cell_type": "markdown",
   "metadata": {},
   "source": [
    "*args - Positional arguments\n",
    "\n",
    "**Kwargs - keyword positional arguments(dictionaries)\n",
    "\n",
    "IF WE USE * , ** in passing arguments, it will unpack the list and the dictionary seperately."
   ]
  },
  {
   "cell_type": "code",
   "execution_count": 21,
   "metadata": {},
   "outputs": [
    {
     "name": "stdout",
     "output_type": "stream",
     "text": [
      "('Math', 'Science group')\n",
      "{'name': 'Ramya', 'Age': '25'}\n"
     ]
    }
   ],
   "source": [
    "def student_info(*args, **kwargs):\n",
    "    print(args)\n",
    "    print(kwargs)\n",
    "student_info('Math','Science group', name = 'Ramya', Age = '25')"
   ]
  },
  {
   "cell_type": "code",
   "execution_count": 20,
   "metadata": {},
   "outputs": [
    {
     "name": "stdout",
     "output_type": "stream",
     "text": [
      "(['Math', 'Science'], {'name': 'Ramya', 'age': 27})\n",
      "{}\n",
      "('Math', 'Science')\n",
      "{'name': 'Ramya', 'age': 27}\n"
     ]
    }
   ],
   "source": [
    "course = ['Math','Science']\n",
    "info = {'name':'Ramya','age': 27}\n",
    "student_info(course,info)\n",
    "student_info(*course,**info)\n"
   ]
  },
  {
   "cell_type": "code",
   "execution_count": 39,
   "metadata": {},
   "outputs": [
    {
     "name": "stdout",
     "output_type": "stream",
     "text": [
      "29\n"
     ]
    }
   ],
   "source": [
    "month_days = [0, 31, 28, 31, 30, 31, 30, 31, 31, 30, 31, 30, 31]\n",
    "def is_leap_year(year):\n",
    "    #leapyear =\n",
    "    return (year % 4 == 0) and (year % 100 != 0 or year % 400 == 0)\n",
    "    #if leapyear is True:\n",
    "        #return '{} is a leap year'.format(year)\n",
    "    #else:\n",
    "        #return '{} is a not leap year'.format(year)\n",
    "\n",
    "def days_in_month(year, month):\n",
    "    \"\"\"Return number of days in that month in that year.\"\"\"\n",
    "\n",
    "    # year 2017\n",
    "    # month 2\n",
    "    if not 1 <= month <= 12:\n",
    "        return 'Invalid Month'\n",
    "\n",
    "    if month == 2 and is_leap_year(year):\n",
    "        return 29\n",
    "    \n",
    "    return month_days[month]\n",
    "\n",
    "print(days_in_month(2000, 2))"
   ]
  }
 ],
 "metadata": {
  "interpreter": {
   "hash": "309d55093c20dde78e2d73e41541ecb833faa4b88249672f334c68656f50009c"
  },
  "kernelspec": {
   "display_name": "Python 3.9.7 ('selenium')",
   "language": "python",
   "name": "python3"
  },
  "language_info": {
   "codemirror_mode": {
    "name": "ipython",
    "version": 3
   },
   "file_extension": ".py",
   "mimetype": "text/x-python",
   "name": "python",
   "nbconvert_exporter": "python",
   "pygments_lexer": "ipython3",
   "version": "3.9.7"
  },
  "orig_nbformat": 4
 },
 "nbformat": 4,
 "nbformat_minor": 2
}
