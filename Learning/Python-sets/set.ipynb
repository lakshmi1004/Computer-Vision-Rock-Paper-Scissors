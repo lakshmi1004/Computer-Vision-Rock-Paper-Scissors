{
 "cells": [
  {
   "cell_type": "code",
   "execution_count": 1,
   "metadata": {},
   "outputs": [
    {
     "name": "stdout",
     "output_type": "stream",
     "text": [
      "Initial blank Set: \n",
      "set()\n",
      "\n",
      "Set with the use of String: \n",
      "{'e', 'y', 't', 'o', 'n', 'R', 'm', 'a', 'g', ' ', 's', 'w', 'r'}\n",
      "\n",
      "Set with the use of an Object: \n",
      "{'e', 'y', 't', 'o', 'n', 'R', 'm', 'a', 'g', ' ', 's', 'w', 'r'}\n",
      "\n",
      "Set with the use of List: \n",
      "{'Ramya strongest women'}\n"
     ]
    }
   ],
   "source": [
    "set1 = set()\n",
    "print(\"Initial blank Set: \")\n",
    "print(set1)\n",
    "  \n",
    "# Creating a Set with \n",
    "# the use of a String\n",
    "set1 = set(\"Ramya strongest women\")\n",
    "print(\"\\nSet with the use of String: \")\n",
    "print(set1)\n",
    "  \n",
    "# Creating a Set with\n",
    "# the use of Constructor\n",
    "# (Using object to Store String)\n",
    "String = 'Ramya strongest women'\n",
    "set1 = set(String)\n",
    "print(\"\\nSet with the use of an Object: \" )\n",
    "print(set1)\n",
    "  \n",
    "# Creating a Set with\n",
    "# the use of a List\n",
    "set1 = set(['Ramya strongest women'])\n",
    "print(\"\\nSet with the use of List: \")\n",
    "print(set1)"
   ]
  }
 ],
 "metadata": {
  "interpreter": {
   "hash": "39d388ca1b04e1a174574da37708eb359a2bcdc8ec40a682dcfb85d2b414fb91"
  },
  "kernelspec": {
   "display_name": "Python 3.9.7 ('p1')",
   "language": "python",
   "name": "python3"
  },
  "language_info": {
   "codemirror_mode": {
    "name": "ipython",
    "version": 3
   },
   "file_extension": ".py",
   "mimetype": "text/x-python",
   "name": "python",
   "nbconvert_exporter": "python",
   "pygments_lexer": "ipython3",
   "version": "3.9.7"
  },
  "orig_nbformat": 4
 },
 "nbformat": 4,
 "nbformat_minor": 2
}
