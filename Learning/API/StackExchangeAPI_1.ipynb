{
 "cells": [
  {
   "cell_type": "code",
   "execution_count": 2,
   "metadata": {},
   "outputs": [
    {
     "name": "stdout",
     "output_type": "stream",
     "text": [
      "<Response [200]>\n"
     ]
    }
   ],
   "source": [
    "import requests\n",
    "votes = requests.get('https://api.stackexchange.com/2.3/posts?fromdate=1645315200&todate=1645401600&order=desc&min=10&max=10&sort=votes&site=stackoverflow')\n",
    "print(votes)\n"
   ]
  },
  {
   "cell_type": "code",
   "execution_count": 3,
   "metadata": {},
   "outputs": [
    {
     "name": "stdout",
     "output_type": "stream",
     "text": [
      "{'items': [{'owner': {'account_id': 1270139, 'reputation': 3083, 'user_id': 1226649, 'user_type': 'registered', 'accept_rate': 61, 'profile_image': 'https://www.gravatar.com/avatar/09120bf46a24bc6a335921ed2e0776a3?s=256&d=identicon&r=PG', 'display_name': 'dokondr', 'link': 'https://stackoverflow.com/users/1226649/dokondr'}, 'score': 10, 'last_edit_date': 1645429264, 'last_activity_date': 1645458004, 'creation_date': 1645388958, 'post_type': 'question', 'post_id': 71198478, 'content_license': 'CC BY-SA 4.0', 'link': 'https://stackoverflow.com/q/71198478'}], 'has_more': False, 'quota_max': 300, 'quota_remaining': 259}\n"
     ]
    }
   ],
   "source": [
    "query = votes.json()\n",
    "print(query)"
   ]
  },
  {
   "cell_type": "code",
   "execution_count": 10,
   "metadata": {},
   "outputs": [
    {
     "name": "stdout",
     "output_type": "stream",
     "text": [
      "<class 'dict'>\n",
      "<built-in method items of dict object at 0x7fe2bc6663c0>\n"
     ]
    }
   ],
   "source": [
    "print(type(query))\n",
    "list(query)\n",
    "print(query.items)"
   ]
  }
 ],
 "metadata": {
  "interpreter": {
   "hash": "309d55093c20dde78e2d73e41541ecb833faa4b88249672f334c68656f50009c"
  },
  "kernelspec": {
   "display_name": "Python 3.9.7 ('selenium')",
   "language": "python",
   "name": "python3"
  },
  "language_info": {
   "codemirror_mode": {
    "name": "ipython",
    "version": 3
   },
   "file_extension": ".py",
   "mimetype": "text/x-python",
   "name": "python",
   "nbconvert_exporter": "python",
   "pygments_lexer": "ipython3",
   "version": "3.9.7"
  },
  "orig_nbformat": 4
 },
 "nbformat": 4,
 "nbformat_minor": 2
}
