{
 "cells": [
  {
   "cell_type": "markdown",
   "metadata": {},
   "source": [
    "A namespace determines which identifiers (e.g. variables, functions, classes) are available for use, and a scope defines where — in your written code — a namespace can be accessed."
   ]
  },
  {
   "cell_type": "markdown",
   "metadata": {},
   "source": [
    "Python needs a way to remember two things: the name (identifier) of the variable, and the value you assigned to it. Internally, Python keeps track of all of these definitions by implicitly adding them to a dictionary, mapping the name of each variable you define to its value.\n",
    "This internal dictionary serves as a lookup table for all your variables. Whenever you try to access a variable, the Python interpreter looks its name up in the dictionary and, if found, returns you its value. If not, it throws a NameError."
   ]
  },
  {
   "cell_type": "code",
   "execution_count": 1,
   "metadata": {},
   "outputs": [
    {
     "name": "stdout",
     "output_type": "stream",
     "text": [
      "1\n"
     ]
    },
    {
     "ename": "NameError",
     "evalue": "name 'b' is not defined",
     "output_type": "error",
     "traceback": [
      "\u001b[0;31m---------------------------------------------------------------------------\u001b[0m",
      "\u001b[0;31mNameError\u001b[0m                                 Traceback (most recent call last)",
      "\u001b[1;32m/home/lakshmi/Documents/DS/Learning/Python-Scopes_namespaces/scopes.ipynb Cell 3'\u001b[0m in \u001b[0;36m<module>\u001b[0;34m\u001b[0m\n\u001b[1;32m      <a href='vscode-notebook-cell:/home/lakshmi/Documents/DS/Learning/Python-Scopes_namespaces/scopes.ipynb#ch0000000?line=4'>5</a>\u001b[0m \u001b[39mprint\u001b[39m(a) \u001b[39m# => 1\u001b[39;00m\n\u001b[1;32m      <a href='vscode-notebook-cell:/home/lakshmi/Documents/DS/Learning/Python-Scopes_namespaces/scopes.ipynb#ch0000000?line=6'>7</a>\u001b[0m \u001b[39m# does `b` exist in the namespace? No.\u001b[39;00m\n\u001b[1;32m      <a href='vscode-notebook-cell:/home/lakshmi/Documents/DS/Learning/Python-Scopes_namespaces/scopes.ipynb#ch0000000?line=7'>8</a>\u001b[0m \u001b[39m# Throw a `NameError`\u001b[39;00m\n\u001b[0;32m----> <a href='vscode-notebook-cell:/home/lakshmi/Documents/DS/Learning/Python-Scopes_namespaces/scopes.ipynb#ch0000000?line=8'>9</a>\u001b[0m \u001b[39mprint\u001b[39m(b) \u001b[39m# => NameError: name `b` is not defined.\u001b[39;00m\n\u001b[1;32m     <a href='vscode-notebook-cell:/home/lakshmi/Documents/DS/Learning/Python-Scopes_namespaces/scopes.ipynb#ch0000000?line=10'>11</a>\u001b[0m b \u001b[39m=\u001b[39m \u001b[39m16\u001b[39m \u001b[39m# namespace {a: 1, b: 16}\u001b[39;00m\n\u001b[1;32m     <a href='vscode-notebook-cell:/home/lakshmi/Documents/DS/Learning/Python-Scopes_namespaces/scopes.ipynb#ch0000000?line=12'>13</a>\u001b[0m \u001b[39m# no more problems!\u001b[39;00m\n",
      "\u001b[0;31mNameError\u001b[0m: name 'b' is not defined"
     ]
    }
   ],
   "source": [
    "a = 1 # namespace {a: 1}\n",
    "\n",
    "# does `a` exist in the namespace? Yes!\n",
    "# proceed without error\n",
    "print(a) # => 1\n",
    "\n",
    "# does `b` exist in the namespace? No.\n",
    "# Throw a `NameError`\n",
    "print(b) # => NameError: name `b` is not defined.\n",
    "\n",
    "b = 16 # namespace {a: 1, b: 16}\n",
    "\n",
    "# no more problems!\n",
    "print(b)"
   ]
  },
  {
   "cell_type": "markdown",
   "metadata": {},
   "source": [
    "In reality, there are multiple namespaces existing at any given time while a Python program is running, and which namespace you have access to is determined by the scope you are currently in. A scope, in essence, is a textual area in your program that decides which of these multiple namespaces you have access to.\n",
    "\n",
    "There are four types of scopes, each more specific than the last. A more specific scope can access the namespace of a less specific scope, but not the other way around. Here are the four types, arranged from most specific to least specific:\n",
    "\n",
    "    1) The local scope. The local scope is determined by whether you are in a class/function definition or not. Inside a class/function, the local scope refers to the names defined inside them. Outside a class/function, the local scope is the same as the global scope.\n",
    "    2) The non-local scope. A non-local scope is midways between the local scope and the global scope, e.g. the non-local scope of a function defined inside another function is the enclosing function itself.\n",
    "    3) The global scope. This refers to the scope outside any functions or class definitions. It also known as the module scope.\n",
    "    4) The built-ins scope. This scope, as the name suggests, is a scope that is built into Python. While it resides in its own module, any Python program is qualified to call the names defined here without requiring special access."
   ]
  },
  {
   "cell_type": "code",
   "execution_count": null,
   "metadata": {},
   "outputs": [],
   "source": [
    "# scopes.py\n",
    "\n",
    "# Scope A Scope A. Scope A is called the global/module scope. It exists outside any class or function definition. From the perspective of Scope A, it is considered the local scope, from the perspectives of both B and C, it is the global scope\n",
    "a = 1\n",
    "b = 16\n",
    "\n",
    "def outer():\n",
    "    # Scope B - Scope B. From the perspective of Scope B it is the local scope, but from the perspective of scope C, it is the non-local scope. Scope A has no access to the scope inside Scope B.\n",
    "    c = 24\n",
    "    d = 'Hello, World!'\n",
    "    \n",
    "    def inner():\n",
    "        # Scope C - From the perspective of Scope C, it is the local scope. Scopes A and B have no access to Scope C.\n",
    "        e = 'I like'\n",
    "        f = 'fried chicken'\n",
    "\n",
    "# (Implicit) Scope D - This is the built-ins scope. All other scopes have access to it.\n",
    "print('Hello!')"
   ]
  },
  {
   "cell_type": "code",
   "execution_count": 2,
   "metadata": {},
   "outputs": [
    {
     "name": "stdout",
     "output_type": "stream",
     "text": [
      "Inside foo: 5\n"
     ]
    },
    {
     "ename": "NameError",
     "evalue": "name 'more_specific' is not defined",
     "output_type": "error",
     "traceback": [
      "\u001b[0;31m---------------------------------------------------------------------------\u001b[0m",
      "\u001b[0;31mNameError\u001b[0m                                 Traceback (most recent call last)",
      "\u001b[1;32m/home/lakshmi/Documents/DS/Learning/Python-Scopes_namespaces/scopes.ipynb Cell 6'\u001b[0m in \u001b[0;36m<module>\u001b[0;34m\u001b[0m\n\u001b[1;32m      <a href='vscode-notebook-cell:/home/lakshmi/Documents/DS/Learning/Python-Scopes_namespaces/scopes.ipynb#ch0000006?line=4'>5</a>\u001b[0m     \u001b[39mprint\u001b[39m(\u001b[39m'\u001b[39m\u001b[39mInside foo:\u001b[39m\u001b[39m'\u001b[39m, less_specific)\n\u001b[1;32m      <a href='vscode-notebook-cell:/home/lakshmi/Documents/DS/Learning/Python-Scopes_namespaces/scopes.ipynb#ch0000006?line=6'>7</a>\u001b[0m foo()\n\u001b[0;32m----> <a href='vscode-notebook-cell:/home/lakshmi/Documents/DS/Learning/Python-Scopes_namespaces/scopes.ipynb#ch0000006?line=7'>8</a>\u001b[0m \u001b[39mprint\u001b[39m(more_specific)\n",
      "\u001b[0;31mNameError\u001b[0m: name 'more_specific' is not defined"
     ]
    }
   ],
   "source": [
    "less_specific = 5\n",
    "\n",
    "def foo():\n",
    "    more_specific = 2\n",
    "    print('Inside foo:', less_specific)\n",
    "    \n",
    "foo()\n",
    "print(more_specific)"
   ]
  },
  {
   "cell_type": "markdown",
   "metadata": {},
   "source": [
    "The reason behind the error is that foo() has access to the global namespace, while the global namespace doesn’t have access to the local namespace of the function. An important thing to remember is that Python searches for names outwards from inner scopes, and not the other way around! This means that you can be assured of two things:\n",
    "\n",
    "    More specific namespaces (e.g. the local namespace inside a function) will never be altered by less specific namespaces (e.g. the global namespace)\n",
    "    More specific namespaces will always have access to less specific namespaces"
   ]
  },
  {
   "cell_type": "markdown",
   "metadata": {},
   "source": [
    "The global and nonlocal keywords"
   ]
  },
  {
   "cell_type": "code",
   "execution_count": 4,
   "metadata": {},
   "outputs": [
    {
     "name": "stdout",
     "output_type": "stream",
     "text": [
      "After bleep: 5\n",
      "After oof: 20\n",
      "After bop: 20\n",
      "Globally: 30\n"
     ]
    }
   ],
   "source": [
    "def foo():\n",
    "    i_am_non_local = 5\n",
    "    \n",
    "    def bleep():\n",
    "        i_am_non_local = 10\n",
    "    \n",
    "    def oof():\n",
    "        nonlocal i_am_non_local\n",
    "        i_am_non_local = 20\n",
    "        \n",
    "    def bop():\n",
    "        global i_am_non_local\n",
    "        i_am_non_local = 30\n",
    "    \n",
    "    bleep()\n",
    "    print('After bleep:', i_am_non_local)\n",
    "    oof()\n",
    "    print('After oof:', i_am_non_local)\n",
    "    bop()\n",
    "    print('After bop:', i_am_non_local)\n",
    "    \n",
    "foo()\n",
    "print('Globally:', i_am_non_local)"
   ]
  }
 ],
 "metadata": {
  "interpreter": {
   "hash": "309d55093c20dde78e2d73e41541ecb833faa4b88249672f334c68656f50009c"
  },
  "kernelspec": {
   "display_name": "Python 3.9.7 ('selenium')",
   "language": "python",
   "name": "python3"
  },
  "language_info": {
   "codemirror_mode": {
    "name": "ipython",
    "version": 3
   },
   "file_extension": ".py",
   "mimetype": "text/x-python",
   "name": "python",
   "nbconvert_exporter": "python",
   "pygments_lexer": "ipython3",
   "version": "3.9.7"
  },
  "orig_nbformat": 4
 },
 "nbformat": 4,
 "nbformat_minor": 2
}
