{
 "cells": [
  {
   "cell_type": "markdown",
   "metadata": {},
   "source": []
  },
  {
   "cell_type": "code",
   "execution_count": 42,
   "metadata": {},
   "outputs": [
    {
     "name": "stdout",
     "output_type": "stream",
     "text": [
      "Engine: 150 l\n",
      "color: blue\n"
     ]
    }
   ],
   "source": [
    "class Vehicle():\n",
    "\n",
    "    Engine = '150 l'\n",
    "    def __init__(self,name,color,max_speed, mileage):\n",
    "        self.name = name\n",
    "        self.color = color\n",
    "        self.max_speed = max_speed \n",
    "        self.mileage= mileage\n",
    "\n",
    "    def seating_capacity(self, capacity):\n",
    "        return f\"The seating capacity of a {self.name} is {capacity} passengers\"\n",
    "#Creating child class1 Bus inheriting Parent Vehicle    \n",
    "class Bus(Vehicle):\n",
    "    def seating_capacity(self, capacity=50):\n",
    "        return super().seating_capacity(capacity=capacity)\n",
    "\n",
    "class Cars(Vehicle):\n",
    "    pass\n",
    "\n",
    "Audi = Cars('Audi','Red',200,50000)\n",
    "print('Engine:', Audi.Engine)\n",
    "school = Bus('volvo','blue',200,50000)\n",
    "print('color:', school.color)"
   ]
  },
  {
   "cell_type": "code",
   "execution_count": null,
   "metadata": {},
   "outputs": [],
   "source": [
    "school_bus = Bus('School_Volvo','white', 300 , 40000)\n",
    "print(school_bus.seating_capacity())    \n",
    "print('Vehicle name:', school_bus.name,'color : ',school_bus.color,'speed : ',school_bus.max_speed,'mileage : ',school_bus.mileage  ) \n",
    "#Create class with instance attribute\n",
    "car = Vehicle('Honda','blue',1000,30)\n",
    "print(car.name,car.color,car.mileage,car.max_speed)"
   ]
  },
  {
   "cell_type": "code",
   "execution_count": null,
   "metadata": {},
   "outputs": [],
   "source": []
  }
 ],
 "metadata": {
  "interpreter": {
   "hash": "39d388ca1b04e1a174574da37708eb359a2bcdc8ec40a682dcfb85d2b414fb91"
  },
  "kernelspec": {
   "display_name": "Python 3.9.7 ('p1')",
   "language": "python",
   "name": "python3"
  },
  "language_info": {
   "codemirror_mode": {
    "name": "ipython",
    "version": 3
   },
   "file_extension": ".py",
   "mimetype": "text/x-python",
   "name": "python",
   "nbconvert_exporter": "python",
   "pygments_lexer": "ipython3",
   "version": "3.9.7"
  },
  "orig_nbformat": 4
 },
 "nbformat": 4,
 "nbformat_minor": 2
}
