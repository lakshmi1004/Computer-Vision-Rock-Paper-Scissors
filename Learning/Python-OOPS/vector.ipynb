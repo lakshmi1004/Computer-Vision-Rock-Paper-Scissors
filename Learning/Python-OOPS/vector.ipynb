{
 "cells": [
  {
   "cell_type": "code",
   "execution_count": 1,
   "metadata": {},
   "outputs": [
    {
     "name": "stdout",
     "output_type": "stream",
     "text": [
      "[2, 3, 5, 6, 1, 4, 8, 6]\n"
     ]
    }
   ],
   "source": [
    "class Vector:\n",
    "    def __init__(self, vector1):\n",
    "        self.vector1 = vector1\n",
    "    def __init__(self, vector2):\n",
    "        self.vector2 = vector2\n",
    "        self.coordinates = [vector1, vector2]\n",
    "    \n",
    "    def __add__(self, object1,object2):\n",
    "            return (self.vector1 + object1.vector1 , self.vector2 + object2.vector2)\n",
    "\n",
    "    def __repr__(self):\n",
    "        return f'{self.vector1+self.vector2}'\n",
    "\n",
    "if __name__ == '__main__':\n",
    "\n",
    "    vector1 = [2,3,5,6]\n",
    "    vector2 = [1,4,8,6]\n",
    "\n",
    "    new_vector = vector1+vector2\n",
    "    print(new_vector)"
   ]
  },
  {
   "cell_type": "code",
   "execution_count": 69,
   "metadata": {},
   "outputs": [
    {
     "ename": "TypeError",
     "evalue": "__add__() missing 1 required positional argument: 'other2'",
     "output_type": "error",
     "traceback": [
      "\u001b[0;31m---------------------------------------------------------------------------\u001b[0m",
      "\u001b[0;31mTypeError\u001b[0m                                 Traceback (most recent call last)",
      "\u001b[0;32m/tmp/ipykernel_33340/2832561578.py\u001b[0m in \u001b[0;36m<module>\u001b[0;34m\u001b[0m\n\u001b[0;32m----> 1\u001b[0;31m \u001b[0;32mclass\u001b[0m \u001b[0mVector\u001b[0m\u001b[0;34m:\u001b[0m\u001b[0;34m\u001b[0m\u001b[0;34m\u001b[0m\u001b[0m\n\u001b[0m\u001b[1;32m      2\u001b[0m     \u001b[0;32mdef\u001b[0m \u001b[0m__init__\u001b[0m\u001b[0;34m(\u001b[0m\u001b[0mself\u001b[0m\u001b[0;34m,\u001b[0m \u001b[0mlist\u001b[0m \u001b[0;34m=\u001b[0m \u001b[0;34m[\u001b[0m\u001b[0;34m]\u001b[0m\u001b[0;34m)\u001b[0m\u001b[0;34m:\u001b[0m\u001b[0;34m\u001b[0m\u001b[0;34m\u001b[0m\u001b[0m\n\u001b[1;32m      3\u001b[0m         \u001b[0mself\u001b[0m\u001b[0;34m.\u001b[0m\u001b[0mlist\u001b[0m \u001b[0;34m=\u001b[0m \u001b[0mlist\u001b[0m\u001b[0;34m\u001b[0m\u001b[0;34m\u001b[0m\u001b[0m\n\u001b[1;32m      4\u001b[0m \u001b[0;34m\u001b[0m\u001b[0m\n\u001b[1;32m      5\u001b[0m     \u001b[0;32mdef\u001b[0m \u001b[0m__add__\u001b[0m\u001b[0;34m(\u001b[0m\u001b[0mself\u001b[0m\u001b[0;34m,\u001b[0m \u001b[0mother1\u001b[0m\u001b[0;34m)\u001b[0m\u001b[0;34m:\u001b[0m\u001b[0;34m\u001b[0m\u001b[0;34m\u001b[0m\u001b[0m\n",
      "\u001b[0;32m/tmp/ipykernel_33340/2832561578.py\u001b[0m in \u001b[0;36mVector\u001b[0;34m()\u001b[0m\n\u001b[1;32m     13\u001b[0m \u001b[0;34m\u001b[0m\u001b[0m\n\u001b[1;32m     14\u001b[0m     \u001b[0mcoordinates\u001b[0m \u001b[0;34m=\u001b[0m \u001b[0mVector\u001b[0m\u001b[0;34m(\u001b[0m\u001b[0;34m[\u001b[0m\u001b[0mvector1\u001b[0m \u001b[0;34m,\u001b[0m \u001b[0mvector2\u001b[0m\u001b[0;34m]\u001b[0m\u001b[0;34m)\u001b[0m\u001b[0;34m\u001b[0m\u001b[0;34m\u001b[0m\u001b[0m\n\u001b[0;32m---> 15\u001b[0;31m     \u001b[0mnew_vector\u001b[0m \u001b[0;34m=\u001b[0m \u001b[0mVector\u001b[0m\u001b[0;34m(\u001b[0m\u001b[0mvector1\u001b[0m\u001b[0;34m+\u001b[0m\u001b[0mvector2\u001b[0m\u001b[0;34m)\u001b[0m\u001b[0;34m\u001b[0m\u001b[0;34m\u001b[0m\u001b[0m\n\u001b[0m\u001b[1;32m     16\u001b[0m     \u001b[0mprint\u001b[0m\u001b[0;34m(\u001b[0m\u001b[0mnew_vector\u001b[0m\u001b[0;34m)\u001b[0m\u001b[0;34m\u001b[0m\u001b[0;34m\u001b[0m\u001b[0m\n",
      "\u001b[0;31mTypeError\u001b[0m: __add__() missing 1 required positional argument: 'other2'"
     ]
    }
   ],
   "source": [
    "class Vector:\n",
    "    def __init__(self, list = []):\n",
    "        self.list = list\n",
    "            \n",
    "    def __add__(self, other1):\n",
    "            return (self.list + other1.list)\n",
    "\n",
    "    def __repr__(self):\n",
    "        return f'{self.list}'\n",
    "\n",
    "    vector1 = Vector([2,3,5,6])\n",
    "    vector2 = Vector([1,4,8,6])\n",
    "\n",
    "    coordinates = Vector([vector1 , vector2])\n",
    "    new_vector = Vector(vector1+vector2)\n",
    "    print(new_vector)"
   ]
  },
  {
   "cell_type": "code",
   "execution_count": 45,
   "metadata": {},
   "outputs": [
    {
     "ename": "TypeError",
     "evalue": "can't set attributes of built-in/extension type 'list'",
     "output_type": "error",
     "traceback": [
      "\u001b[0;31m---------------------------------------------------------------------------\u001b[0m",
      "\u001b[0;31mTypeError\u001b[0m                                 Traceback (most recent call last)",
      "\u001b[0;32m/tmp/ipykernel_33340/582457876.py\u001b[0m in \u001b[0;36m<module>\u001b[0;34m\u001b[0m\n\u001b[1;32m     14\u001b[0m         \u001b[0;32mreturn\u001b[0m \u001b[0;34mf'{self.list}'\u001b[0m\u001b[0;34m\u001b[0m\u001b[0;34m\u001b[0m\u001b[0m\n\u001b[1;32m     15\u001b[0m \u001b[0;34m\u001b[0m\u001b[0m\n\u001b[0;32m---> 16\u001b[0;31m \u001b[0mlist\u001b[0m\u001b[0;34m.\u001b[0m\u001b[0mvector1\u001b[0m \u001b[0;34m=\u001b[0m \u001b[0mVector\u001b[0m\u001b[0;34m(\u001b[0m\u001b[0;34m[\u001b[0m\u001b[0;36m2\u001b[0m\u001b[0;34m,\u001b[0m\u001b[0;36m3\u001b[0m\u001b[0;34m,\u001b[0m\u001b[0;36m5\u001b[0m\u001b[0;34m]\u001b[0m\u001b[0;34m)\u001b[0m\u001b[0;34m\u001b[0m\u001b[0;34m\u001b[0m\u001b[0m\n\u001b[0m\u001b[1;32m     17\u001b[0m \u001b[0mlist\u001b[0m\u001b[0;34m.\u001b[0m\u001b[0mvector2\u001b[0m \u001b[0;34m=\u001b[0m \u001b[0mVector\u001b[0m\u001b[0;34m(\u001b[0m\u001b[0;34m[\u001b[0m\u001b[0;36m1\u001b[0m\u001b[0;34m,\u001b[0m\u001b[0;36m4\u001b[0m\u001b[0;34m,\u001b[0m\u001b[0;36m8\u001b[0m\u001b[0;34m]\u001b[0m\u001b[0;34m)\u001b[0m\u001b[0;34m\u001b[0m\u001b[0;34m\u001b[0m\u001b[0m\n\u001b[1;32m     18\u001b[0m \u001b[0mnew_vector\u001b[0m \u001b[0;34m=\u001b[0m \u001b[0mVector\u001b[0m\u001b[0;34m.\u001b[0m\u001b[0msum_lists\u001b[0m\u001b[0;34m(\u001b[0m\u001b[0mvector1\u001b[0m\u001b[0;34m,\u001b[0m\u001b[0mvector2\u001b[0m\u001b[0;34m)\u001b[0m\u001b[0;34m\u001b[0m\u001b[0;34m\u001b[0m\u001b[0m\n",
      "\u001b[0;31mTypeError\u001b[0m: can't set attributes of built-in/extension type 'list'"
     ]
    }
   ],
   "source": [
    "import numpy as Vector\n",
    "class Vector:\n",
    "    def __init__(self, list = []):\n",
    "        self.list = list\n",
    "    \n",
    "    #def new_list(self, other):\n",
    "        #new_list = (self.list + other.list for self.list, other.list in zip (self.list , other.list))\n",
    "        #new_vector =[vector1[0] +vector2[0], vector1[1] +vector2[1]. vector1[2] +vector2[2]]\n",
    "        #return Vector(new_list)\n",
    "    def sum_lists(*args):\n",
    "        return list(map(sum, zip(*args)))\n",
    "\n",
    "    def __repr__(self):\n",
    "        return f'{self.list}'\n",
    "\n",
    "vector1 = [2,3,5]\n",
    "list.vector2 = Vector([1,4,8])\n",
    "new_vector = Vector.sum_lists(vector1,vector2)\n",
    "\n",
    "print(new_vector)\n"
   ]
  },
  {
   "cell_type": "code",
   "execution_count": 13,
   "metadata": {},
   "outputs": [
    {
     "name": "stdout",
     "output_type": "stream",
     "text": [
      "1st Input array :  [[ 2 -7  5]\n",
      " [-6  2  0]]\n",
      "2nd Input array :  [[ 5  8 -5]\n",
      " [ 3  6  9]]\n",
      "output added array :  [[ 7  1  0]\n",
      " [-3  8  9]]\n"
     ]
    }
   ],
   "source": [
    "import numpy as Vector\n",
    "  \n",
    "in_arr1 = Vector.array([[2, -7, 5], [-6, 2, 0]])\n",
    "in_arr2 = Vector.array([[5, 8, -5], [3, 6, 9]])\n",
    "   \n",
    "print (\"1st Input array : \", in_arr1) \n",
    "print (\"2nd Input array : \", in_arr2) \n",
    "    \n",
    "out_arr = geek.add(in_arr1, in_arr2) \n",
    "print (\"output added array : \", out_arr)"
   ]
  },
  {
   "cell_type": "code",
   "execution_count": 14,
   "metadata": {},
   "outputs": [
    {
     "data": {
      "text/plain": [
       "[3, 7, 13, 12]"
      ]
     },
     "execution_count": 14,
     "metadata": {},
     "output_type": "execute_result"
    }
   ],
   "source": [
    "first = [2,3,5,6]\n",
    "second = [1,4,8,6]\n",
    "\n",
    "[x + y for x, y in zip(first, second)]"
   ]
  },
  {
   "cell_type": "code",
   "execution_count": 2,
   "metadata": {},
   "outputs": [
    {
     "name": "stdout",
     "output_type": "stream",
     "text": [
      "30\n"
     ]
    }
   ],
   "source": [
    "class Vectorone:\n",
    "    def __init__(self, vector1):\n",
    "        self.vector1 = vector1\n",
    "    def __add__(self, object2):\n",
    "        return self.vector1 + object2.vector1\n",
    "class VectorTwo:\n",
    "    def __init__(self, vector1):\n",
    "        self.vector1 = vector1\n",
    "    def __add__(self, object2):\n",
    "        return self.vector1 + object2.vector1\n",
    "    def __repr__(self):\n",
    "        return f\"{self.vector1}\"\n",
    "vector1_instance = Vectorone(10)\n",
    "vector2_instance = VectorTwo(20)\n",
    "print(vector1_instance + vector2_instance)"
   ]
  }
 ],
 "metadata": {
  "interpreter": {
   "hash": "39d388ca1b04e1a174574da37708eb359a2bcdc8ec40a682dcfb85d2b414fb91"
  },
  "kernelspec": {
   "display_name": "Python 3.9.7 ('p1')",
   "language": "python",
   "name": "python3"
  },
  "language_info": {
   "codemirror_mode": {
    "name": "ipython",
    "version": 3
   },
   "file_extension": ".py",
   "mimetype": "text/x-python",
   "name": "python",
   "nbconvert_exporter": "python",
   "pygments_lexer": "ipython3",
   "version": "3.9.7"
  },
  "orig_nbformat": 4
 },
 "nbformat": 4,
 "nbformat_minor": 2
}
