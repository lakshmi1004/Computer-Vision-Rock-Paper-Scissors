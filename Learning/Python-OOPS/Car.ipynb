{
 "cells": [
  {
   "cell_type": "code",
   "execution_count": 9,
   "metadata": {},
   "outputs": [
    {
     "name": "stdout",
     "output_type": "stream",
     "text": [
      "vroom\n",
      "Car Model -  Tesla Year -  2022 model,has driven 1 miles\n"
     ]
    }
   ],
   "source": [
    "class Car:\n",
    "    def __init__(self, Model, Year = 2022, miles_driven = 0 ) :\n",
    "        #attributes\n",
    "        # We will get back to self shortly, but basically is a way to set an attribute to the instance\n",
    "        self.Model = Model\n",
    "        self.Year = Year\n",
    "        self.miles_driven = miles_driven\n",
    "    def drive(self):\n",
    "        print('vroom')\n",
    "        self.miles_driven += 1\n",
    "    def info(self):\n",
    "        print('Car Model - ', self.Model, 'Year - ', self.Year, 'model,has driven',self.miles_driven, 'miles')\n",
    "        \n",
    "First = Car('Tesla') \n",
    "First.drive()\n",
    "First.info()\n",
    "    \n",
    "    \n",
    "\n"
   ]
  }
 ],
 "metadata": {
  "interpreter": {
   "hash": "39d388ca1b04e1a174574da37708eb359a2bcdc8ec40a682dcfb85d2b414fb91"
  },
  "kernelspec": {
   "display_name": "Python 3.9.7 ('p1')",
   "language": "python",
   "name": "python3"
  },
  "language_info": {
   "codemirror_mode": {
    "name": "ipython",
    "version": 3
   },
   "file_extension": ".py",
   "mimetype": "text/x-python",
   "name": "python",
   "nbconvert_exporter": "python",
   "pygments_lexer": "ipython3",
   "version": "3.9.7"
  },
  "orig_nbformat": 4
 },
 "nbformat": 4,
 "nbformat_minor": 2
}
