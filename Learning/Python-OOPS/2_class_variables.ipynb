{
 "cells": [
  {
   "cell_type": "code",
   "execution_count": 12,
   "metadata": {},
   "outputs": [
    {
     "name": "stdout",
     "output_type": "stream",
     "text": [
      "5000\n",
      "9800\n",
      "0.4\n",
      "0.4\n",
      "0.4\n"
     ]
    }
   ],
   "source": [
    "class Employees:#object\n",
    "    pay_rise = 0.4\n",
    "    def __init__(self,first, last,pay): #self - keyword says this instance.\n",
    "        self.first = first\n",
    "        self.last = last\n",
    "        self.pay = pay\n",
    "        self.email = first + '.'+last +'@company.com'\n",
    "    def fullname(self):\n",
    "        return '{}{}'.format(emp_1.first, emp_1.last)\n",
    "    def increament(self):\n",
    "        self.pay += int(self.pay * Employees.pay_rise) # or can use self.pay_rise\n",
    "\n",
    "emp_1 = Employees('Raji','Vij',5000) #Instance of a class\n",
    "emp_2 = Employees('test','user',6000)\n",
    "print(emp_1.pay)#Print the actual salary 5000\n",
    "emp_1.increament()# calling increament method\n",
    "Employees.increament(emp_1) #can call method of class like this as well\n",
    "print(emp_1.pay)# print after increamented salry 7000\n",
    "print(emp_1.pay_rise)\n",
    "print(emp_2.pay_rise)\n",
    "print(Employees.pay_rise)"
   ]
  }
 ],
 "metadata": {
  "interpreter": {
   "hash": "39d388ca1b04e1a174574da37708eb359a2bcdc8ec40a682dcfb85d2b414fb91"
  },
  "kernelspec": {
   "display_name": "Python 3.9.7 ('p1')",
   "language": "python",
   "name": "python3"
  },
  "language_info": {
   "codemirror_mode": {
    "name": "ipython",
    "version": 3
   },
   "file_extension": ".py",
   "mimetype": "text/x-python",
   "name": "python",
   "nbconvert_exporter": "python",
   "pygments_lexer": "ipython3",
   "version": "3.9.7"
  },
  "orig_nbformat": 4
 },
 "nbformat": 4,
 "nbformat_minor": 2
}
