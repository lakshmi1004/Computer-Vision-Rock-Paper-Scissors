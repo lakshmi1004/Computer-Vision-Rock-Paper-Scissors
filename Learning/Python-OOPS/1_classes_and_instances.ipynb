{
 "cells": [
  {
   "cell_type": "code",
   "execution_count": null,
   "metadata": {},
   "outputs": [],
   "source": [
    "class Employee:\n",
    "    pass #Empty to skip the class\n",
    "\n",
    "#Class is the blueprint\n",
    "#creating copy of class is called as Instances\n",
    "emp_1 = Employee() #Instance of a class\n",
    "emp_2 = Employee() #Instance of a class\n",
    "print(emp_1) # prints the memory location\n",
    "print(emp_2)\n",
    "\n",
    "#Creating Instance variable for emp_1 manually\n",
    "emp_1.first ='Ramya'\n",
    "emp_1.last ='Vijay'\n",
    "emp_1.email = 'Ramya.viajy@company.com'\n",
    "emp_1.pay = '5000'\n",
    "#Creating Instance variable for emp_2 manually\n",
    "emp_2.first ='Ram'\n",
    "emp_2.last ='Vijay'\n",
    "emp_2.email = 'Ram.viajy@company.com'\n",
    "emp_2.pay = '6000'\n",
    "\n",
    "print(emp_1.first)"
   ]
  },
  {
   "cell_type": "code",
   "execution_count": 12,
   "metadata": {},
   "outputs": [
    {
     "name": "stdout",
     "output_type": "stream",
     "text": [
      "RajiVij\n",
      "RajiVij\n"
     ]
    }
   ],
   "source": [
    "class Employees:#object\n",
    "    def __init__(self,first, last,pay): #self - keyword says this instance.\n",
    "        self.first = first\n",
    "        self.last = last\n",
    "        self.pay = pay\n",
    "        self.email = first + '.'+last +'@company.com'\n",
    "    def fullname(self):\n",
    "        return '{}{}'.format(emp_1.first, emp_1.last)\n",
    "\n",
    "\n",
    "emp_1 = Employees('Raji','Vij',5000) #Instance of a class\n",
    "emp_2 = Employees('test','user',6000)\n",
    "print(emp_1.email) # to print the attribute of an employee\n",
    "\n",
    "#To print full name\n",
    "print('{}{}'.format(emp_1.first, emp_1.last))# instead of using this for each employee we can create method inside class\n",
    "print(emp_1.fullname())\n",
    "print(Employees.fullname(emp_1))"
   ]
  }
 ],
 "metadata": {
  "interpreter": {
   "hash": "39d388ca1b04e1a174574da37708eb359a2bcdc8ec40a682dcfb85d2b414fb91"
  },
  "kernelspec": {
   "display_name": "Python 3.9.7 ('p1')",
   "language": "python",
   "name": "python3"
  },
  "language_info": {
   "codemirror_mode": {
    "name": "ipython",
    "version": 3
   },
   "file_extension": ".py",
   "mimetype": "text/x-python",
   "name": "python",
   "nbconvert_exporter": "python",
   "pygments_lexer": "ipython3",
   "version": "3.9.7"
  },
  "orig_nbformat": 4
 },
 "nbformat": 4,
 "nbformat_minor": 2
}
