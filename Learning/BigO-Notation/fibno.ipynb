{
 "cells": [
  {
   "cell_type": "code",
   "execution_count": 10,
   "metadata": {},
   "outputs": [
    {
     "name": "stdout",
     "output_type": "stream",
     "text": [
      "1647946910.8784866\n",
      "1647946910.8785572\n",
      "5 7.05718994140625e-05\n"
     ]
    }
   ],
   "source": [
    "import time\n",
    "t=time.time()\n",
    "print(t)\n",
    "a=2+3\n",
    "t2 = time.time()\n",
    "print (t2)\n",
    "print(a,t2- t)"
   ]
  },
  {
   "cell_type": "code",
   "execution_count": null,
   "metadata": {},
   "outputs": [],
   "source": [
    "fibnoacci"
   ]
  }
 ],
 "metadata": {
  "interpreter": {
   "hash": "309d55093c20dde78e2d73e41541ecb833faa4b88249672f334c68656f50009c"
  },
  "kernelspec": {
   "display_name": "Python 3.9.7 ('selenium')",
   "language": "python",
   "name": "python3"
  },
  "language_info": {
   "codemirror_mode": {
    "name": "ipython",
    "version": 3
   },
   "file_extension": ".py",
   "mimetype": "text/x-python",
   "name": "python",
   "nbconvert_exporter": "python",
   "pygments_lexer": "ipython3",
   "version": "3.9.7"
  },
  "orig_nbformat": 4
 },
 "nbformat": 4,
 "nbformat_minor": 2
}
