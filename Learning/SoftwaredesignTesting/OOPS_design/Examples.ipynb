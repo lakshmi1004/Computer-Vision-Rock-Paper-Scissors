{
 "cells": [
  {
   "cell_type": "code",
   "execution_count": 3,
   "metadata": {},
   "outputs": [
    {
     "data": {
      "text/plain": [
       "'foo'"
      ]
     },
     "execution_count": 3,
     "metadata": {},
     "output_type": "execute_result"
    }
   ],
   "source": [
    "import foo\n",
    "#import bar\n",
    "foo.__name__"
   ]
  },
  {
   "cell_type": "code",
   "execution_count": 4,
   "metadata": {},
   "outputs": [
    {
     "name": "stdout",
     "output_type": "stream",
     "text": [
      "__main__\n"
     ]
    }
   ],
   "source": [
    "print(__name__)"
   ]
  },
  {
   "cell_type": "code",
   "execution_count": 6,
   "metadata": {},
   "outputs": [
    {
     "name": "stdout",
     "output_type": "stream",
     "text": [
      "Printing x: I am \"x\" in this notebook\n",
      "Printing foo.x: I have changed again\n"
     ]
    }
   ],
   "source": [
    "x = 'I am \"x\" in this notebook'\n",
    "print('Printing x: ' + x)\n",
    "print('Printing foo.x: ' + foo.x)"
   ]
  },
  {
   "cell_type": "code",
   "execution_count": 7,
   "metadata": {},
   "outputs": [
    {
     "name": "stdout",
     "output_type": "stream",
     "text": [
      "I am in the outer function, and foo.x says: I have changed again\n",
      "I am in the inner function, and foo.x says: I have changed again\n"
     ]
    }
   ],
   "source": [
    "def print_foo():\n",
    "    print('I am in the outer function, and foo.x says: ' + foo.x)\n",
    "    def nested_foo():\n",
    "        print('I am in the inner function, and foo.x says: ' + foo.x)\n",
    "    nested_foo()\n",
    "\n",
    "print_foo()"
   ]
  },
  {
   "cell_type": "code",
   "execution_count": 8,
   "metadata": {},
   "outputs": [
    {
     "name": "stdout",
     "output_type": "stream",
     "text": [
      "I have changed again\n"
     ]
    }
   ],
   "source": [
    "import foo\n",
    "print(foo.x)"
   ]
  },
  {
   "cell_type": "code",
   "execution_count": 9,
   "metadata": {},
   "outputs": [
    {
     "name": "stdout",
     "output_type": "stream",
     "text": [
      "I changed...\n"
     ]
    }
   ],
   "source": [
    "foo.x = 'I changed...'\n",
    "print(foo.x)"
   ]
  },
  {
   "cell_type": "code",
   "execution_count": 2,
   "metadata": {},
   "outputs": [
    {
     "name": "stdout",
     "output_type": "stream",
     "text": [
      "50\n",
      "100\n",
      "100\n"
     ]
    },
    {
     "ename": "AttributeError",
     "evalue": "'function' object has no attribute 'x'",
     "output_type": "error",
     "traceback": [
      "\u001b[0;31m---------------------------------------------------------------------------\u001b[0m",
      "\u001b[0;31mAttributeError\u001b[0m                            Traceback (most recent call last)",
      "\u001b[1;32m/home/lakshmi/Documents/DS/Learning/SoftwaredesignTesting/OOPS_design/Examples.ipynb Cell 7'\u001b[0m in \u001b[0;36m<module>\u001b[0;34m\u001b[0m\n\u001b[1;32m      <a href='vscode-notebook-cell:/home/lakshmi/Documents/DS/Learning/SoftwaredesignTesting/OOPS_design/Examples.ipynb#ch0000008?line=7'>8</a>\u001b[0m     \u001b[39mreturn\u001b[39;00m x\n\u001b[1;32m     <a href='vscode-notebook-cell:/home/lakshmi/Documents/DS/Learning/SoftwaredesignTesting/OOPS_design/Examples.ipynb#ch0000008?line=9'>10</a>\u001b[0m \u001b[39mprint\u001b[39m(foo(x))\n\u001b[0;32m---> <a href='vscode-notebook-cell:/home/lakshmi/Documents/DS/Learning/SoftwaredesignTesting/OOPS_design/Examples.ipynb#ch0000008?line=10'>11</a>\u001b[0m \u001b[39mprint\u001b[39m(foo\u001b[39m.\u001b[39;49mx)\n",
      "\u001b[0;31mAttributeError\u001b[0m: 'function' object has no attribute 'x'"
     ]
    }
   ],
   "source": [
    "import foo\n",
    "\n",
    "x = 50\n",
    "def foo(x):\n",
    "    print(x)\n",
    "    x = 100\n",
    "    print(x)\n",
    "    return x\n",
    "\n",
    "print(foo(x))\n",
    "print(foo.x) #Should throw attribute error"
   ]
  },
  {
   "cell_type": "code",
   "execution_count": 3,
   "metadata": {},
   "outputs": [
    {
     "name": "stdout",
     "output_type": "stream",
     "text": [
      "I have changed again\n",
      "bar\n"
     ]
    },
    {
     "ename": "TypeError",
     "evalue": "'module' object is not callable",
     "output_type": "error",
     "traceback": [
      "\u001b[0;31m---------------------------------------------------------------------------\u001b[0m",
      "\u001b[0;31mTypeError\u001b[0m                                 Traceback (most recent call last)",
      "\u001b[1;32m/home/lakshmi/Documents/DS/Learning/SoftwaredesignTesting/OOPS_design/Examples.ipynb Cell 8'\u001b[0m in \u001b[0;36m<module>\u001b[0;34m\u001b[0m\n\u001b[1;32m      <a href='vscode-notebook-cell:/home/lakshmi/Documents/DS/Learning/SoftwaredesignTesting/OOPS_design/Examples.ipynb#ch0000009?line=3'>4</a>\u001b[0m \u001b[39mprint\u001b[39m(foo\u001b[39m.\u001b[39mx)\n\u001b[1;32m      <a href='vscode-notebook-cell:/home/lakshmi/Documents/DS/Learning/SoftwaredesignTesting/OOPS_design/Examples.ipynb#ch0000009?line=4'>5</a>\u001b[0m \u001b[39mprint\u001b[39m(bar\u001b[39m.\u001b[39mx)\n\u001b[0;32m----> <a href='vscode-notebook-cell:/home/lakshmi/Documents/DS/Learning/SoftwaredesignTesting/OOPS_design/Examples.ipynb#ch0000009?line=5'>6</a>\u001b[0m \u001b[39mprint\u001b[39m(foo(x))\n",
      "\u001b[0;31mTypeError\u001b[0m: 'module' object is not callable"
     ]
    }
   ],
   "source": [
    "import foo\n",
    "import bar\n",
    "\n",
    "print(foo.x)\n",
    "print(bar.x)\n",
    "print(foo(x))"
   ]
  },
  {
   "cell_type": "code",
   "execution_count": null,
   "metadata": {},
   "outputs": [],
   "source": [
    "import foo\n",
    "import bar\n",
    "foo.__dict__"
   ]
  },
  {
   "cell_type": "code",
   "execution_count": 5,
   "metadata": {},
   "outputs": [
    {
     "name": "stdout",
     "output_type": "stream",
     "text": [
      "The Zen of Python, by Tim Peters\n",
      "\n",
      "Beautiful is better than ugly.\n",
      "Explicit is better than implicit.\n",
      "Simple is better than complex.\n",
      "Complex is better than complicated.\n",
      "Flat is better than nested.\n",
      "Sparse is better than dense.\n",
      "Readability counts.\n",
      "Special cases aren't special enough to break the rules.\n",
      "Although practicality beats purity.\n",
      "Errors should never pass silently.\n",
      "Unless explicitly silenced.\n",
      "In the face of ambiguity, refuse the temptation to guess.\n",
      "There should be one-- and preferably only one --obvious way to do it.\n",
      "Although that way may not be obvious at first unless you're Dutch.\n",
      "Now is better than never.\n",
      "Although never is often better than *right* now.\n",
      "If the implementation is hard to explain, it's a bad idea.\n",
      "If the implementation is easy to explain, it may be a good idea.\n",
      "Namespaces are one honking great idea -- let's do more of those!\n"
     ]
    }
   ],
   "source": [
    "import this"
   ]
  }
 ],
 "metadata": {
  "interpreter": {
   "hash": "309d55093c20dde78e2d73e41541ecb833faa4b88249672f334c68656f50009c"
  },
  "kernelspec": {
   "display_name": "Python 3.9.7 ('selenium')",
   "language": "python",
   "name": "python3"
  },
  "language_info": {
   "codemirror_mode": {
    "name": "ipython",
    "version": 3
   },
   "file_extension": ".py",
   "mimetype": "text/x-python",
   "name": "python",
   "nbconvert_exporter": "python",
   "pygments_lexer": "ipython3",
   "version": "3.9.7"
  },
  "orig_nbformat": 4
 },
 "nbformat": 4,
 "nbformat_minor": 2
}
