{
 "cells": [
  {
   "cell_type": "code",
   "execution_count": 2,
   "metadata": {},
   "outputs": [
    {
     "name": "stderr",
     "output_type": "stream",
     "text": [
      "\n",
      "\n",
      "====== WebDriver manager ======\n",
      "Current google-chrome version is 100.0.4896\n",
      "Get LATEST chromedriver version for 100.0.4896 google-chrome\n",
      "Driver [/home/lakshmi/.wdm/drivers/chromedriver/linux64/100.0.4896.60/chromedriver] found in cache\n",
      "/tmp/ipykernel_10232/2287670832.py:9: DeprecationWarning: executable_path has been deprecated, please pass in a Service object\n",
      "  driver = Chrome(ChromeDriverManager().install())\n",
      "/tmp/ipykernel_10232/2287670832.py:14: DeprecationWarning: find_elements_by_* commands are deprecated. Please use find_elements() instead\n",
      "  dog_list = driver.find_elements_by_xpath('//figure[@itemprop=\"image\"]')\n",
      "/home/lakshmi/anaconda3/envs/selenium/lib/python3.9/site-packages/selenium/webdriver/remote/webelement.py:393: UserWarning: find_element_by_* commands are deprecated. Please use find_element() instead\n",
      "  warnings.warn(\"find_element_by_* commands are deprecated. Please use find_element() instead\")\n",
      "/tmp/ipykernel_10232/2287670832.py:22: DeprecationWarning: find_element_by_* commands are deprecated. Please use find_element() instead\n",
      "  src = driver.find_element_by_xpath('//img[@class=\"oCCRx\"]').get_attribute('src')\n"
     ]
    },
    {
     "ename": "NoSuchElementException",
     "evalue": "Message: no such element: Unable to locate element: {\"method\":\"xpath\",\"selector\":\"//img[@class=\"oCCRx\"]\"}\n  (Session info: chrome=100.0.4896.75)\nStacktrace:\n#0 0x5595a7e55ad3 <unknown>\n#1 0x5595a7bb5568 <unknown>\n#2 0x5595a7bebc46 <unknown>\n#3 0x5595a7bebe01 <unknown>\n#4 0x5595a7c1ea64 <unknown>\n#5 0x5595a7c0961d <unknown>\n#6 0x5595a7c1c824 <unknown>\n#7 0x5595a7c094e3 <unknown>\n#8 0x5595a7bded1a <unknown>\n#9 0x5595a7bdfe75 <unknown>\n#10 0x5595a7e83efd <unknown>\n#11 0x5595a7e9d19b <unknown>\n#12 0x5595a7e85c65 <unknown>\n#13 0x5595a7e9dec8 <unknown>\n#14 0x5595a7e79360 <unknown>\n#15 0x5595a7eb9a68 <unknown>\n#16 0x5595a7eb9be8 <unknown>\n#17 0x5595a7ed37fd <unknown>\n#18 0x7fbae4fba609 <unknown>\n",
     "output_type": "error",
     "traceback": [
      "\u001b[0;31m---------------------------------------------------------------------------\u001b[0m",
      "\u001b[0;31mNoSuchElementException\u001b[0m                    Traceback (most recent call last)",
      "\u001b[1;32m/home/lakshmi/Documents/DS/Learning/SoftwaredesignTesting/OOPS_design/example_funct_sepe.ipynb Cell 1'\u001b[0m in \u001b[0;36m<module>\u001b[0;34m\u001b[0m\n\u001b[1;32m     <a href='vscode-notebook-cell:/home/lakshmi/Documents/DS/Learning/SoftwaredesignTesting/OOPS_design/example_funct_sepe.ipynb#ch0000000?line=19'>20</a>\u001b[0m     driver\u001b[39m.\u001b[39mget(link)\n\u001b[1;32m     <a href='vscode-notebook-cell:/home/lakshmi/Documents/DS/Learning/SoftwaredesignTesting/OOPS_design/example_funct_sepe.ipynb#ch0000000?line=20'>21</a>\u001b[0m     time\u001b[39m.\u001b[39msleep(\u001b[39m0.5\u001b[39m)\n\u001b[0;32m---> <a href='vscode-notebook-cell:/home/lakshmi/Documents/DS/Learning/SoftwaredesignTesting/OOPS_design/example_funct_sepe.ipynb#ch0000000?line=21'>22</a>\u001b[0m     src \u001b[39m=\u001b[39m driver\u001b[39m.\u001b[39;49mfind_element_by_xpath(\u001b[39m'\u001b[39;49m\u001b[39m//img[@class=\u001b[39;49m\u001b[39m\"\u001b[39;49m\u001b[39moCCRx\u001b[39;49m\u001b[39m\"\u001b[39;49m\u001b[39m]\u001b[39;49m\u001b[39m'\u001b[39;49m)\u001b[39m.\u001b[39mget_attribute(\u001b[39m'\u001b[39m\u001b[39msrc\u001b[39m\u001b[39m'\u001b[39m)\n\u001b[1;32m     <a href='vscode-notebook-cell:/home/lakshmi/Documents/DS/Learning/SoftwaredesignTesting/OOPS_design/example_funct_sepe.ipynb#ch0000000?line=22'>23</a>\u001b[0m     urllib\u001b[39m.\u001b[39mrequest\u001b[39m.\u001b[39murlretrieve(src, \u001b[39mf\u001b[39m\u001b[39m\"\u001b[39m\u001b[39mdog_\u001b[39m\u001b[39m{\u001b[39;00mi\u001b[39m}\u001b[39;00m\u001b[39m.jpg\u001b[39m\u001b[39m\"\u001b[39m)\n\u001b[1;32m     <a href='vscode-notebook-cell:/home/lakshmi/Documents/DS/Learning/SoftwaredesignTesting/OOPS_design/example_funct_sepe.ipynb#ch0000000?line=24'>25</a>\u001b[0m \u001b[39m# Get links for cats\u001b[39;00m\n",
      "File \u001b[0;32m~/anaconda3/envs/selenium/lib/python3.9/site-packages/selenium/webdriver/remote/webdriver.py:520\u001b[0m, in \u001b[0;36mWebDriver.find_element_by_xpath\u001b[0;34m(self, xpath)\u001b[0m\n\u001b[1;32m    <a href='file:///home/lakshmi/anaconda3/envs/selenium/lib/python3.9/site-packages/selenium/webdriver/remote/webdriver.py?line=497'>498</a>\u001b[0m \u001b[39m\"\"\"\u001b[39;00m\n\u001b[1;32m    <a href='file:///home/lakshmi/anaconda3/envs/selenium/lib/python3.9/site-packages/selenium/webdriver/remote/webdriver.py?line=498'>499</a>\u001b[0m \u001b[39mFinds an element by xpath.\u001b[39;00m\n\u001b[1;32m    <a href='file:///home/lakshmi/anaconda3/envs/selenium/lib/python3.9/site-packages/selenium/webdriver/remote/webdriver.py?line=499'>500</a>\u001b[0m \n\u001b[0;32m   (...)\u001b[0m\n\u001b[1;32m    <a href='file:///home/lakshmi/anaconda3/envs/selenium/lib/python3.9/site-packages/selenium/webdriver/remote/webdriver.py?line=512'>513</a>\u001b[0m \u001b[39m        element = driver.find_element_by_xpath('//div/td[1]')\u001b[39;00m\n\u001b[1;32m    <a href='file:///home/lakshmi/anaconda3/envs/selenium/lib/python3.9/site-packages/selenium/webdriver/remote/webdriver.py?line=513'>514</a>\u001b[0m \u001b[39m\"\"\"\u001b[39;00m\n\u001b[1;32m    <a href='file:///home/lakshmi/anaconda3/envs/selenium/lib/python3.9/site-packages/selenium/webdriver/remote/webdriver.py?line=514'>515</a>\u001b[0m warnings\u001b[39m.\u001b[39mwarn(\n\u001b[1;32m    <a href='file:///home/lakshmi/anaconda3/envs/selenium/lib/python3.9/site-packages/selenium/webdriver/remote/webdriver.py?line=515'>516</a>\u001b[0m     \u001b[39m\"\u001b[39m\u001b[39mfind_element_by_* commands are deprecated. Please use find_element() instead\u001b[39m\u001b[39m\"\u001b[39m,\n\u001b[1;32m    <a href='file:///home/lakshmi/anaconda3/envs/selenium/lib/python3.9/site-packages/selenium/webdriver/remote/webdriver.py?line=516'>517</a>\u001b[0m     \u001b[39mDeprecationWarning\u001b[39;00m,\n\u001b[1;32m    <a href='file:///home/lakshmi/anaconda3/envs/selenium/lib/python3.9/site-packages/selenium/webdriver/remote/webdriver.py?line=517'>518</a>\u001b[0m     stacklevel\u001b[39m=\u001b[39m\u001b[39m2\u001b[39m,\n\u001b[1;32m    <a href='file:///home/lakshmi/anaconda3/envs/selenium/lib/python3.9/site-packages/selenium/webdriver/remote/webdriver.py?line=518'>519</a>\u001b[0m )\n\u001b[0;32m--> <a href='file:///home/lakshmi/anaconda3/envs/selenium/lib/python3.9/site-packages/selenium/webdriver/remote/webdriver.py?line=519'>520</a>\u001b[0m \u001b[39mreturn\u001b[39;00m \u001b[39mself\u001b[39;49m\u001b[39m.\u001b[39;49mfind_element(by\u001b[39m=\u001b[39;49mBy\u001b[39m.\u001b[39;49mXPATH, value\u001b[39m=\u001b[39;49mxpath)\n",
      "File \u001b[0;32m~/anaconda3/envs/selenium/lib/python3.9/site-packages/selenium/webdriver/remote/webdriver.py:1244\u001b[0m, in \u001b[0;36mWebDriver.find_element\u001b[0;34m(self, by, value)\u001b[0m\n\u001b[1;32m   <a href='file:///home/lakshmi/anaconda3/envs/selenium/lib/python3.9/site-packages/selenium/webdriver/remote/webdriver.py?line=1240'>1241</a>\u001b[0m     by \u001b[39m=\u001b[39m By\u001b[39m.\u001b[39mCSS_SELECTOR\n\u001b[1;32m   <a href='file:///home/lakshmi/anaconda3/envs/selenium/lib/python3.9/site-packages/selenium/webdriver/remote/webdriver.py?line=1241'>1242</a>\u001b[0m     value \u001b[39m=\u001b[39m \u001b[39m'\u001b[39m\u001b[39m[name=\u001b[39m\u001b[39m\"\u001b[39m\u001b[39m%s\u001b[39;00m\u001b[39m\"\u001b[39m\u001b[39m]\u001b[39m\u001b[39m'\u001b[39m \u001b[39m%\u001b[39m value\n\u001b[0;32m-> <a href='file:///home/lakshmi/anaconda3/envs/selenium/lib/python3.9/site-packages/selenium/webdriver/remote/webdriver.py?line=1243'>1244</a>\u001b[0m \u001b[39mreturn\u001b[39;00m \u001b[39mself\u001b[39;49m\u001b[39m.\u001b[39;49mexecute(Command\u001b[39m.\u001b[39;49mFIND_ELEMENT, {\n\u001b[1;32m   <a href='file:///home/lakshmi/anaconda3/envs/selenium/lib/python3.9/site-packages/selenium/webdriver/remote/webdriver.py?line=1244'>1245</a>\u001b[0m     \u001b[39m'\u001b[39;49m\u001b[39musing\u001b[39;49m\u001b[39m'\u001b[39;49m: by,\n\u001b[1;32m   <a href='file:///home/lakshmi/anaconda3/envs/selenium/lib/python3.9/site-packages/selenium/webdriver/remote/webdriver.py?line=1245'>1246</a>\u001b[0m     \u001b[39m'\u001b[39;49m\u001b[39mvalue\u001b[39;49m\u001b[39m'\u001b[39;49m: value})[\u001b[39m'\u001b[39m\u001b[39mvalue\u001b[39m\u001b[39m'\u001b[39m]\n",
      "File \u001b[0;32m~/anaconda3/envs/selenium/lib/python3.9/site-packages/selenium/webdriver/remote/webdriver.py:424\u001b[0m, in \u001b[0;36mWebDriver.execute\u001b[0;34m(self, driver_command, params)\u001b[0m\n\u001b[1;32m    <a href='file:///home/lakshmi/anaconda3/envs/selenium/lib/python3.9/site-packages/selenium/webdriver/remote/webdriver.py?line=421'>422</a>\u001b[0m response \u001b[39m=\u001b[39m \u001b[39mself\u001b[39m\u001b[39m.\u001b[39mcommand_executor\u001b[39m.\u001b[39mexecute(driver_command, params)\n\u001b[1;32m    <a href='file:///home/lakshmi/anaconda3/envs/selenium/lib/python3.9/site-packages/selenium/webdriver/remote/webdriver.py?line=422'>423</a>\u001b[0m \u001b[39mif\u001b[39;00m response:\n\u001b[0;32m--> <a href='file:///home/lakshmi/anaconda3/envs/selenium/lib/python3.9/site-packages/selenium/webdriver/remote/webdriver.py?line=423'>424</a>\u001b[0m     \u001b[39mself\u001b[39;49m\u001b[39m.\u001b[39;49merror_handler\u001b[39m.\u001b[39;49mcheck_response(response)\n\u001b[1;32m    <a href='file:///home/lakshmi/anaconda3/envs/selenium/lib/python3.9/site-packages/selenium/webdriver/remote/webdriver.py?line=424'>425</a>\u001b[0m     response[\u001b[39m'\u001b[39m\u001b[39mvalue\u001b[39m\u001b[39m'\u001b[39m] \u001b[39m=\u001b[39m \u001b[39mself\u001b[39m\u001b[39m.\u001b[39m_unwrap_value(\n\u001b[1;32m    <a href='file:///home/lakshmi/anaconda3/envs/selenium/lib/python3.9/site-packages/selenium/webdriver/remote/webdriver.py?line=425'>426</a>\u001b[0m         response\u001b[39m.\u001b[39mget(\u001b[39m'\u001b[39m\u001b[39mvalue\u001b[39m\u001b[39m'\u001b[39m, \u001b[39mNone\u001b[39;00m))\n\u001b[1;32m    <a href='file:///home/lakshmi/anaconda3/envs/selenium/lib/python3.9/site-packages/selenium/webdriver/remote/webdriver.py?line=426'>427</a>\u001b[0m     \u001b[39mreturn\u001b[39;00m response\n",
      "File \u001b[0;32m~/anaconda3/envs/selenium/lib/python3.9/site-packages/selenium/webdriver/remote/errorhandler.py:247\u001b[0m, in \u001b[0;36mErrorHandler.check_response\u001b[0;34m(self, response)\u001b[0m\n\u001b[1;32m    <a href='file:///home/lakshmi/anaconda3/envs/selenium/lib/python3.9/site-packages/selenium/webdriver/remote/errorhandler.py?line=244'>245</a>\u001b[0m         alert_text \u001b[39m=\u001b[39m value[\u001b[39m'\u001b[39m\u001b[39malert\u001b[39m\u001b[39m'\u001b[39m]\u001b[39m.\u001b[39mget(\u001b[39m'\u001b[39m\u001b[39mtext\u001b[39m\u001b[39m'\u001b[39m)\n\u001b[1;32m    <a href='file:///home/lakshmi/anaconda3/envs/selenium/lib/python3.9/site-packages/selenium/webdriver/remote/errorhandler.py?line=245'>246</a>\u001b[0m     \u001b[39mraise\u001b[39;00m exception_class(message, screen, stacktrace, alert_text)  \u001b[39m# type: ignore[call-arg]  # mypy is not smart enough here\u001b[39;00m\n\u001b[0;32m--> <a href='file:///home/lakshmi/anaconda3/envs/selenium/lib/python3.9/site-packages/selenium/webdriver/remote/errorhandler.py?line=246'>247</a>\u001b[0m \u001b[39mraise\u001b[39;00m exception_class(message, screen, stacktrace)\n",
      "\u001b[0;31mNoSuchElementException\u001b[0m: Message: no such element: Unable to locate element: {\"method\":\"xpath\",\"selector\":\"//img[@class=\"oCCRx\"]\"}\n  (Session info: chrome=100.0.4896.75)\nStacktrace:\n#0 0x5595a7e55ad3 <unknown>\n#1 0x5595a7bb5568 <unknown>\n#2 0x5595a7bebc46 <unknown>\n#3 0x5595a7bebe01 <unknown>\n#4 0x5595a7c1ea64 <unknown>\n#5 0x5595a7c0961d <unknown>\n#6 0x5595a7c1c824 <unknown>\n#7 0x5595a7c094e3 <unknown>\n#8 0x5595a7bded1a <unknown>\n#9 0x5595a7bdfe75 <unknown>\n#10 0x5595a7e83efd <unknown>\n#11 0x5595a7e9d19b <unknown>\n#12 0x5595a7e85c65 <unknown>\n#13 0x5595a7e9dec8 <unknown>\n#14 0x5595a7e79360 <unknown>\n#15 0x5595a7eb9a68 <unknown>\n#16 0x5595a7eb9be8 <unknown>\n#17 0x5595a7ed37fd <unknown>\n#18 0x7fbae4fba609 <unknown>\n"
     ]
    }
   ],
   "source": [
    "import selenium\n",
    "from selenium import webdriver\n",
    "from selenium.webdriver import Chrome\n",
    "from webdriver_manager.chrome import ChromeDriverManager\n",
    "import urllib.request\n",
    "import time\n",
    "\n",
    "#driver = Chrome()\n",
    "driver = Chrome(ChromeDriverManager().install())\n",
    "#driver = webdriver.Chrome()\n",
    "# Get links for dogs\n",
    "URL = 'https://unsplash.com/s/photos/dog'\n",
    "driver.get(URL)\n",
    "dog_list = driver.find_elements_by_xpath('//figure[@itemprop=\"image\"]')\n",
    "links = []\n",
    "for dog in dog_list:\n",
    "    links.append(dog.find_element_by_xpath('.//a').get_attribute('href'))\n",
    "# go to the link containing the image\n",
    "for i, link in enumerate(links):\n",
    "    driver.get(link)\n",
    "    time.sleep(0.5)\n",
    "    src = driver.find_element_by_xpath('//img[@class=\"oCCRx\"]').get_attribute('src')\n",
    "    urllib.request.urlretrieve(src, f\"dog_{i}.jpg\")\n",
    "    \n",
    "# Get links for cats\n",
    "URL = 'https://unsplash.com/s/photos/cat'\n",
    "driver.get(URL)\n",
    "cat_list = driver.find_elements_by_xpath('//figure[@itemprop=\"image\"]')\n",
    "links = []\n",
    "for cat in cat_list:\n",
    "    links.append(cat.find_element_by_xpath('.//a').get_attribute('href'))\n",
    "# go to the link containing the image\n",
    "for i, link in enumerate(links):\n",
    "    driver.get(link)\n",
    "    time.sleep(0.5)\n",
    "    src = driver.find_element_by_xpath('//img[@class=\"oCCRx\"]').get_attribute('src')\n",
    "    urllib.request.urlretrieve(src, f\"cat_{i}.jpg\")"
   ]
  }
 ],
 "metadata": {
  "interpreter": {
   "hash": "309d55093c20dde78e2d73e41541ecb833faa4b88249672f334c68656f50009c"
  },
  "kernelspec": {
   "display_name": "Python 3.9.7 ('selenium')",
   "language": "python",
   "name": "python3"
  },
  "language_info": {
   "codemirror_mode": {
    "name": "ipython",
    "version": 3
   },
   "file_extension": ".py",
   "mimetype": "text/x-python",
   "name": "python",
   "nbconvert_exporter": "python",
   "pygments_lexer": "ipython3",
   "version": "3.9.7"
  },
  "orig_nbformat": 4
 },
 "nbformat": 4,
 "nbformat_minor": 2
}
