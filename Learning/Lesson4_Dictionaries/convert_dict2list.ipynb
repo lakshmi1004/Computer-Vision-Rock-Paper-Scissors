{
 "cells": [
  {
   "cell_type": "code",
   "execution_count": 1,
   "metadata": {},
   "outputs": [
    {
     "name": "stdout",
     "output_type": "stream",
     "text": [
      "Type of variable listOfKeys is:  <class 'dict_keys'>\n",
      "Printing the entire list containing all Keys: \n",
      "['a', 'b', 'c', 'd']\n",
      "Printing individual Keys stored in the list:\n",
      "a\n",
      "b\n",
      "c\n",
      "d\n"
     ]
    }
   ],
   "source": [
    "dictionary = {'a': 'Apple', 'b': 'Banana', 'c': 'Cherries', 'd': 'Dragon Fruit'}\n",
    "\n",
    "listOfKeys = dictionary.keys()\n",
    "print(\"Type of variable listOfKeys is: \", type(listOfKeys))\n",
    "\n",
    "listOfKeys = list(listOfKeys)\n",
    "\n",
    "print(\"Printing the entire list containing all Keys: \")\n",
    "print(listOfKeys)\n",
    "\n",
    "print(\"Printing individual Keys stored in the list:\")\n",
    "\n",
    "for key in listOfKeys:\n",
    "    print(key)"
   ]
  }
 ],
 "metadata": {
  "interpreter": {
   "hash": "39d388ca1b04e1a174574da37708eb359a2bcdc8ec40a682dcfb85d2b414fb91"
  },
  "kernelspec": {
   "display_name": "Python 3.9.7 ('p1')",
   "language": "python",
   "name": "python3"
  },
  "language_info": {
   "codemirror_mode": {
    "name": "ipython",
    "version": 3
   },
   "file_extension": ".py",
   "mimetype": "text/x-python",
   "name": "python",
   "nbconvert_exporter": "python",
   "pygments_lexer": "ipython3",
   "version": "3.9.7"
  },
  "orig_nbformat": 4
 },
 "nbformat": 4,
 "nbformat_minor": 2
}
