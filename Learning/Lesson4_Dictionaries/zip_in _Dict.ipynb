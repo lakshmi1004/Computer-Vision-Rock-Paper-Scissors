{
 "cells": [
  {
   "cell_type": "code",
   "execution_count": 6,
   "metadata": {},
   "outputs": [
    {
     "name": "stdout",
     "output_type": "stream",
     "text": [
      "['onion', 'tomatoes', 'peas']\n",
      "[4, 2, 4]\n"
     ]
    },
    {
     "data": {
      "text/plain": [
       "{'onion': 4, 'tomatoes': 2, 'peas': 4}"
      ]
     },
     "execution_count": 6,
     "metadata": {},
     "output_type": "execute_result"
    }
   ],
   "source": [
    "shop = {'prices':{'onion':10,'tomatoes':30,'peas':40},'pack_sizes':{'onion':4,'tomatoes':2,'peas':4}}\n",
    "shop_price = (list(shop['prices'].keys()))\n",
    "print(list(shop['prices'].keys()))\n",
    "#shop_pack_sizes = (list(shop['pack_sizes'].values()))\n",
    "print(list(shop['pack_sizes'].values()))\n",
    "#shop_1 = {'shop_price': shop_pack_sizes}\n",
    "dict(zip(shop['prices'].keys(),shop['pack_sizes'].values()))\n",
    "#dict(zip(numberlist,val_list))\n"
   ]
  },
  {
   "cell_type": "code",
   "execution_count": 7,
   "metadata": {},
   "outputs": [
    {
     "name": "stdout",
     "output_type": "stream",
     "text": [
      "dict_items([('onion', 10), ('tomatoes', 30), ('peas', 40)])\n"
     ]
    }
   ],
   "source": [
    "d = shop['prices'].items()\n",
    "print(d)"
   ]
  }
 ],
 "metadata": {
  "interpreter": {
   "hash": "39d388ca1b04e1a174574da37708eb359a2bcdc8ec40a682dcfb85d2b414fb91"
  },
  "kernelspec": {
   "display_name": "Python 3.9.7 ('p1')",
   "language": "python",
   "name": "python3"
  },
  "language_info": {
   "codemirror_mode": {
    "name": "ipython",
    "version": 3
   },
   "file_extension": ".py",
   "mimetype": "text/x-python",
   "name": "python",
   "nbconvert_exporter": "python",
   "pygments_lexer": "ipython3",
   "version": "3.9.7"
  },
  "orig_nbformat": 4
 },
 "nbformat": 4,
 "nbformat_minor": 2
}
