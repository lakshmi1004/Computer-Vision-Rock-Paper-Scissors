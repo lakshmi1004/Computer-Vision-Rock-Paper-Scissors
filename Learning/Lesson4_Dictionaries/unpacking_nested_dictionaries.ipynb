{
 "cells": [
  {
   "cell_type": "code",
   "execution_count": null,
   "metadata": {},
   "outputs": [],
   "source": [
    "one_deep_dictionary = {'start here':1,'k1':[1,2,3,{'k2':[1,2,{'k3':['keep going',{'further':[1,2,3,4,[{'k4':'Python'}]]}]}]}]}\n",
    "one_deep_dictionary['k1'][3]['k2']"
   ]
  },
  {
   "cell_type": "markdown",
   "metadata": {},
   "source": []
  },
  {
   "cell_type": "markdown",
   "metadata": {},
   "source": []
  },
  {
   "cell_type": "code",
   "execution_count": 1,
   "metadata": {},
   "outputs": [
    {
     "name": "stdout",
     "output_type": "stream",
     "text": [
      "dict_keys(['start here', 'k1'])\n",
      "[1, 2, 3, {'k2': [1, 2, {'k3': ['keep going', {'further': [1, 2, 3, 4, [{'k4': 'Python'}]]}]}]}]\n",
      "{'k2': [1, 2, {'k3': ['keep going', {'further': [1, 2, 3, 4, [{'k4': 'Python'}]]}]}]}\n",
      "dict_keys(['k2'])\n",
      "[1, 2, {'k3': ['keep going', {'further': [1, 2, 3, 4, [{'k4': 'Python'}]]}]}]\n",
      "{'k3': ['keep going', {'further': [1, 2, 3, 4, [{'k4': 'Python'}]]}]}\n",
      "dict_keys(['k3'])\n",
      "{'further': [1, 2, 3, 4, [{'k4': 'Python'}]]}\n",
      "[1, 2, 3, 4, [{'k4': 'Python'}]]\n",
      "{'k4': 'Python'}\n",
      "Python\n"
     ]
    }
   ],
   "source": [
    "one_deep_dictionary = {'start here':1,'k1':[1,2,3,{'k2':[1,2,{'k3':['keep going',{'further':[1,2,3,4,[{'k4':'Python'}]]}]}]}]}\n",
    "x = one_deep_dictionary.keys()\n",
    "print(x)\n",
    "y=one_deep_dictionary['k1']\n",
    "print(y)\n",
    "z = y[3]\n",
    "print (z)\n",
    "s= z.keys()\n",
    "print (s)\n",
    "t = z['k2']\n",
    "print(t)\n",
    "u = t[2]\n",
    "print (u)\n",
    "q = u.keys()\n",
    "#u.values()\n",
    "print (q)\n",
    "p = u['k3']\n",
    "print (p[1])\n",
    "a = p[1]\n",
    "a.keys()\n",
    "c= a['further']\n",
    "print(c)\n",
    "b = c[4]\n",
    "d = b[0]\n",
    "print(d)\n",
    "d.keys()\n",
    "e = d['k4']\n",
    "print (e)"
   ]
  }
 ],
 "metadata": {
  "interpreter": {
   "hash": "39d388ca1b04e1a174574da37708eb359a2bcdc8ec40a682dcfb85d2b414fb91"
  },
  "kernelspec": {
   "display_name": "Python 3.9.7 ('p1')",
   "language": "python",
   "name": "python3"
  },
  "language_info": {
   "codemirror_mode": {
    "name": "ipython",
    "version": 3
   },
   "file_extension": ".py",
   "mimetype": "text/x-python",
   "name": "python",
   "nbconvert_exporter": "python",
   "pygments_lexer": "ipython3",
   "version": "3.9.7"
  },
  "orig_nbformat": 4
 },
 "nbformat": 4,
 "nbformat_minor": 2
}
