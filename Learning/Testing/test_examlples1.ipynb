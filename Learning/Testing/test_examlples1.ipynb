{
 "cells": [
  {
   "cell_type": "code",
   "execution_count": 1,
   "metadata": {},
   "outputs": [],
   "source": [
    "from unittest import TestCase\n",
    "\n",
    "class Test_trial(TestCase):\n",
    "    def test_always_passes(self):\n",
    "        self.assertTrue(True)\n",
    "\n",
    "    def test_always_fails(self):\n",
    "        self.assertTrue(False)\n",
    "   "
   ]
  },
  {
   "cell_type": "code",
   "execution_count": 2,
   "metadata": {},
   "outputs": [
    {
     "name": "stdout",
     "output_type": "stream",
     "text": [
      "Requirement already satisfied: pytest in /home/lakshmi/anaconda3/envs/selenium/lib/python3.9/site-packages (7.1.1)\n",
      "Requirement already satisfied: py>=1.8.2 in /home/lakshmi/anaconda3/envs/selenium/lib/python3.9/site-packages (from pytest) (1.11.0)\n",
      "Requirement already satisfied: tomli>=1.0.0 in /home/lakshmi/anaconda3/envs/selenium/lib/python3.9/site-packages (from pytest) (2.0.1)\n",
      "Requirement already satisfied: pluggy<2.0,>=0.12 in /home/lakshmi/anaconda3/envs/selenium/lib/python3.9/site-packages (from pytest) (1.0.0)\n",
      "Requirement already satisfied: attrs>=19.2.0 in /home/lakshmi/anaconda3/envs/selenium/lib/python3.9/site-packages (from pytest) (21.4.0)\n",
      "Requirement already satisfied: iniconfig in /home/lakshmi/anaconda3/envs/selenium/lib/python3.9/site-packages (from pytest) (1.1.1)\n",
      "Requirement already satisfied: packaging in /home/lakshmi/anaconda3/envs/selenium/lib/python3.9/site-packages (from pytest) (21.3)\n",
      "Requirement already satisfied: pyparsing!=3.0.5,>=2.0.2 in /home/lakshmi/anaconda3/envs/selenium/lib/python3.9/site-packages (from packaging->pytest) (3.0.8)\n"
     ]
    }
   ],
   "source": [
    "!python -m pip install pytest"
   ]
  }
 ],
 "metadata": {
  "interpreter": {
   "hash": "309d55093c20dde78e2d73e41541ecb833faa4b88249672f334c68656f50009c"
  },
  "kernelspec": {
   "display_name": "Python 3.9.7 ('selenium')",
   "language": "python",
   "name": "python3"
  },
  "language_info": {
   "codemirror_mode": {
    "name": "ipython",
    "version": 3
   },
   "file_extension": ".py",
   "mimetype": "text/x-python",
   "name": "python",
   "nbconvert_exporter": "python",
   "pygments_lexer": "ipython3",
   "version": "3.9.7"
  },
  "orig_nbformat": 4
 },
 "nbformat": 4,
 "nbformat_minor": 2
}
