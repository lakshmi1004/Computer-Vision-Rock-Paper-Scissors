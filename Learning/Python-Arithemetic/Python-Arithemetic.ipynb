{
 "cells": [
  {
   "cell_type": "code",
   "execution_count": null,
   "metadata": {},
   "outputs": [],
   "source": [
    "t = 1,"
   ]
  },
  {
   "cell_type": "code",
   "execution_count": null,
   "metadata": {},
   "outputs": [],
   "source": [
    "import math\n",
    "def hypotenus (a, b):\n",
    "    c= (a**2 + b**2)\n",
    "    return (math.sqrt(c))"
   ]
  },
  {
   "cell_type": "code",
   "execution_count": null,
   "metadata": {},
   "outputs": [],
   "source": [
    "d = hypotenus (3,4)\n",
    "print(d)"
   ]
  },
  {
   "cell_type": "code",
   "execution_count": null,
   "metadata": {},
   "outputs": [],
   "source": []
  },
  {
   "cell_type": "code",
   "execution_count": null,
   "metadata": {},
   "outputs": [],
   "source": [
    "tup = (1, 5, 4, 1, 8, 1, 5, 2, 2, 2, 1, 8)\n",
    "print(len(tup))\n",
    "\n"
   ]
  },
  {
   "cell_type": "code",
   "execution_count": null,
   "metadata": {},
   "outputs": [],
   "source": [
    "mini = int(input('Enter the minimum number:'))\n",
    "maxi = int(input('Enter the maximum number:'))\n",
    "\n",
    "for i in range(mini, maxi+1):\n",
    "    prime = True\n",
    "    for j in range(2,i):\n",
    "        if (i % j) == 0 :\n",
    "          prime = False\n",
    "          break\n",
    "    if prime == True:\n",
    "        print(i ,'is a prime number')\n",
    "    else:\n",
    "        print (i,'is not prime number because ',j ,'is afactor of ',i)"
   ]
  },
  {
   "cell_type": "code",
   "execution_count": null,
   "metadata": {},
   "outputs": [],
   "source": [
    "tup = ([1, 2], [3, 4], [5, 6])\n",
    "tup[1][1]"
   ]
  },
  {
   "cell_type": "code",
   "execution_count": null,
   "metadata": {},
   "outputs": [],
   "source": [
    "x, y = (3, 4, )\n",
    "\n",
    "y =type(y)\n",
    "print(y)"
   ]
  },
  {
   "cell_type": "code",
   "execution_count": null,
   "metadata": {},
   "outputs": [],
   "source": [
    "names = ('Harry', 'Ahmed', 'Blair', 'Ivan')\n",
    "len(names[0])\n"
   ]
  },
  {
   "cell_type": "code",
   "execution_count": null,
   "metadata": {},
   "outputs": [],
   "source": [
    "\n",
    "A = 'True'\n",
    "B = 'False'\n",
    "C = A > B or A < B\n",
    "print (C)\n",
    "D = (A > B) and (A < B)\n",
    "print (D)\n",
    "D_not = not(A > B or A < B)\n",
    "print(D)\n",
    "#Xnor = ((A > B) or (A < B))^(not(A > B or A < B))\n",
    "print(f'Xnor {((A > B) or (A < B))^(not(A > B or A < B))}')"
   ]
  },
  {
   "cell_type": "code",
   "execution_count": null,
   "metadata": {},
   "outputs": [],
   "source": []
  },
  {
   "cell_type": "code",
   "execution_count": null,
   "metadata": {},
   "outputs": [],
   "source": []
  },
  {
   "cell_type": "code",
   "execution_count": null,
   "metadata": {},
   "outputs": [],
   "source": [
    "tup = (1, 5, 4, 1, 8, 1, 5, 2, 2, 2, 1, 8)\n",
    "print(list(tup))"
   ]
  },
  {
   "cell_type": "code",
   "execution_count": null,
   "metadata": {},
   "outputs": [],
   "source": [
    "set_a = {'a', 'b', 'c', 'd'}\n",
    "set_b = {'b', 'c', 'd', 'e'}\n",
    "set_c = { 'r','tx`'}\n",
    "set_d = { 't'}\n",
    "\n",
    "set_c.union(set_c.intersection(set_d))"
   ]
  },
  {
   "cell_type": "code",
   "execution_count": null,
   "metadata": {},
   "outputs": [],
   "source": [
    "set_1 = {1, 2, 3, 4, 5}\n",
    "set_2 = {2, 4}\n",
    "set_3 = {2}\n",
    "set_1.issuperset(set_2)"
   ]
  },
  {
   "cell_type": "code",
   "execution_count": null,
   "metadata": {},
   "outputs": [],
   "source": [
    "thisdict =\t{\n",
    "  \"brand\": \"Ford\",\n",
    "  \"model\": \"Mustang\",\n",
    "  \"year\": 1964\n",
    "}\n",
    "thisdict.update({\"color\": 'green'})\n",
    "print(thisdict) "
   ]
  },
  {
   "cell_type": "code",
   "execution_count": null,
   "metadata": {},
   "outputs": [],
   "source": [
    "s = 'hello'\n",
    "if len(s) > 0 :\n",
    "    print(len(s))"
   ]
  },
  {
   "cell_type": "code",
   "execution_count": null,
   "metadata": {},
   "outputs": [],
   "source": [
    "n = 300\n",
    "m = n\n",
    "print(id(n))\n",
    "print(id(m))"
   ]
  },
  {
   "cell_type": "code",
   "execution_count": null,
   "metadata": {},
   "outputs": [],
   "source": [
    "long_word = 'Pneumonoultramicroscopicsilicovolcanoconiosis'\n",
    "print(len(long_word))\n",
    "first_c = long_word[0]\n",
    "last_c = long_word[44]\n",
    "print(first_c)\n",
    "print(last_c)\n",
    "last_c = first_c\n",
    "print(last_c)"
   ]
  },
  {
   "cell_type": "code",
   "execution_count": null,
   "metadata": {},
   "outputs": [],
   "source": [
    "a = 4.2\n",
    "b= 25\n",
    "#sum = int(a) + int(b)\n",
    "mul = a * b\n",
    "div = a / b\n",
    "sub = a- b\n",
    "\n",
    "\n",
    "print(sum)\n",
    "print(sub)\n",
    "print(mul)\n",
    "print(div)"
   ]
  },
  {
   "cell_type": "code",
   "execution_count": null,
   "metadata": {},
   "outputs": [],
   "source": [
    "a = 22\n",
    "c = a % 3 \n",
    "t = 'the number is multiply of {}'\n",
    "\n",
    "if c == 0:\n",
    "    print(t.format(a))\n",
    "else:\n",
    "    e = 'the number is not a multiply of {}'\n",
    "    print(e.format(a))\n",
    "       "
   ]
  },
  {
   "cell_type": "code",
   "execution_count": null,
   "metadata": {},
   "outputs": [],
   "source": [
    "cost = 0.87 + (3 * 0.29) + (1.89/1.5) + ((20 *129)/30) + ((1.09 * 80)/500)\n",
    "total = 5 * cost\n",
    "print(total)\n",
    "vat = total * (20/100)\n",
    "Amt = total +vat\n",
    "print(round(Amt,2))"
   ]
  },
  {
   "cell_type": "code",
   "execution_count": null,
   "metadata": {},
   "outputs": [],
   "source": [
    "age = 36\n",
    "txt = \"My name is John, and I am {}\"\n",
    "print(txt.format(age))"
   ]
  },
  {
   "cell_type": "code",
   "execution_count": null,
   "metadata": {},
   "outputs": [],
   "source": [
    "a = 'time is p'\n",
    "print('time'in a)"
   ]
  },
  {
   "cell_type": "code",
   "execution_count": null,
   "metadata": {},
   "outputs": [],
   "source": [
    "fruits = [\"apple\", \"banana\", \"cherry\"]\n",
    "print(len(fruits))"
   ]
  },
  {
   "cell_type": "code",
   "execution_count": null,
   "metadata": {},
   "outputs": [],
   "source": [
    "str_test = 'This Assessment Is Taking Forever'\n",
    "print(str_test.endswith('r'))\n",
    "print(str_test.startswith('t'))\n"
   ]
  },
  {
   "cell_type": "code",
   "execution_count": null,
   "metadata": {},
   "outputs": [],
   "source": [
    "List = [3 , 4 , 5 , 12, 14, 11, 10 , 16, 'a', 'c', 'd']\n",
    "List[1:8:2]"
   ]
  },
  {
   "cell_type": "code",
   "execution_count": null,
   "metadata": {},
   "outputs": [],
   "source": [
    "l2 = [9,10, 5, 4, 3 , 2 ,25]\n",
    "l1 = [5,2, 51, 18, 9,10 ,12]\n",
    "len(l1)"
   ]
  },
  {
   "cell_type": "code",
   "execution_count": null,
   "metadata": {},
   "outputs": [],
   "source": [
    "l3 = [1,1,1]\n",
    "l3.extend(l1)\n",
    "print(l3)"
   ]
  },
  {
   "cell_type": "code",
   "execution_count": null,
   "metadata": {},
   "outputs": [],
   "source": [
    "\n",
    "l2.append(l1)\n",
    "print(l2)"
   ]
  },
  {
   "cell_type": "code",
   "execution_count": null,
   "metadata": {},
   "outputs": [],
   "source": [
    "l3.sort()\n",
    "print(l3.sort())\n",
    "print(sorted(l3))"
   ]
  },
  {
   "cell_type": "code",
   "execution_count": null,
   "metadata": {},
   "outputs": [],
   "source": []
  },
  {
   "cell_type": "code",
   "execution_count": null,
   "metadata": {},
   "outputs": [],
   "source": [
    "s1 = set([1,2, 5,10,11])\n",
    "s2 = set([4,5,1,6])\n",
    "print (s1)"
   ]
  },
  {
   "cell_type": "code",
   "execution_count": null,
   "metadata": {},
   "outputs": [],
   "source": [
    "union = set(s1).union(s2)\n",
    "print(union)\n",
    "intersection = set(s1).intersection(s2)\n",
    "print(intersection)\n",
    "difference = set(s1).difference(s2)\n",
    "print(difference)\n",
    "update = set(s1).update(s2)\n",
    "print(update)\n",
    "\n",
    "s1.update(s2)\n",
    "print(s1)"
   ]
  },
  {
   "cell_type": "code",
   "execution_count": null,
   "metadata": {},
   "outputs": [],
   "source": [
    "list_username = [\"Raji\", \"Vijay\", 'seyon', 'nandika_01']\n",
    "list_usernames = 5 +4j\n",
    "print(\"the type is:\", type(list_username))\n",
    "print(len(list_username))\n",
    "print(len(list_username[3]))\n",
    "r_1 = [10, 13.5, 'ramya', '3i+2j',True]\n",
    "r_2 = [0*0*0*0*0*0*0*0*0*0]\n",
    "r_3 = []\n",
    "r_3.append(r_1)\n",
    "r_3.append(r_2)\n",
    "print(r_3)\n",
    "r_4 = [0] * 10\n",
    "print(r_4)\n",
    "print(r_1)\n"
   ]
  },
  {
   "cell_type": "code",
   "execution_count": null,
   "metadata": {},
   "outputs": [],
   "source": [
    "r_1 = [10, 13.5, 'ramya', '3i+2j',True]\n",
    "r_2 = [0*0*0*0*0*0*0*0*0*0]\n",
    "r_5 =[]\n",
    "#r_5 = [r_1[3] + r_2[0]] #Integers cannot be concatenated\n",
    "r_5.append(r_1[3])\n",
    "r_5.append(r_2[0])\n",
    "\n",
    "print(r_5)"
   ]
  },
  {
   "cell_type": "code",
   "execution_count": null,
   "metadata": {},
   "outputs": [],
   "source": [
    "name = ['ramya', 'raji']\n",
    "set_1 = (name[0])\n",
    "set_2 = (name[1])\n",
    "#set_4 = (set_1[0],set_1[1], set_1[2],set_1[3],set_1[4])\n",
    "#set_5 = (set_2[0],set_2[1], set_2[2],set_2[3])\n",
    "letters= set.intersection(set(set_1), set(set_2))\n",
    "print (\"letters: \"+str(letters))\n",
    "\n",
    "    "
   ]
  },
  {
   "cell_type": "code",
   "execution_count": null,
   "metadata": {},
   "outputs": [],
   "source": [
    "lp = [\"G06 WTR\", \"WL11 WFL\", \"QW68 PQR\"]\n",
    "lp1 = lp[0]\n",
    "x = lp1[5:7]\n",
    "x=1976\n",
    "lp2 = lp[1]\n",
    "y= lp2[6:8]\n",
    "lp3 = lp[2]\n",
    "z= lp3[6:8]\n",
    "print ('type is',type(x))\n",
    "print ('the type is',type(y))\n",
    "print ('the type is',type(z))\n",
    "print(x)\n",
    "print(y)\n",
    "print(z)\n",
    "print(lp1)\n"
   ]
  },
  {
   "cell_type": "code",
   "execution_count": null,
   "metadata": {},
   "outputs": [],
   "source": [
    "phrase1 = 'Ramya Raji'\n",
    "phrase = phrase1.split(' ')\n",
    "p1 = phrase[0]\n",
    "p2 = phrase[1]\n",
    "if p1[0] == p2[0] :\n",
    "    print ('first of the two string has same letter')\n",
    "else:\n",
    "    print ('not same')\n",
    "\n",
    "\n",
    "\n"
   ]
  },
  {
   "cell_type": "code",
   "execution_count": null,
   "metadata": {},
   "outputs": [],
   "source": [
    "my_string1 = 'This is a short phrase'\n",
    "my_string2 = 'This is actually a significantly longer phrase than the previous one'\n",
    "str1 = my_string1.split(' ')\n",
    "str2 = my_string2.split(' ')\n",
    "str1.reverse()\n",
    "str2.reverse()\n",
    "print(str1)\n",
    "print(str2)\n",
    "great = ['pop','popped ','rock','you','treat']\n",
    "great.pop(-1)\n",
    "print(great)"
   ]
  },
  {
   "cell_type": "code",
   "execution_count": null,
   "metadata": {},
   "outputs": [],
   "source": [
    "fruits = ['banana', 'pineapple', 'apple', 'orange', 'strawberry']\n",
    "#fruits.sort(reverse=True)\n",
    "a = sorted(fruits,reverse=True)\n",
    "print(a)\n"
   ]
  },
  {
   "cell_type": "code",
   "execution_count": null,
   "metadata": {},
   "outputs": [],
   "source": [
    "y = 0 \n",
    "for x in range (1,101,2):\n",
    "    print(\"{0}\".format(x))\n",
    "    y = y + x\n",
    "    print(\"The Sum of Odd Numbers from 1 to {0} = {1}\".format(x,y))"
   ]
  },
  {
   "cell_type": "code",
   "execution_count": null,
   "metadata": {},
   "outputs": [],
   "source": [
    "maximum = int(input(\" Please Enter the Maximum Value : \"))\n",
    "Oddtotal = 0\n",
    "\n",
    "for number in range(1, maximum+1, 2):\n",
    "    print(\"{0}\".format(number))\n",
    "    Oddtotal = ((Oddtotal + number))\n",
    "#print(Oddtotal)\n",
    "print(\"The Sum of Odd Numbers from 1 to {0} = {1}\".format(number, Oddtotal))"
   ]
  },
  {
   "cell_type": "code",
   "execution_count": null,
   "metadata": {},
   "outputs": [],
   "source": [
    "n=int(input(\"Enter n value:\"))\n",
    "sum=0\n",
    "for i in range(2,n+1,2):\n",
    "    sum+=i\n",
    "print(sum)"
   ]
  },
  {
   "cell_type": "code",
   "execution_count": null,
   "metadata": {},
   "outputs": [],
   "source": [
    "#order_list = [(\"tom\", 0.87, 4),(\"sug\", 1.09, 3),(\"ws\", 0.29, 4), (\"juc\", 1.89, 1), (\"fo\", 1.29, 2)]\n",
    "\n",
    "names = {\"tom\":\"Tomatoes\", \"sug\":\"Sugar\", \"ws\":\"Washing Sponges\", \"fo\":\"Foil\"}\n",
    "#current_total = order_list[0][1] + order_list[1][1] + order_list[2][1] + order_list[3][1] + order_list[4][1]\n",
    "#print('current_total :',current_total)\n",
    "names.items()\n",
    "code_list = []\n",
    "name_list = []\n",
    "for k,v in names.items():\n",
    "    code_list.append(k)\n",
    "    name_list.append(v)\n",
    "print(code_list)\n",
    "print(name_list)"
   ]
  },
  {
   "cell_type": "code",
   "execution_count": null,
   "metadata": {},
   "outputs": [],
   "source": [
    "names = {\"tom\":\"Tomatoes\", \"sug\":\"Sugar\", \"ws\":\"Washing Sponges\", \"fo\":\"Foil\"}\n",
    "for key, value in names.items():\n",
    "    print(\"Item Code: {}\\nItem Name: £{}\\n\".format(key,value))"
   ]
  },
  {
   "cell_type": "code",
   "execution_count": 4,
   "metadata": {},
   "outputs": [
    {
     "name": "stdout",
     "output_type": "stream",
     "text": [
      "plaindrome\n"
     ]
    }
   ],
   "source": []
  },
  {
   "cell_type": "code",
   "execution_count": null,
   "metadata": {},
   "outputs": [],
   "source": []
  },
  {
   "cell_type": "code",
   "execution_count": null,
   "metadata": {},
   "outputs": [],
   "source": [
    "def fun_dummy(*args, **kwargs): # args = arguments, kwargs = key word arguments\n",
    "    print(args) # args is now a tuple\n",
    "    print(kwargs) # kwargs now is a dictionary\n",
    "\n",
    "fun_dummy(1, 2, 3, 5, 6, 2, 1, a=4, b=5, c=6)"
   ]
  },
  {
   "cell_type": "code",
   "execution_count": null,
   "metadata": {},
   "outputs": [],
   "source": []
  },
  {
   "cell_type": "code",
   "execution_count": null,
   "metadata": {},
   "outputs": [],
   "source": []
  },
  {
   "cell_type": "code",
   "execution_count": null,
   "metadata": {},
   "outputs": [],
   "source": []
  },
  {
   "cell_type": "code",
   "execution_count": null,
   "metadata": {},
   "outputs": [],
   "source": [
    "order_list = [(\"tom\", 0.87, 4),\n",
    "\n",
    "          (\"sug\", 1.09, 3), \n",
    "          \n",
    "          (\"ws\", 0.29, 4), \n",
    "          \n",
    "          (\"juc\", 1.89, 1), \n",
    "          \n",
    "          (\"fo\", 1.29, 2)]"
   ]
  },
  {
   "cell_type": "code",
   "execution_count": null,
   "metadata": {},
   "outputs": [],
   "source": []
  },
  {
   "cell_type": "code",
   "execution_count": null,
   "metadata": {},
   "outputs": [],
   "source": [
    "\n"
   ]
  },
  {
   "cell_type": "code",
   "execution_count": null,
   "metadata": {},
   "outputs": [],
   "source": [
    "dict = {'Name': 'Zara', 'skills': ['Cooking','painting','reading'], 'another' :{'Name': ['Zara'], 'skills': ['Cooking','painting','reading']}}\n",
    "\n",
    "dict.keys()\n",
    "x= dict ['another']\n",
    "x.keys()\n",
    "print(x)\n",
    "\n",
    "\n",
    "\n"
   ]
  },
  {
   "cell_type": "code",
   "execution_count": 7,
   "metadata": {},
   "outputs": [
    {
     "name": "stdout",
     "output_type": "stream",
     "text": [
      "?\n",
      "??\n",
      "???\n",
      "????\n",
      "?????\n",
      "????\n",
      "???\n",
      "??\n",
      "?\n"
     ]
    }
   ],
   "source": []
  },
  {
   "cell_type": "code",
   "execution_count": 6,
   "metadata": {},
   "outputs": [],
   "source": [
    "#%%\n",
    "mini = int(input('Enter the minimum number:'))\n",
    "maxi = int(input('Enter the maximum number:'))\n",
    "\n",
    "for i in range(mini, maxi+1):\n",
    "    prime = True\n",
    "    for j in range(2,i-1):\n",
    "        (i % j) == 0\n",
    "        prime = False\n",
    "    if prime == True:\n",
    "        print(i)"
   ]
  },
  {
   "cell_type": "code",
   "execution_count": null,
   "metadata": {},
   "outputs": [],
   "source": []
  },
  {
   "cell_type": "code",
   "execution_count": 13,
   "metadata": {},
   "outputs": [
    {
     "data": {
      "text/plain": [
       "['woof', 'meow', 6, 5, 4, 3, 2, 1]"
      ]
     },
     "execution_count": 13,
     "metadata": {},
     "output_type": "execute_result"
    }
   ],
   "source": [
    "spam = [1, 2, 3, 4, 5, 6, 'meow', 'woof']\n",
    "spam.reverse()\n",
    "spam"
   ]
  }
 ],
 "metadata": {
  "interpreter": {
   "hash": "39d388ca1b04e1a174574da37708eb359a2bcdc8ec40a682dcfb85d2b414fb91"
  },
  "kernelspec": {
   "display_name": "Python 3.9.7 64-bit ('p1': conda)",
   "language": "python",
   "name": "python3"
  },
  "language_info": {
   "codemirror_mode": {
    "name": "ipython",
    "version": 3
   },
   "file_extension": ".py",
   "mimetype": "text/x-python",
   "name": "python",
   "nbconvert_exporter": "python",
   "pygments_lexer": "ipython3",
   "version": "3.9.7"
  },
  "orig_nbformat": 4
 },
 "nbformat": 4,
 "nbformat_minor": 2
}
