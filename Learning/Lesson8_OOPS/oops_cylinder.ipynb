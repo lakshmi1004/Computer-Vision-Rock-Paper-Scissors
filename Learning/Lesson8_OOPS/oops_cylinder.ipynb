{
 "cells": [
  {
   "cell_type": "code",
   "execution_count": 3,
   "metadata": {},
   "outputs": [],
   "source": [
    "#cylinder:\n",
    "#volume =pi r**2 h\n",
    "#area = 2pi r(r + h)\n",
    "\n",
    "class Cylinder:\n",
    "    def __init__(self,height = 1,radius = 1):\n",
    "        self.height = height\n",
    "        self.radius = radius\n",
    "    def get_area(self):\n",
    "        return (3.14 * self.height * (self.radius)**2)\n",
    "    def get_volume(self):\n",
    "        return (3.14* 2* self.radius * (self.radius + self.height))\n",
    "    \n",
    "cylinder_Area = Cylinder()\n",
    "#cylinder_vol = Cylinder(2,2)\n",
    "#print(cylinder_Area.get_area())\n",
    "#print(cylinder_Area.get_volume())\n",
    "#print(cylinder_vol.volume())"
   ]
  },
  {
   "cell_type": "code",
   "execution_count": null,
   "metadata": {},
   "outputs": [],
   "source": []
  }
 ],
 "metadata": {
  "interpreter": {
   "hash": "39d388ca1b04e1a174574da37708eb359a2bcdc8ec40a682dcfb85d2b414fb91"
  },
  "kernelspec": {
   "display_name": "Python 3.9.7 ('p1')",
   "language": "python",
   "name": "python3"
  },
  "language_info": {
   "codemirror_mode": {
    "name": "ipython",
    "version": 3
   },
   "file_extension": ".py",
   "mimetype": "text/x-python",
   "name": "python",
   "nbconvert_exporter": "python",
   "pygments_lexer": "ipython3",
   "version": "3.9.7"
  },
  "orig_nbformat": 4
 },
 "nbformat": 4,
 "nbformat_minor": 2
}
