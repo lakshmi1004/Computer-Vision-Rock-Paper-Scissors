{
 "cells": [
  {
   "cell_type": "code",
   "execution_count": null,
   "metadata": {},
   "outputs": [],
   "source": [
    "\n",
    "import json\n",
    "from pprint import PrettyPrinter\n",
    "sample_dict = {\n",
    "    \"date_visited\":[2010-12-11,2011-4-10,2022-5-9],\n",
    "    \"user_id\": [122601, 122387,121853],\n",
    "    \"basket\":{\"price\":[5,10,20],\n",
    "              \"employee_name\": [\"Blair\", \"Jimmy\"],\n",
    "              \"id\":[4510,2510,3510] }\n",
    "}\n",
    "with open(\"test.json\",'w') as outfile:\n",
    "    test = json.dump(sample_dict,outfile)\n",
    "pp = PrettyPrinter(indent=2, compact=True)\n",
    "pp.pprint(test)\n",
    "\n"
   ]
  },
  {
   "cell_type": "code",
   "execution_count": null,
   "metadata": {},
   "outputs": [],
   "source": [
    "test_dict = {'a': 1, 'b': 2, 'c': 3, 'd': 4}\n",
    "with open('JSON_test.json', mode='w') as f:\n",
    "    json.dump(test_dict, f)"
   ]
  }
 ],
 "metadata": {
  "interpreter": {
   "hash": "309d55093c20dde78e2d73e41541ecb833faa4b88249672f334c68656f50009c"
  },
  "kernelspec": {
   "display_name": "Python 3.9.7 ('selenium')",
   "language": "python",
   "name": "python3"
  },
  "language_info": {
   "codemirror_mode": {
    "name": "ipython",
    "version": 3
   },
   "file_extension": ".py",
   "mimetype": "text/x-python",
   "name": "python",
   "nbconvert_exporter": "python",
   "pygments_lexer": "ipython3",
   "version": "3.9.7"
  },
  "orig_nbformat": 4
 },
 "nbformat": 4,
 "nbformat_minor": 2
}
