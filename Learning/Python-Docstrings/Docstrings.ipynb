{
 "cells": [
  {
   "cell_type": "markdown",
   "metadata": {},
   "source": [
    "Docstrings are another way to add comments, but they are more concrete and targeted to functions, methods, classes, modules, or even packages (as we will see later)\n",
    "\n",
    "Docstrings can be checked using the `__doc__` attribute, or using the help() built-in function"
   ]
  },
  {
   "cell_type": "markdown",
   "metadata": {},
   "source": [
    "Below example for Docstrings in Panda Modules."
   ]
  },
  {
   "cell_type": "code",
   "execution_count": 1,
   "metadata": {},
   "outputs": [
    {
     "name": "stdout",
     "output_type": "stream",
     "text": [
      "\n",
      "pandas - a powerful data analysis and manipulation library for Python\n",
      "=====================================================================\n",
      "\n",
      "**pandas** is a Python package providing fast, flexible, and expressive data\n",
      "structures designed to make working with \"relational\" or \"labeled\" data both\n",
      "easy and intuitive. It aims to be the fundamental high-level building block for\n",
      "doing practical, **real world** data analysis in Python. Additionally, it has\n",
      "the broader goal of becoming **the most powerful and flexible open source data\n",
      "analysis / manipulation tool available in any language**. It is already well on\n",
      "its way toward this goal.\n",
      "\n",
      "Main Features\n",
      "-------------\n",
      "Here are just a few of the things that pandas does well:\n",
      "\n",
      "  - Easy handling of missing data in floating point as well as non-floating\n",
      "    point data.\n",
      "  - Size mutability: columns can be inserted and deleted from DataFrame and\n",
      "    higher dimensional objects\n",
      "  - Automatic and explicit data alignment: objects can be explicitly aligned\n",
      "    to a set of labels, or the user can simply ignore the labels and let\n",
      "    `Series`, `DataFrame`, etc. automatically align the data for you in\n",
      "    computations.\n",
      "  - Powerful, flexible group by functionality to perform split-apply-combine\n",
      "    operations on data sets, for both aggregating and transforming data.\n",
      "  - Make it easy to convert ragged, differently-indexed data in other Python\n",
      "    and NumPy data structures into DataFrame objects.\n",
      "  - Intelligent label-based slicing, fancy indexing, and subsetting of large\n",
      "    data sets.\n",
      "  - Intuitive merging and joining data sets.\n",
      "  - Flexible reshaping and pivoting of data sets.\n",
      "  - Hierarchical labeling of axes (possible to have multiple labels per tick).\n",
      "  - Robust IO tools for loading data from flat files (CSV and delimited),\n",
      "    Excel files, databases, and saving/loading data from the ultrafast HDF5\n",
      "    format.\n",
      "  - Time series-specific functionality: date range generation and frequency\n",
      "    conversion, moving window statistics, date shifting and lagging.\n",
      "\n"
     ]
    }
   ],
   "source": [
    "import pandas as pd\n",
    "# help(pd)\n",
    "print(pd.__doc__)"
   ]
  },
  {
   "cell_type": "markdown",
   "metadata": {},
   "source": [
    "check docstrings of its methods"
   ]
  },
  {
   "cell_type": "code",
   "execution_count": 2,
   "metadata": {},
   "outputs": [
    {
     "name": "stdout",
     "output_type": "stream",
     "text": [
      "\n",
      "        Construct DataFrame from dict of array-like or dicts.\n",
      "\n",
      "        Creates DataFrame object from dictionary by columns or by index\n",
      "        allowing dtype specification.\n",
      "\n",
      "        Parameters\n",
      "        ----------\n",
      "        data : dict\n",
      "            Of the form {field : array-like} or {field : dict}.\n",
      "        orient : {'columns', 'index', 'tight'}, default 'columns'\n",
      "            The \"orientation\" of the data. If the keys of the passed dict\n",
      "            should be the columns of the resulting DataFrame, pass 'columns'\n",
      "            (default). Otherwise if the keys should be rows, pass 'index'.\n",
      "            If 'tight', assume a dict with keys ['index', 'columns', 'data',\n",
      "            'index_names', 'column_names'].\n",
      "\n",
      "            .. versionadded:: 1.4.0\n",
      "               'tight' as an allowed value for the ``orient`` argument\n",
      "\n",
      "        dtype : dtype, default None\n",
      "            Data type to force, otherwise infer.\n",
      "        columns : list, default None\n",
      "            Column labels to use when ``orient='index'``. Raises a ValueError\n",
      "            if used with ``orient='columns'`` or ``orient='tight'``.\n",
      "\n",
      "        Returns\n",
      "        -------\n",
      "        DataFrame\n",
      "\n",
      "        See Also\n",
      "        --------\n",
      "        DataFrame.from_records : DataFrame from structured ndarray, sequence\n",
      "            of tuples or dicts, or DataFrame.\n",
      "        DataFrame : DataFrame object creation using constructor.\n",
      "        DataFrame.to_dict : Convert the DataFrame to a dictionary.\n",
      "\n",
      "        Examples\n",
      "        --------\n",
      "        By default the keys of the dict become the DataFrame columns:\n",
      "\n",
      "        >>> data = {'col_1': [3, 2, 1, 0], 'col_2': ['a', 'b', 'c', 'd']}\n",
      "        >>> pd.DataFrame.from_dict(data)\n",
      "           col_1 col_2\n",
      "        0      3     a\n",
      "        1      2     b\n",
      "        2      1     c\n",
      "        3      0     d\n",
      "\n",
      "        Specify ``orient='index'`` to create the DataFrame using dictionary\n",
      "        keys as rows:\n",
      "\n",
      "        >>> data = {'row_1': [3, 2, 1, 0], 'row_2': ['a', 'b', 'c', 'd']}\n",
      "        >>> pd.DataFrame.from_dict(data, orient='index')\n",
      "               0  1  2  3\n",
      "        row_1  3  2  1  0\n",
      "        row_2  a  b  c  d\n",
      "\n",
      "        When using the 'index' orientation, the column names can be\n",
      "        specified manually:\n",
      "\n",
      "        >>> pd.DataFrame.from_dict(data, orient='index',\n",
      "        ...                        columns=['A', 'B', 'C', 'D'])\n",
      "               A  B  C  D\n",
      "        row_1  3  2  1  0\n",
      "        row_2  a  b  c  d\n",
      "\n",
      "        Specify ``orient='tight'`` to create the DataFrame using a 'tight'\n",
      "        format:\n",
      "\n",
      "        >>> data = {'index': [('a', 'b'), ('a', 'c')],\n",
      "        ...         'columns': [('x', 1), ('y', 2)],\n",
      "        ...         'data': [[1, 3], [2, 4]],\n",
      "        ...         'index_names': ['n1', 'n2'],\n",
      "        ...         'column_names': ['z1', 'z2']}\n",
      "        >>> pd.DataFrame.from_dict(data, orient='tight')\n",
      "        z1     x  y\n",
      "        z2     1  2\n",
      "        n1 n2\n",
      "        a  b   1  3\n",
      "           c   2  4\n",
      "        \n"
     ]
    }
   ],
   "source": [
    "print(pd.DataFrame.from_dict.__doc__)"
   ]
  },
  {
   "cell_type": "markdown",
   "metadata": {},
   "source": [
    "Docstrings for Functions "
   ]
  },
  {
   "cell_type": "code",
   "execution_count": 3,
   "metadata": {},
   "outputs": [
    {
     "name": "stdout",
     "output_type": "stream",
     "text": [
      "Help on function say_hi in module __main__:\n",
      "\n",
      "say_hi(name)\n",
      "\n"
     ]
    }
   ],
   "source": [
    "def say_hi(name):\n",
    "    # This function says hi to the user\n",
    "    print(f\"Hello {name}\")\n",
    "\n",
    "help(say_hi)"
   ]
  },
  {
   "cell_type": "code",
   "execution_count": 8,
   "metadata": {},
   "outputs": [
    {
     "name": "stdout",
     "output_type": "stream",
     "text": [
      "imhskalajaR\n",
      "['Kamalanathan', 'Rajalakshmi']\n"
     ]
    }
   ],
   "source": [
    "def reverse(name:str) ->str:\n",
    "    return name[::-1]\n",
    "\n",
    "print(reverse('Rajalakshmi'))\n",
    "print(reverse(['Rajalakshmi','Kamalanathan']))"
   ]
  }
 ],
 "metadata": {
  "interpreter": {
   "hash": "309d55093c20dde78e2d73e41541ecb833faa4b88249672f334c68656f50009c"
  },
  "kernelspec": {
   "display_name": "Python 3.9.7 ('selenium')",
   "language": "python",
   "name": "python3"
  },
  "language_info": {
   "codemirror_mode": {
    "name": "ipython",
    "version": 3
   },
   "file_extension": ".py",
   "mimetype": "text/x-python",
   "name": "python",
   "nbconvert_exporter": "python",
   "pygments_lexer": "ipython3",
   "version": "3.9.7"
  },
  "orig_nbformat": 4
 },
 "nbformat": 4,
 "nbformat_minor": 2
}
